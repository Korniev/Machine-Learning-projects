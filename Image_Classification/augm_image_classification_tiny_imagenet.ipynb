{
  "cells": [
    {
      "cell_type": "markdown",
      "metadata": {
        "id": "view-in-github",
        "colab_type": "text"
      },
      "source": [
        "<a href=\"https://colab.research.google.com/github/Korniev/Machine-Learning-projects/blob/main/Image_Classification/augm_image_classification_tiny_imagenet.ipynb\" target=\"_parent\"><img src=\"https://colab.research.google.com/assets/colab-badge.svg\" alt=\"Open In Colab\"/></a>"
      ]
    },
    {
      "cell_type": "markdown",
      "source": [
        "Import libraries:"
      ],
      "metadata": {
        "id": "y05ocGn0L1PH"
      }
    },
    {
      "cell_type": "code",
      "execution_count": null,
      "metadata": {
        "id": "vsXqvlafahrb"
      },
      "outputs": [],
      "source": [
        "import tensorflow as tf\n",
        "import matplotlib.pyplot as plt\n",
        "import pandas as pd\n",
        "import numpy as np\n",
        "from tensorflow.keras.applications import ResNet50, EfficientNetB3\n",
        "from tensorflow.keras.preprocessing.image import ImageDataGenerator\n",
        "from keras.layers import Dense, GlobalAveragePooling2D, Dropout, BatchNormalization\n",
        "from keras.models import Model\n",
        "from keras.optimizers import Adam\n",
        "from keras.callbacks import EarlyStopping, ReduceLROnPlateau, LearningRateScheduler\n",
        "import zipfile\n",
        "import os\n",
        "import shutil"
      ]
    },
    {
      "cell_type": "markdown",
      "source": [
        "Extract the uploaded file and Assuming the uploaded file is named 'archive.zip':"
      ],
      "metadata": {
        "id": "_ljtApXuLgCz"
      }
    },
    {
      "cell_type": "code",
      "execution_count": null,
      "metadata": {
        "id": "NUzlU1e3ajHo"
      },
      "outputs": [],
      "source": [
        "zip_path = '/content/drive/MyDrive/Colab Notebooks/archive.zip'\n",
        "with zipfile.ZipFile(zip_path, 'r') as zip_ref:\n",
        "    zip_ref.extractall('/content')"
      ]
    },
    {
      "cell_type": "markdown",
      "source": [
        "Verify the extracted files:"
      ],
      "metadata": {
        "id": "chUx-M6RLvhA"
      }
    },
    {
      "cell_type": "code",
      "source": [
        "!ls /content/tiny-imagenet-200"
      ],
      "metadata": {
        "id": "e0seJOsRLyMF",
        "colab": {
          "base_uri": "https://localhost:8080/"
        },
        "outputId": "65a3ee11-31e2-43ab-84a7-4927d6449d02"
      },
      "execution_count": null,
      "outputs": [
        {
          "output_type": "stream",
          "name": "stdout",
          "text": [
            "test  train  val  wnids.txt  words.txt\n"
          ]
        }
      ]
    },
    {
      "cell_type": "markdown",
      "source": [
        "Let's make some manipulations for dataset"
      ],
      "metadata": {
        "id": "9cYq6UV4L_8R"
      }
    },
    {
      "cell_type": "code",
      "source": [
        "val_dir = '/content/tiny-imagenet-200/val'\n",
        "val_images_dir = os.path.join(val_dir, 'images')\n",
        "val_annotations_file = os.path.join(val_dir, 'val_annotations.txt')\n"
      ],
      "metadata": {
        "id": "ejLbTZg5V1s7"
      },
      "execution_count": null,
      "outputs": []
    },
    {
      "cell_type": "markdown",
      "source": [
        "Create subdirectories for each class and then remove the now-empty images directory:"
      ],
      "metadata": {
        "id": "EcDznjxSMD33"
      }
    },
    {
      "cell_type": "code",
      "source": [
        "with open(val_annotations_file, 'r') as f:\n",
        "    for line in f.readlines():\n",
        "        parts = line.strip().split('\\t')\n",
        "        image_name = parts[0]\n",
        "        class_name = parts[1]\n",
        "\n",
        "        class_dir = os.path.join(val_dir, class_name)\n",
        "        if not os.path.exists(class_dir):\n",
        "            os.makedirs(class_dir)\n",
        "\n",
        "        source = os.path.join(val_images_dir, image_name)\n",
        "        destination = os.path.join(class_dir, image_name)\n",
        "        shutil.move(source, destination)\n",
        "\n",
        "shutil.rmtree(val_images_dir)"
      ],
      "metadata": {
        "id": "9ur8CNJxMHsT"
      },
      "execution_count": null,
      "outputs": []
    },
    {
      "cell_type": "markdown",
      "source": [
        "Define paths:"
      ],
      "metadata": {
        "id": "m8ipZAN9MMmu"
      }
    },
    {
      "cell_type": "code",
      "source": [
        "train_dir = './tiny-imagenet-200/train'\n",
        "val_dir = './tiny-imagenet-200/val'"
      ],
      "metadata": {
        "id": "G7A7HGEfMSYN"
      },
      "execution_count": null,
      "outputs": []
    },
    {
      "cell_type": "markdown",
      "source": [
        "Define image data generators with enhanced data augmentation:"
      ],
      "metadata": {
        "id": "ah7gOHIJMTHo"
      }
    },
    {
      "cell_type": "code",
      "execution_count": null,
      "metadata": {
        "id": "Uvd_ctwJXSZR",
        "colab": {
          "base_uri": "https://localhost:8080/"
        },
        "outputId": "24cf9e97-801e-47c4-81b8-515be80544fc"
      },
      "outputs": [
        {
          "output_type": "stream",
          "name": "stdout",
          "text": [
            "Found 100000 images belonging to 200 classes.\n",
            "Found 10000 images belonging to 200 classes.\n"
          ]
        }
      ],
      "source": [
        "train_datagen = ImageDataGenerator(\n",
        "    rescale=1./255,\n",
        "    rotation_range=40,\n",
        "    width_shift_range=0.3,\n",
        "    height_shift_range=0.3,\n",
        "    shear_range=0.3,\n",
        "    zoom_range=0.3,\n",
        "    horizontal_flip=True,\n",
        "    fill_mode='nearest'\n",
        ")\n",
        "val_datagen = ImageDataGenerator(rescale=1./255)\n",
        "\n",
        "train_generator = train_datagen.flow_from_directory(\n",
        "    train_dir,\n",
        "    target_size=(64, 64),\n",
        "    batch_size=32,\n",
        "    class_mode='categorical'\n",
        ")\n",
        "\n",
        "val_generator = val_datagen.flow_from_directory(\n",
        "    val_dir,\n",
        "    target_size=(64, 64),\n",
        "    batch_size=32,\n",
        "    class_mode='categorical'\n",
        ")\n"
      ]
    },
    {
      "cell_type": "markdown",
      "source": [
        "Load the pre-trained EfficientNetB3 model:"
      ],
      "metadata": {
        "id": "py7CcYNrMZOf"
      }
    },
    {
      "cell_type": "code",
      "source": [
        "base_model = EfficientNetB3(weights='imagenet', include_top=False, input_shape=(64, 64, 3))"
      ],
      "metadata": {
        "id": "nicpepKrMbZE",
        "colab": {
          "base_uri": "https://localhost:8080/"
        },
        "outputId": "0a88d944-0986-40fa-e642-f2f542e329cc"
      },
      "execution_count": null,
      "outputs": [
        {
          "output_type": "stream",
          "name": "stdout",
          "text": [
            "Downloading data from https://storage.googleapis.com/keras-applications/efficientnetb3_notop.h5\n",
            "\u001b[1m43941136/43941136\u001b[0m \u001b[32m━━━━━━━━━━━━━━━━━━━━\u001b[0m\u001b[37m\u001b[0m \u001b[1m2s\u001b[0m 0us/step\n"
          ]
        }
      ]
    },
    {
      "cell_type": "markdown",
      "source": [
        "Add custom layers on top:"
      ],
      "metadata": {
        "id": "pzLKm8AxMg30"
      }
    },
    {
      "cell_type": "code",
      "source": [
        "x = base_model.output\n",
        "x = GlobalAveragePooling2D()(x)\n",
        "x = Dense(1024, activation='relu', kernel_regularizer=tf.keras.regularizers.l2(0.01))(x)\n",
        "x = BatchNormalization()(x)\n",
        "x = Dropout(0.5)(x)\n",
        "predictions = Dense(200, activation='softmax')(x)\n",
        "\n",
        "model = Model(inputs=base_model.input, outputs=predictions)"
      ],
      "metadata": {
        "id": "311Zj-sOMnDb"
      },
      "execution_count": null,
      "outputs": []
    },
    {
      "cell_type": "markdown",
      "source": [
        "Fine-tune the entire model by unfreeze the last 100 layers:"
      ],
      "metadata": {
        "id": "zaD3bRTkMnj8"
      }
    },
    {
      "cell_type": "code",
      "source": [
        "for layer in base_model.layers[-100:]:\n",
        "    layer.trainable = True"
      ],
      "metadata": {
        "id": "ZI-Svz-nMvVl"
      },
      "execution_count": null,
      "outputs": []
    },
    {
      "cell_type": "markdown",
      "source": [
        "Compile the model:"
      ],
      "metadata": {
        "id": "Ena8yWCKMxYF"
      }
    },
    {
      "cell_type": "code",
      "source": [
        "model.compile(optimizer=Adam(learning_rate=0.0001), loss='categorical_crossentropy', metrics=['accuracy'])"
      ],
      "metadata": {
        "id": "Ahr9j6_JMzVR"
      },
      "execution_count": null,
      "outputs": []
    },
    {
      "cell_type": "markdown",
      "source": [
        "Define a learning rate scheduler and callbacks:"
      ],
      "metadata": {
        "id": "UlmpLfptM2N8"
      }
    },
    {
      "cell_type": "code",
      "source": [
        "def scheduler(epoch, lr):\n",
        "    if epoch < 10:\n",
        "        return lr\n",
        "    else:\n",
        "        return float(lr * tf.math.exp(-0.1))\n",
        "\n",
        "lr_scheduler = LearningRateScheduler(scheduler)\n",
        "\n",
        "# Define callbacks\n",
        "early_stopping = EarlyStopping(monitor='val_loss', patience=7, restore_best_weights=True)\n",
        "reduce_lr = ReduceLROnPlateau(monitor='val_loss', factor=0.2, patience=4, min_lr=0.000001)"
      ],
      "metadata": {
        "id": "2oUKgJOxM5RR"
      },
      "execution_count": null,
      "outputs": []
    },
    {
      "cell_type": "markdown",
      "source": [
        "Train the model:"
      ],
      "metadata": {
        "id": "SeqM21u6M9y4"
      }
    },
    {
      "cell_type": "code",
      "execution_count": null,
      "metadata": {
        "id": "j7Np_5TyXoGE",
        "colab": {
          "base_uri": "https://localhost:8080/"
        },
        "outputId": "219317f9-5d0f-47db-e753-2693236ca805"
      },
      "outputs": [
        {
          "output_type": "stream",
          "name": "stdout",
          "text": [
            "Epoch 1/15\n"
          ]
        },
        {
          "output_type": "stream",
          "name": "stderr",
          "text": [
            "/usr/local/lib/python3.10/dist-packages/keras/src/trainers/data_adapters/py_dataset_adapter.py:121: UserWarning: Your `PyDataset` class should call `super().__init__(**kwargs)` in its constructor. `**kwargs` can include `workers`, `use_multiprocessing`, `max_queue_size`. Do not pass these arguments to `fit()`, as they will be ignored.\n",
            "  self._warn_if_super_not_called()\n"
          ]
        },
        {
          "output_type": "stream",
          "name": "stdout",
          "text": [
            "\u001b[1m3125/3125\u001b[0m \u001b[32m━━━━━━━━━━━━━━━━━━━━\u001b[0m\u001b[37m\u001b[0m \u001b[1m471s\u001b[0m 112ms/step - accuracy: 0.0409 - loss: 15.5603 - val_accuracy: 0.3068 - val_loss: 7.4312 - learning_rate: 1.0000e-04\n",
            "Epoch 2/15\n",
            "\u001b[1m3125/3125\u001b[0m \u001b[32m━━━━━━━━━━━━━━━━━━━━\u001b[0m\u001b[37m\u001b[0m \u001b[1m382s\u001b[0m 112ms/step - accuracy: 0.2258 - loss: 6.9983 - val_accuracy: 0.4187 - val_loss: 4.0969 - learning_rate: 1.0000e-04\n",
            "Epoch 3/15\n",
            "\u001b[1m3125/3125\u001b[0m \u001b[32m━━━━━━━━━━━━━━━━━━━━\u001b[0m\u001b[37m\u001b[0m \u001b[1m298s\u001b[0m 95ms/step - accuracy: 0.3267 - loss: 4.2784 - val_accuracy: 0.4684 - val_loss: 3.1543 - learning_rate: 1.0000e-04\n",
            "Epoch 4/15\n",
            "\u001b[1m3125/3125\u001b[0m \u001b[32m━━━━━━━━━━━━━━━━━━━━\u001b[0m\u001b[37m\u001b[0m \u001b[1m309s\u001b[0m 91ms/step - accuracy: 0.3820 - loss: 3.3560 - val_accuracy: 0.4871 - val_loss: 2.8340 - learning_rate: 1.0000e-04\n",
            "Epoch 5/15\n",
            "\u001b[1m3125/3125\u001b[0m \u001b[32m━━━━━━━━━━━━━━━━━━━━\u001b[0m\u001b[37m\u001b[0m \u001b[1m328s\u001b[0m 93ms/step - accuracy: 0.4202 - loss: 2.9748 - val_accuracy: 0.5031 - val_loss: 2.7260 - learning_rate: 1.0000e-04\n",
            "Epoch 6/15\n",
            "\u001b[1m3125/3125\u001b[0m \u001b[32m━━━━━━━━━━━━━━━━━━━━\u001b[0m\u001b[37m\u001b[0m \u001b[1m323s\u001b[0m 103ms/step - accuracy: 0.4487 - loss: 2.7648 - val_accuracy: 0.5195 - val_loss: 2.5516 - learning_rate: 1.0000e-04\n",
            "Epoch 7/15\n",
            "\u001b[1m3125/3125\u001b[0m \u001b[32m━━━━━━━━━━━━━━━━━━━━\u001b[0m\u001b[37m\u001b[0m \u001b[1m283s\u001b[0m 90ms/step - accuracy: 0.4729 - loss: 2.6066 - val_accuracy: 0.5309 - val_loss: 2.5315 - learning_rate: 1.0000e-04\n",
            "Epoch 8/15\n",
            "\u001b[1m3125/3125\u001b[0m \u001b[32m━━━━━━━━━━━━━━━━━━━━\u001b[0m\u001b[37m\u001b[0m \u001b[1m325s\u001b[0m 91ms/step - accuracy: 0.4918 - loss: 2.4907 - val_accuracy: 0.5361 - val_loss: 2.5011 - learning_rate: 1.0000e-04\n",
            "Epoch 9/15\n",
            "\u001b[1m3125/3125\u001b[0m \u001b[32m━━━━━━━━━━━━━━━━━━━━\u001b[0m\u001b[37m\u001b[0m \u001b[1m321s\u001b[0m 91ms/step - accuracy: 0.5018 - loss: 2.4105 - val_accuracy: 0.5405 - val_loss: 2.4456 - learning_rate: 1.0000e-04\n",
            "Epoch 10/15\n",
            "\u001b[1m3125/3125\u001b[0m \u001b[32m━━━━━━━━━━━━━━━━━━━━\u001b[0m\u001b[37m\u001b[0m \u001b[1m321s\u001b[0m 91ms/step - accuracy: 0.5197 - loss: 2.3226 - val_accuracy: 0.5507 - val_loss: 2.3997 - learning_rate: 1.0000e-04\n",
            "Epoch 11/15\n",
            "\u001b[1m3125/3125\u001b[0m \u001b[32m━━━━━━━━━━━━━━━━━━━━\u001b[0m\u001b[37m\u001b[0m \u001b[1m313s\u001b[0m 88ms/step - accuracy: 0.5341 - loss: 2.2206 - val_accuracy: 0.5413 - val_loss: 2.4131 - learning_rate: 9.0484e-05\n",
            "Epoch 12/15\n",
            "\u001b[1m3125/3125\u001b[0m \u001b[32m━━━━━━━━━━━━━━━━━━━━\u001b[0m\u001b[37m\u001b[0m \u001b[1m282s\u001b[0m 90ms/step - accuracy: 0.5548 - loss: 2.1225 - val_accuracy: 0.5585 - val_loss: 2.3281 - learning_rate: 8.1873e-05\n",
            "Epoch 13/15\n",
            "\u001b[1m3125/3125\u001b[0m \u001b[32m━━━━━━━━━━━━━━━━━━━━\u001b[0m\u001b[37m\u001b[0m \u001b[1m290s\u001b[0m 93ms/step - accuracy: 0.5685 - loss: 2.0230 - val_accuracy: 0.5551 - val_loss: 2.2865 - learning_rate: 7.4082e-05\n",
            "Epoch 14/15\n",
            "\u001b[1m3125/3125\u001b[0m \u001b[32m━━━━━━━━━━━━━━━━━━━━\u001b[0m\u001b[37m\u001b[0m \u001b[1m309s\u001b[0m 89ms/step - accuracy: 0.5780 - loss: 1.9557 - val_accuracy: 0.5602 - val_loss: 2.2542 - learning_rate: 6.7032e-05\n",
            "Epoch 15/15\n",
            "\u001b[1m3125/3125\u001b[0m \u001b[32m━━━━━━━━━━━━━━━━━━━━\u001b[0m\u001b[37m\u001b[0m \u001b[1m322s\u001b[0m 89ms/step - accuracy: 0.5943 - loss: 1.8607 - val_accuracy: 0.5653 - val_loss: 2.1953 - learning_rate: 6.0653e-05\n"
          ]
        }
      ],
      "source": [
        "history = model.fit(\n",
        "    train_generator,\n",
        "    epochs=15,\n",
        "    validation_data=val_generator,\n",
        "    callbacks=[early_stopping, reduce_lr, lr_scheduler]\n",
        ")"
      ]
    },
    {
      "cell_type": "markdown",
      "source": [
        "Let's evaluate the model:"
      ],
      "metadata": {
        "id": "5KGI7a7XNBm7"
      }
    },
    {
      "cell_type": "code",
      "source": [
        "val_loss, val_accuracy = model.evaluate(val_generator)\n",
        "print(f'Validation Accuracy: {val_accuracy}')"
      ],
      "metadata": {
        "id": "TnCZp18Hn69J",
        "colab": {
          "base_uri": "https://localhost:8080/"
        },
        "outputId": "e7a1cfdb-bf60-47bd-b820-2b084c9cc05f"
      },
      "execution_count": null,
      "outputs": [
        {
          "output_type": "stream",
          "name": "stdout",
          "text": [
            "\u001b[1m313/313\u001b[0m \u001b[32m━━━━━━━━━━━━━━━━━━━━\u001b[0m\u001b[37m\u001b[0m \u001b[1m6s\u001b[0m 19ms/step - accuracy: 0.5652 - loss: 2.1967\n",
            "Validation Accuracy: 0.5652999877929688\n"
          ]
        }
      ]
    },
    {
      "cell_type": "markdown",
      "source": [
        "**Let's visualize prediction:**"
      ],
      "metadata": {
        "id": "Oxb-ef1XNIeM"
      }
    },
    {
      "cell_type": "code",
      "source": [
        "from tensorflow.keras.preprocessing.image import load_img, img_to_array\n",
        "from tensorflow.keras.applications.resnet50 import preprocess_input\n",
        "from tensorflow.keras.models import load_model"
      ],
      "metadata": {
        "id": "JVmBg5DINMSM"
      },
      "execution_count": null,
      "outputs": []
    },
    {
      "cell_type": "code",
      "source": [
        "# Create a mapping from synset IDs to human-readable labels\n",
        "def load_class_labels(filepath):\n",
        "    class_labels = {}\n",
        "    with open(filepath, 'r') as f:\n",
        "        for line in f.readlines():\n",
        "            parts = line.strip().split('\\t')\n",
        "            synset_id = parts[0]\n",
        "            label = parts[1]\n",
        "            class_labels[synset_id] = label\n",
        "    return class_labels\n",
        "\n",
        "class_labels = load_class_labels('/content/tiny-imagenet-200/words.txt')\n"
      ],
      "metadata": {
        "id": "0vtXbzpP9DoB"
      },
      "execution_count": null,
      "outputs": []
    },
    {
      "cell_type": "markdown",
      "source": [
        "Define a function to load, preprocess, and predict an image:"
      ],
      "metadata": {
        "id": "jixtCpPkNOWg"
      }
    },
    {
      "cell_type": "code",
      "source": [
        "def predict_and_visualize(image_path, model, class_indices, class_labels):\n",
        "    # Load and preprocess the image\n",
        "    img = load_img(image_path, target_size=(64, 64))\n",
        "    img_array = img_to_array(img)\n",
        "    img_array = np.expand_dims(img_array, axis=0)\n",
        "    img_array = preprocess_input(img_array)\n",
        "\n",
        "    # Make predictions\n",
        "    predictions = model.predict(img_array)\n",
        "    predicted_class_index = np.argmax(predictions, axis=1)[0]\n",
        "\n",
        "    # Decode the prediction\n",
        "    class_labels_reverse = {v: k for k, v in class_indices.items()}\n",
        "    predicted_synset_id = class_labels_reverse[predicted_class_index]\n",
        "    predicted_class_label = class_labels[predicted_synset_id]\n",
        "\n",
        "    # Print prediction probabilities for debugging\n",
        "    print(f\"Predictions: {predictions}\")\n",
        "    print(f\"Predicted class index: {predicted_class_index}\")\n",
        "    print(f\"Predicted synset ID: {predicted_synset_id}\")\n",
        "    print(f\"Predicted class label: {predicted_class_label}\")\n",
        "\n",
        "    # Visualize the result\n",
        "    plt.imshow(img)\n",
        "    plt.title(f'Predicted: {predicted_class_label} (Class {predicted_class_index})')\n",
        "    plt.axis('off')\n",
        "    plt.show()"
      ],
      "metadata": {
        "id": "fMIPDG6e9R5E"
      },
      "execution_count": null,
      "outputs": []
    },
    {
      "cell_type": "markdown",
      "source": [
        "Assume 'class_indices' is a dictionary mapping class names to their index:"
      ],
      "metadata": {
        "id": "2GipmwXYNSuK"
      }
    },
    {
      "cell_type": "code",
      "source": [
        "class_indices = train_generator.class_indices"
      ],
      "metadata": {
        "id": "QIYwRQCuNTi_"
      },
      "execution_count": null,
      "outputs": []
    },
    {
      "cell_type": "markdown",
      "source": [
        "Test the function with an example image:"
      ],
      "metadata": {
        "id": "oZnwFgylNWiH"
      }
    },
    {
      "cell_type": "code",
      "source": [
        "predict_and_visualize('/content/1.png', model, class_indices, class_labels)"
      ],
      "metadata": {
        "id": "eVdoA48TNaI1",
        "colab": {
          "base_uri": "https://localhost:8080/",
          "height": 660
        },
        "outputId": "06b7b1f7-3dc8-4463-9b43-a5ecb22bb026"
      },
      "execution_count": null,
      "outputs": [
        {
          "output_type": "stream",
          "name": "stdout",
          "text": [
            "\u001b[1m1/1\u001b[0m \u001b[32m━━━━━━━━━━━━━━━━━━━━\u001b[0m\u001b[37m\u001b[0m \u001b[1m10s\u001b[0m 10s/step\n",
            "Predictions: [[0. 0. 0. 0. 0. 0. 0. 0. 0. 0. 0. 0. 0. 0. 0. 0. 0. 0. 0. 0. 0. 0. 0. 0.\n",
            "  0. 0. 0. 0. 0. 0. 0. 0. 0. 0. 0. 0. 0. 0. 0. 0. 0. 0. 0. 0. 0. 0. 0. 1.\n",
            "  0. 0. 0. 0. 0. 0. 0. 0. 0. 0. 0. 0. 0. 0. 0. 0. 0. 0. 0. 0. 0. 0. 0. 0.\n",
            "  0. 0. 0. 0. 0. 0. 0. 0. 0. 0. 0. 0. 0. 0. 0. 0. 0. 0. 0. 0. 0. 0. 0. 0.\n",
            "  0. 0. 0. 0. 0. 0. 0. 0. 0. 0. 0. 0. 0. 0. 0. 0. 0. 0. 0. 0. 0. 0. 0. 0.\n",
            "  0. 0. 0. 0. 0. 0. 0. 0. 0. 0. 0. 0. 0. 0. 0. 0. 0. 0. 0. 0. 0. 0. 0. 0.\n",
            "  0. 0. 0. 0. 0. 0. 0. 0. 0. 0. 0. 0. 0. 0. 0. 0. 0. 0. 0. 0. 0. 0. 0. 0.\n",
            "  0. 0. 0. 0. 0. 0. 0. 0. 0. 0. 0. 0. 0. 0. 0. 0. 0. 0. 0. 0. 0. 0. 0. 0.\n",
            "  0. 0. 0. 0. 0. 0. 0. 0.]]\n",
            "Predicted class index: 47\n",
            "Predicted synset ID: n02364673\n",
            "Predicted class label: guinea pig, Cavia cobaya\n"
          ]
        },
        {
          "output_type": "display_data",
          "data": {
            "text/plain": [
              "<Figure size 640x480 with 1 Axes>"
            ],
            "image/png": "[encoded data removed]"
          },
          "metadata": {}
        }
      ]
    },
    {
      "cell_type": "markdown",
      "source": [
        "Get true labels and predicted labels for the validation set"
      ],
      "metadata": {
        "id": "OqD8krZN_-9D"
      }
    },
    {
      "cell_type": "code",
      "source": [
        "true_labels = []\n",
        "predicted_labels = []\n",
        "\n",
        "for images, labels in val_generator:\n",
        "    predictions = model.predict(images)\n",
        "    predicted_labels.extend(np.argmax(predictions, axis=1))\n",
        "    true_labels.extend(np.argmax(labels, axis=1))\n",
        "    if len(true_labels) >= val_generator.samples:\n",
        "        break\n",
        "\n",
        "true_labels = np.array(true_labels)\n",
        "predicted_labels = np.array(predicted_labels)"
      ],
      "metadata": {
        "colab": {
          "base_uri": "https://localhost:8080/"
        },
        "id": "jzs7nLDa__Uc",
        "outputId": "3240873b-54dc-4b0c-80bd-3435d627984a"
      },
      "execution_count": null,
      "outputs": [
        {
          "output_type": "stream",
          "name": "stdout",
          "text": [
            "\u001b[1m1/1\u001b[0m \u001b[32m━━━━━━━━━━━━━━━━━━━━\u001b[0m\u001b[37m\u001b[0m \u001b[1m9s\u001b[0m 9s/step\n",
            "\u001b[1m1/1\u001b[0m \u001b[32m━━━━━━━━━━━━━━━━━━━━\u001b[0m\u001b[37m\u001b[0m \u001b[1m0s\u001b[0m 27ms/step\n",
            "\u001b[1m1/1\u001b[0m \u001b[32m━━━━━━━━━━━━━━━━━━━━\u001b[0m\u001b[37m\u001b[0m \u001b[1m0s\u001b[0m 26ms/step\n",
            "\u001b[1m1/1\u001b[0m \u001b[32m━━━━━━━━━━━━━━━━━━━━\u001b[0m\u001b[37m\u001b[0m \u001b[1m0s\u001b[0m 25ms/step\n",
            "\u001b[1m1/1\u001b[0m \u001b[32m━━━━━━━━━━━━━━━━━━━━\u001b[0m\u001b[37m\u001b[0m \u001b[1m0s\u001b[0m 25ms/step\n",
            "\u001b[1m1/1\u001b[0m \u001b[32m━━━━━━━━━━━━━━━━━━━━\u001b[0m\u001b[37m\u001b[0m \u001b[1m0s\u001b[0m 25ms/step\n",
            "\u001b[1m1/1\u001b[0m \u001b[32m━━━━━━━━━━━━━━━━━━━━\u001b[0m\u001b[37m\u001b[0m \u001b[1m0s\u001b[0m 27ms/step\n",
            "\u001b[1m1/1\u001b[0m \u001b[32m━━━━━━━━━━━━━━━━━━━━\u001b[0m\u001b[37m\u001b[0m \u001b[1m0s\u001b[0m 29ms/step\n",
            "\u001b[1m1/1\u001b[0m \u001b[32m━━━━━━━━━━━━━━━━━━━━\u001b[0m\u001b[37m\u001b[0m \u001b[1m0s\u001b[0m 25ms/step\n",
            "\u001b[1m1/1\u001b[0m \u001b[32m━━━━━━━━━━━━━━━━━━━━\u001b[0m\u001b[37m\u001b[0m \u001b[1m0s\u001b[0m 26ms/step\n",
            "\u001b[1m1/1\u001b[0m \u001b[32m━━━━━━━━━━━━━━━━━━━━\u001b[0m\u001b[37m\u001b[0m \u001b[1m0s\u001b[0m 27ms/step\n",
            "\u001b[1m1/1\u001b[0m \u001b[32m━━━━━━━━━━━━━━━━━━━━\u001b[0m\u001b[37m\u001b[0m \u001b[1m0s\u001b[0m 25ms/step\n",
            "\u001b[1m1/1\u001b[0m \u001b[32m━━━━━━━━━━━━━━━━━━━━\u001b[0m\u001b[37m\u001b[0m \u001b[1m0s\u001b[0m 27ms/step\n",
            "\u001b[1m1/1\u001b[0m \u001b[32m━━━━━━━━━━━━━━━━━━━━\u001b[0m\u001b[37m\u001b[0m \u001b[1m0s\u001b[0m 25ms/step\n",
            "\u001b[1m1/1\u001b[0m \u001b[32m━━━━━━━━━━━━━━━━━━━━\u001b[0m\u001b[37m\u001b[0m \u001b[1m0s\u001b[0m 25ms/step\n",
            "\u001b[1m1/1\u001b[0m \u001b[32m━━━━━━━━━━━━━━━━━━━━\u001b[0m\u001b[37m\u001b[0m \u001b[1m0s\u001b[0m 25ms/step\n",
            "\u001b[1m1/1\u001b[0m \u001b[32m━━━━━━━━━━━━━━━━━━━━\u001b[0m\u001b[37m\u001b[0m \u001b[1m0s\u001b[0m 32ms/step\n",
            "\u001b[1m1/1\u001b[0m \u001b[32m━━━━━━━━━━━━━━━━━━━━\u001b[0m\u001b[37m\u001b[0m \u001b[1m0s\u001b[0m 25ms/step\n",
            "\u001b[1m1/1\u001b[0m \u001b[32m━━━━━━━━━━━━━━━━━━━━\u001b[0m\u001b[37m\u001b[0m \u001b[1m0s\u001b[0m 25ms/step\n",
            "\u001b[1m1/1\u001b[0m \u001b[32m━━━━━━━━━━━━━━━━━━━━\u001b[0m\u001b[37m\u001b[0m \u001b[1m0s\u001b[0m 26ms/step\n",
            "\u001b[1m1/1\u001b[0m \u001b[32m━━━━━━━━━━━━━━━━━━━━\u001b[0m\u001b[37m\u001b[0m \u001b[1m0s\u001b[0m 27ms/step\n",
            "\u001b[1m1/1\u001b[0m \u001b[32m━━━━━━━━━━━━━━━━━━━━\u001b[0m\u001b[37m\u001b[0m \u001b[1m0s\u001b[0m 26ms/step\n",
            "\u001b[1m1/1\u001b[0m \u001b[32m━━━━━━━━━━━━━━━━━━━━\u001b[0m\u001b[37m\u001b[0m \u001b[1m0s\u001b[0m 27ms/step\n",
            "\u001b[1m1/1\u001b[0m \u001b[32m━━━━━━━━━━━━━━━━━━━━\u001b[0m\u001b[37m\u001b[0m \u001b[1m0s\u001b[0m 25ms/step\n",
            "\u001b[1m1/1\u001b[0m \u001b[32m━━━━━━━━━━━━━━━━━━━━\u001b[0m\u001b[37m\u001b[0m \u001b[1m0s\u001b[0m 25ms/step\n",
            "\u001b[1m1/1\u001b[0m \u001b[32m━━━━━━━━━━━━━━━━━━━━\u001b[0m\u001b[37m\u001b[0m \u001b[1m0s\u001b[0m 25ms/step\n",
            "\u001b[1m1/1\u001b[0m \u001b[32m━━━━━━━━━━━━━━━━━━━━\u001b[0m\u001b[37m\u001b[0m \u001b[1m0s\u001b[0m 28ms/step\n",
            "\u001b[1m1/1\u001b[0m \u001b[32m━━━━━━━━━━━━━━━━━━━━\u001b[0m\u001b[37m\u001b[0m \u001b[1m0s\u001b[0m 32ms/step\n",
            "\u001b[1m1/1\u001b[0m \u001b[32m━━━━━━━━━━━━━━━━━━━━\u001b[0m\u001b[37m\u001b[0m \u001b[1m0s\u001b[0m 26ms/step\n",
            "\u001b[1m1/1\u001b[0m \u001b[32m━━━━━━━━━━━━━━━━━━━━\u001b[0m\u001b[37m\u001b[0m \u001b[1m0s\u001b[0m 31ms/step\n",
            "\u001b[1m1/1\u001b[0m \u001b[32m━━━━━━━━━━━━━━━━━━━━\u001b[0m\u001b[37m\u001b[0m \u001b[1m0s\u001b[0m 37ms/step\n",
            "\u001b[1m1/1\u001b[0m \u001b[32m━━━━━━━━━━━━━━━━━━━━\u001b[0m\u001b[37m\u001b[0m \u001b[1m0s\u001b[0m 27ms/step\n",
            "\u001b[1m1/1\u001b[0m \u001b[32m━━━━━━━━━━━━━━━━━━━━\u001b[0m\u001b[37m\u001b[0m \u001b[1m0s\u001b[0m 25ms/step\n",
            "\u001b[1m1/1\u001b[0m \u001b[32m━━━━━━━━━━━━━━━━━━━━\u001b[0m\u001b[37m\u001b[0m \u001b[1m0s\u001b[0m 25ms/step\n",
            "\u001b[1m1/1\u001b[0m \u001b[32m━━━━━━━━━━━━━━━━━━━━\u001b[0m\u001b[37m\u001b[0m \u001b[1m0s\u001b[0m 24ms/step\n",
            "\u001b[1m1/1\u001b[0m \u001b[32m━━━━━━━━━━━━━━━━━━━━\u001b[0m\u001b[37m\u001b[0m \u001b[1m0s\u001b[0m 24ms/step\n",
            "\u001b[1m1/1\u001b[0m \u001b[32m━━━━━━━━━━━━━━━━━━━━\u001b[0m\u001b[37m\u001b[0m \u001b[1m0s\u001b[0m 26ms/step\n",
            "\u001b[1m1/1\u001b[0m \u001b[32m━━━━━━━━━━━━━━━━━━━━\u001b[0m\u001b[37m\u001b[0m \u001b[1m0s\u001b[0m 25ms/step\n",
            "\u001b[1m1/1\u001b[0m \u001b[32m━━━━━━━━━━━━━━━━━━━━\u001b[0m\u001b[37m\u001b[0m \u001b[1m0s\u001b[0m 29ms/step\n",
            "\u001b[1m1/1\u001b[0m \u001b[32m━━━━━━━━━━━━━━━━━━━━\u001b[0m\u001b[37m\u001b[0m \u001b[1m0s\u001b[0m 35ms/step\n",
            "\u001b[1m1/1\u001b[0m \u001b[32m━━━━━━━━━━━━━━━━━━━━\u001b[0m\u001b[37m\u001b[0m \u001b[1m0s\u001b[0m 27ms/step\n",
            "\u001b[1m1/1\u001b[0m \u001b[32m━━━━━━━━━━━━━━━━━━━━\u001b[0m\u001b[37m\u001b[0m \u001b[1m0s\u001b[0m 26ms/step\n",
            "\u001b[1m1/1\u001b[0m \u001b[32m━━━━━━━━━━━━━━━━━━━━\u001b[0m\u001b[37m\u001b[0m \u001b[1m0s\u001b[0m 27ms/step\n",
            "\u001b[1m1/1\u001b[0m \u001b[32m━━━━━━━━━━━━━━━━━━━━\u001b[0m\u001b[37m\u001b[0m \u001b[1m0s\u001b[0m 27ms/step\n",
            "\u001b[1m1/1\u001b[0m \u001b[32m━━━━━━━━━━━━━━━━━━━━\u001b[0m\u001b[37m\u001b[0m \u001b[1m0s\u001b[0m 40ms/step\n",
            "\u001b[1m1/1\u001b[0m \u001b[32m━━━━━━━━━━━━━━━━━━━━\u001b[0m\u001b[37m\u001b[0m \u001b[1m0s\u001b[0m 39ms/step\n",
            "\u001b[1m1/1\u001b[0m \u001b[32m━━━━━━━━━━━━━━━━━━━━\u001b[0m\u001b[37m\u001b[0m \u001b[1m0s\u001b[0m 41ms/step\n",
            "\u001b[1m1/1\u001b[0m \u001b[32m━━━━━━━━━━━━━━━━━━━━\u001b[0m\u001b[37m\u001b[0m \u001b[1m0s\u001b[0m 38ms/step\n",
            "\u001b[1m1/1\u001b[0m \u001b[32m━━━━━━━━━━━━━━━━━━━━\u001b[0m\u001b[37m\u001b[0m \u001b[1m0s\u001b[0m 53ms/step\n",
            "\u001b[1m1/1\u001b[0m \u001b[32m━━━━━━━━━━━━━━━━━━━━\u001b[0m\u001b[37m\u001b[0m \u001b[1m0s\u001b[0m 37ms/step\n",
            "\u001b[1m1/1\u001b[0m \u001b[32m━━━━━━━━━━━━━━━━━━━━\u001b[0m\u001b[37m\u001b[0m \u001b[1m0s\u001b[0m 37ms/step\n",
            "\u001b[1m1/1\u001b[0m \u001b[32m━━━━━━━━━━━━━━━━━━━━\u001b[0m\u001b[37m\u001b[0m \u001b[1m0s\u001b[0m 43ms/step\n",
            "\u001b[1m1/1\u001b[0m \u001b[32m━━━━━━━━━━━━━━━━━━━━\u001b[0m\u001b[37m\u001b[0m \u001b[1m0s\u001b[0m 37ms/step\n",
            "\u001b[1m1/1\u001b[0m \u001b[32m━━━━━━━━━━━━━━━━━━━━\u001b[0m\u001b[37m\u001b[0m \u001b[1m0s\u001b[0m 43ms/step\n",
            "\u001b[1m1/1\u001b[0m \u001b[32m━━━━━━━━━━━━━━━━━━━━\u001b[0m\u001b[37m\u001b[0m \u001b[1m0s\u001b[0m 47ms/step\n",
            "\u001b[1m1/1\u001b[0m \u001b[32m━━━━━━━━━━━━━━━━━━━━\u001b[0m\u001b[37m\u001b[0m \u001b[1m0s\u001b[0m 40ms/step\n",
            "\u001b[1m1/1\u001b[0m \u001b[32m━━━━━━━━━━━━━━━━━━━━\u001b[0m\u001b[37m\u001b[0m \u001b[1m0s\u001b[0m 35ms/step\n",
            "\u001b[1m1/1\u001b[0m \u001b[32m━━━━━━━━━━━━━━━━━━━━\u001b[0m\u001b[37m\u001b[0m \u001b[1m0s\u001b[0m 38ms/step\n",
            "\u001b[1m1/1\u001b[0m \u001b[32m━━━━━━━━━━━━━━━━━━━━\u001b[0m\u001b[37m\u001b[0m \u001b[1m0s\u001b[0m 37ms/step\n",
            "\u001b[1m1/1\u001b[0m \u001b[32m━━━━━━━━━━━━━━━━━━━━\u001b[0m\u001b[37m\u001b[0m \u001b[1m0s\u001b[0m 43ms/step\n",
            "\u001b[1m1/1\u001b[0m \u001b[32m━━━━━━━━━━━━━━━━━━━━\u001b[0m\u001b[37m\u001b[0m \u001b[1m0s\u001b[0m 35ms/step\n",
            "\u001b[1m1/1\u001b[0m \u001b[32m━━━━━━━━━━━━━━━━━━━━\u001b[0m\u001b[37m\u001b[0m \u001b[1m0s\u001b[0m 44ms/step\n",
            "\u001b[1m1/1\u001b[0m \u001b[32m━━━━━━━━━━━━━━━━━━━━\u001b[0m\u001b[37m\u001b[0m \u001b[1m0s\u001b[0m 43ms/step\n",
            "\u001b[1m1/1\u001b[0m \u001b[32m━━━━━━━━━━━━━━━━━━━━\u001b[0m\u001b[37m\u001b[0m \u001b[1m0s\u001b[0m 45ms/step\n",
            "\u001b[1m1/1\u001b[0m \u001b[32m━━━━━━━━━━━━━━━━━━━━\u001b[0m\u001b[37m\u001b[0m \u001b[1m0s\u001b[0m 41ms/step\n",
            "\u001b[1m1/1\u001b[0m \u001b[32m━━━━━━━━━━━━━━━━━━━━\u001b[0m\u001b[37m\u001b[0m \u001b[1m0s\u001b[0m 39ms/step\n",
            "\u001b[1m1/1\u001b[0m \u001b[32m━━━━━━━━━━━━━━━━━━━━\u001b[0m\u001b[37m\u001b[0m \u001b[1m0s\u001b[0m 37ms/step\n",
            "\u001b[1m1/1\u001b[0m \u001b[32m━━━━━━━━━━━━━━━━━━━━\u001b[0m\u001b[37m\u001b[0m \u001b[1m0s\u001b[0m 48ms/step\n",
            "\u001b[1m1/1\u001b[0m \u001b[32m━━━━━━━━━━━━━━━━━━━━\u001b[0m\u001b[37m\u001b[0m \u001b[1m0s\u001b[0m 42ms/step\n",
            "\u001b[1m1/1\u001b[0m \u001b[32m━━━━━━━━━━━━━━━━━━━━\u001b[0m\u001b[37m\u001b[0m \u001b[1m0s\u001b[0m 67ms/step\n",
            "\u001b[1m1/1\u001b[0m \u001b[32m━━━━━━━━━━━━━━━━━━━━\u001b[0m\u001b[37m\u001b[0m \u001b[1m0s\u001b[0m 25ms/step\n",
            "\u001b[1m1/1\u001b[0m \u001b[32m━━━━━━━━━━━━━━━━━━━━\u001b[0m\u001b[37m\u001b[0m \u001b[1m0s\u001b[0m 34ms/step\n",
            "\u001b[1m1/1\u001b[0m \u001b[32m━━━━━━━━━━━━━━━━━━━━\u001b[0m\u001b[37m\u001b[0m \u001b[1m0s\u001b[0m 25ms/step\n",
            "\u001b[1m1/1\u001b[0m \u001b[32m━━━━━━━━━━━━━━━━━━━━\u001b[0m\u001b[37m\u001b[0m \u001b[1m0s\u001b[0m 27ms/step\n",
            "\u001b[1m1/1\u001b[0m \u001b[32m━━━━━━━━━━━━━━━━━━━━\u001b[0m\u001b[37m\u001b[0m \u001b[1m0s\u001b[0m 26ms/step\n",
            "\u001b[1m1/1\u001b[0m \u001b[32m━━━━━━━━━━━━━━━━━━━━\u001b[0m\u001b[37m\u001b[0m \u001b[1m0s\u001b[0m 26ms/step\n",
            "\u001b[1m1/1\u001b[0m \u001b[32m━━━━━━━━━━━━━━━━━━━━\u001b[0m\u001b[37m\u001b[0m \u001b[1m0s\u001b[0m 27ms/step\n",
            "\u001b[1m1/1\u001b[0m \u001b[32m━━━━━━━━━━━━━━━━━━━━\u001b[0m\u001b[37m\u001b[0m \u001b[1m0s\u001b[0m 28ms/step\n",
            "\u001b[1m1/1\u001b[0m \u001b[32m━━━━━━━━━━━━━━━━━━━━\u001b[0m\u001b[37m\u001b[0m \u001b[1m0s\u001b[0m 41ms/step\n",
            "\u001b[1m1/1\u001b[0m \u001b[32m━━━━━━━━━━━━━━━━━━━━\u001b[0m\u001b[37m\u001b[0m \u001b[1m0s\u001b[0m 29ms/step\n",
            "\u001b[1m1/1\u001b[0m \u001b[32m━━━━━━━━━━━━━━━━━━━━\u001b[0m\u001b[37m\u001b[0m \u001b[1m0s\u001b[0m 25ms/step\n",
            "\u001b[1m1/1\u001b[0m \u001b[32m━━━━━━━━━━━━━━━━━━━━\u001b[0m\u001b[37m\u001b[0m \u001b[1m0s\u001b[0m 25ms/step\n",
            "\u001b[1m1/1\u001b[0m \u001b[32m━━━━━━━━━━━━━━━━━━━━\u001b[0m\u001b[37m\u001b[0m \u001b[1m0s\u001b[0m 33ms/step\n",
            "\u001b[1m1/1\u001b[0m \u001b[32m━━━━━━━━━━━━━━━━━━━━\u001b[0m\u001b[37m\u001b[0m \u001b[1m0s\u001b[0m 26ms/step\n",
            "\u001b[1m1/1\u001b[0m \u001b[32m━━━━━━━━━━━━━━━━━━━━\u001b[0m\u001b[37m\u001b[0m \u001b[1m0s\u001b[0m 26ms/step\n",
            "\u001b[1m1/1\u001b[0m \u001b[32m━━━━━━━━━━━━━━━━━━━━\u001b[0m\u001b[37m\u001b[0m \u001b[1m0s\u001b[0m 25ms/step\n",
            "\u001b[1m1/1\u001b[0m \u001b[32m━━━━━━━━━━━━━━━━━━━━\u001b[0m\u001b[37m\u001b[0m \u001b[1m0s\u001b[0m 27ms/step\n",
            "\u001b[1m1/1\u001b[0m \u001b[32m━━━━━━━━━━━━━━━━━━━━\u001b[0m\u001b[37m\u001b[0m \u001b[1m0s\u001b[0m 38ms/step\n",
            "\u001b[1m1/1\u001b[0m \u001b[32m━━━━━━━━━━━━━━━━━━━━\u001b[0m\u001b[37m\u001b[0m \u001b[1m0s\u001b[0m 37ms/step\n",
            "\u001b[1m1/1\u001b[0m \u001b[32m━━━━━━━━━━━━━━━━━━━━\u001b[0m\u001b[37m\u001b[0m \u001b[1m0s\u001b[0m 46ms/step\n",
            "\u001b[1m1/1\u001b[0m \u001b[32m━━━━━━━━━━━━━━━━━━━━\u001b[0m\u001b[37m\u001b[0m \u001b[1m0s\u001b[0m 40ms/step\n",
            "\u001b[1m1/1\u001b[0m \u001b[32m━━━━━━━━━━━━━━━━━━━━\u001b[0m\u001b[37m\u001b[0m \u001b[1m0s\u001b[0m 42ms/step\n",
            "\u001b[1m1/1\u001b[0m \u001b[32m━━━━━━━━━━━━━━━━━━━━\u001b[0m\u001b[37m\u001b[0m \u001b[1m0s\u001b[0m 42ms/step\n",
            "\u001b[1m1/1\u001b[0m \u001b[32m━━━━━━━━━━━━━━━━━━━━\u001b[0m\u001b[37m\u001b[0m \u001b[1m0s\u001b[0m 39ms/step\n",
            "\u001b[1m1/1\u001b[0m \u001b[32m━━━━━━━━━━━━━━━━━━━━\u001b[0m\u001b[37m\u001b[0m \u001b[1m0s\u001b[0m 39ms/step\n",
            "\u001b[1m1/1\u001b[0m \u001b[32m━━━━━━━━━━━━━━━━━━━━\u001b[0m\u001b[37m\u001b[0m \u001b[1m0s\u001b[0m 57ms/step\n",
            "\u001b[1m1/1\u001b[0m \u001b[32m━━━━━━━━━━━━━━━━━━━━\u001b[0m\u001b[37m\u001b[0m \u001b[1m0s\u001b[0m 42ms/step\n",
            "\u001b[1m1/1\u001b[0m \u001b[32m━━━━━━━━━━━━━━━━━━━━\u001b[0m\u001b[37m\u001b[0m \u001b[1m0s\u001b[0m 41ms/step\n",
            "\u001b[1m1/1\u001b[0m \u001b[32m━━━━━━━━━━━━━━━━━━━━\u001b[0m\u001b[37m\u001b[0m \u001b[1m0s\u001b[0m 46ms/step\n",
            "\u001b[1m1/1\u001b[0m \u001b[32m━━━━━━━━━━━━━━━━━━━━\u001b[0m\u001b[37m\u001b[0m \u001b[1m0s\u001b[0m 38ms/step\n",
            "\u001b[1m1/1\u001b[0m \u001b[32m━━━━━━━━━━━━━━━━━━━━\u001b[0m\u001b[37m\u001b[0m \u001b[1m0s\u001b[0m 43ms/step\n",
            "\u001b[1m1/1\u001b[0m \u001b[32m━━━━━━━━━━━━━━━━━━━━\u001b[0m\u001b[37m\u001b[0m \u001b[1m0s\u001b[0m 38ms/step\n",
            "\u001b[1m1/1\u001b[0m \u001b[32m━━━━━━━━━━━━━━━━━━━━\u001b[0m\u001b[37m\u001b[0m \u001b[1m0s\u001b[0m 39ms/step\n",
            "\u001b[1m1/1\u001b[0m \u001b[32m━━━━━━━━━━━━━━━━━━━━\u001b[0m\u001b[37m\u001b[0m \u001b[1m0s\u001b[0m 41ms/step\n",
            "\u001b[1m1/1\u001b[0m \u001b[32m━━━━━━━━━━━━━━━━━━━━\u001b[0m\u001b[37m\u001b[0m \u001b[1m0s\u001b[0m 39ms/step\n",
            "\u001b[1m1/1\u001b[0m \u001b[32m━━━━━━━━━━━━━━━━━━━━\u001b[0m\u001b[37m\u001b[0m \u001b[1m0s\u001b[0m 47ms/step\n",
            "\u001b[1m1/1\u001b[0m \u001b[32m━━━━━━━━━━━━━━━━━━━━\u001b[0m\u001b[37m\u001b[0m \u001b[1m0s\u001b[0m 60ms/step\n",
            "\u001b[1m1/1\u001b[0m \u001b[32m━━━━━━━━━━━━━━━━━━━━\u001b[0m\u001b[37m\u001b[0m \u001b[1m0s\u001b[0m 39ms/step\n",
            "\u001b[1m1/1\u001b[0m \u001b[32m━━━━━━━━━━━━━━━━━━━━\u001b[0m\u001b[37m\u001b[0m \u001b[1m0s\u001b[0m 47ms/step\n",
            "\u001b[1m1/1\u001b[0m \u001b[32m━━━━━━━━━━━━━━━━━━━━\u001b[0m\u001b[37m\u001b[0m \u001b[1m0s\u001b[0m 37ms/step\n",
            "\u001b[1m1/1\u001b[0m \u001b[32m━━━━━━━━━━━━━━━━━━━━\u001b[0m\u001b[37m\u001b[0m \u001b[1m0s\u001b[0m 40ms/step\n",
            "\u001b[1m1/1\u001b[0m \u001b[32m━━━━━━━━━━━━━━━━━━━━\u001b[0m\u001b[37m\u001b[0m \u001b[1m0s\u001b[0m 50ms/step\n",
            "\u001b[1m1/1\u001b[0m \u001b[32m━━━━━━━━━━━━━━━━━━━━\u001b[0m\u001b[37m\u001b[0m \u001b[1m0s\u001b[0m 40ms/step\n",
            "\u001b[1m1/1\u001b[0m \u001b[32m━━━━━━━━━━━━━━━━━━━━\u001b[0m\u001b[37m\u001b[0m \u001b[1m0s\u001b[0m 41ms/step\n",
            "\u001b[1m1/1\u001b[0m \u001b[32m━━━━━━━━━━━━━━━━━━━━\u001b[0m\u001b[37m\u001b[0m \u001b[1m0s\u001b[0m 48ms/step\n",
            "\u001b[1m1/1\u001b[0m \u001b[32m━━━━━━━━━━━━━━━━━━━━\u001b[0m\u001b[37m\u001b[0m \u001b[1m0s\u001b[0m 25ms/step\n",
            "\u001b[1m1/1\u001b[0m \u001b[32m━━━━━━━━━━━━━━━━━━━━\u001b[0m\u001b[37m\u001b[0m \u001b[1m0s\u001b[0m 27ms/step\n",
            "\u001b[1m1/1\u001b[0m \u001b[32m━━━━━━━━━━━━━━━━━━━━\u001b[0m\u001b[37m\u001b[0m \u001b[1m0s\u001b[0m 24ms/step\n",
            "\u001b[1m1/1\u001b[0m \u001b[32m━━━━━━━━━━━━━━━━━━━━\u001b[0m\u001b[37m\u001b[0m \u001b[1m0s\u001b[0m 25ms/step\n",
            "\u001b[1m1/1\u001b[0m \u001b[32m━━━━━━━━━━━━━━━━━━━━\u001b[0m\u001b[37m\u001b[0m \u001b[1m0s\u001b[0m 25ms/step\n",
            "\u001b[1m1/1\u001b[0m \u001b[32m━━━━━━━━━━━━━━━━━━━━\u001b[0m\u001b[37m\u001b[0m \u001b[1m0s\u001b[0m 30ms/step\n",
            "\u001b[1m1/1\u001b[0m \u001b[32m━━━━━━━━━━━━━━━━━━━━\u001b[0m\u001b[37m\u001b[0m \u001b[1m0s\u001b[0m 29ms/step\n",
            "\u001b[1m1/1\u001b[0m \u001b[32m━━━━━━━━━━━━━━━━━━━━\u001b[0m\u001b[37m\u001b[0m \u001b[1m0s\u001b[0m 25ms/step\n",
            "\u001b[1m1/1\u001b[0m \u001b[32m━━━━━━━━━━━━━━━━━━━━\u001b[0m\u001b[37m\u001b[0m \u001b[1m0s\u001b[0m 26ms/step\n",
            "\u001b[1m1/1\u001b[0m \u001b[32m━━━━━━━━━━━━━━━━━━━━\u001b[0m\u001b[37m\u001b[0m \u001b[1m0s\u001b[0m 26ms/step\n",
            "\u001b[1m1/1\u001b[0m \u001b[32m━━━━━━━━━━━━━━━━━━━━\u001b[0m\u001b[37m\u001b[0m \u001b[1m0s\u001b[0m 32ms/step\n",
            "\u001b[1m1/1\u001b[0m \u001b[32m━━━━━━━━━━━━━━━━━━━━\u001b[0m\u001b[37m\u001b[0m \u001b[1m0s\u001b[0m 25ms/step\n",
            "\u001b[1m1/1\u001b[0m \u001b[32m━━━━━━━━━━━━━━━━━━━━\u001b[0m\u001b[37m\u001b[0m \u001b[1m0s\u001b[0m 25ms/step\n",
            "\u001b[1m1/1\u001b[0m \u001b[32m━━━━━━━━━━━━━━━━━━━━\u001b[0m\u001b[37m\u001b[0m \u001b[1m0s\u001b[0m 24ms/step\n",
            "\u001b[1m1/1\u001b[0m \u001b[32m━━━━━━━━━━━━━━━━━━━━\u001b[0m\u001b[37m\u001b[0m \u001b[1m0s\u001b[0m 25ms/step\n",
            "\u001b[1m1/1\u001b[0m \u001b[32m━━━━━━━━━━━━━━━━━━━━\u001b[0m\u001b[37m\u001b[0m \u001b[1m0s\u001b[0m 30ms/step\n",
            "\u001b[1m1/1\u001b[0m \u001b[32m━━━━━━━━━━━━━━━━━━━━\u001b[0m\u001b[37m\u001b[0m \u001b[1m0s\u001b[0m 24ms/step\n",
            "\u001b[1m1/1\u001b[0m \u001b[32m━━━━━━━━━━━━━━━━━━━━\u001b[0m\u001b[37m\u001b[0m \u001b[1m0s\u001b[0m 24ms/step\n",
            "\u001b[1m1/1\u001b[0m \u001b[32m━━━━━━━━━━━━━━━━━━━━\u001b[0m\u001b[37m\u001b[0m \u001b[1m0s\u001b[0m 30ms/step\n",
            "\u001b[1m1/1\u001b[0m \u001b[32m━━━━━━━━━━━━━━━━━━━━\u001b[0m\u001b[37m\u001b[0m \u001b[1m0s\u001b[0m 25ms/step\n",
            "\u001b[1m1/1\u001b[0m \u001b[32m━━━━━━━━━━━━━━━━━━━━\u001b[0m\u001b[37m\u001b[0m \u001b[1m0s\u001b[0m 25ms/step\n",
            "\u001b[1m1/1\u001b[0m \u001b[32m━━━━━━━━━━━━━━━━━━━━\u001b[0m\u001b[37m\u001b[0m \u001b[1m0s\u001b[0m 32ms/step\n",
            "\u001b[1m1/1\u001b[0m \u001b[32m━━━━━━━━━━━━━━━━━━━━\u001b[0m\u001b[37m\u001b[0m \u001b[1m0s\u001b[0m 32ms/step\n",
            "\u001b[1m1/1\u001b[0m \u001b[32m━━━━━━━━━━━━━━━━━━━━\u001b[0m\u001b[37m\u001b[0m \u001b[1m0s\u001b[0m 27ms/step\n",
            "\u001b[1m1/1\u001b[0m \u001b[32m━━━━━━━━━━━━━━━━━━━━\u001b[0m\u001b[37m\u001b[0m \u001b[1m0s\u001b[0m 28ms/step\n",
            "\u001b[1m1/1\u001b[0m \u001b[32m━━━━━━━━━━━━━━━━━━━━\u001b[0m\u001b[37m\u001b[0m \u001b[1m0s\u001b[0m 25ms/step\n",
            "\u001b[1m1/1\u001b[0m \u001b[32m━━━━━━━━━━━━━━━━━━━━\u001b[0m\u001b[37m\u001b[0m \u001b[1m0s\u001b[0m 25ms/step\n",
            "\u001b[1m1/1\u001b[0m \u001b[32m━━━━━━━━━━━━━━━━━━━━\u001b[0m\u001b[37m\u001b[0m \u001b[1m0s\u001b[0m 25ms/step\n",
            "\u001b[1m1/1\u001b[0m \u001b[32m━━━━━━━━━━━━━━━━━━━━\u001b[0m\u001b[37m\u001b[0m \u001b[1m0s\u001b[0m 24ms/step\n",
            "\u001b[1m1/1\u001b[0m \u001b[32m━━━━━━━━━━━━━━━━━━━━\u001b[0m\u001b[37m\u001b[0m \u001b[1m0s\u001b[0m 32ms/step\n",
            "\u001b[1m1/1\u001b[0m \u001b[32m━━━━━━━━━━━━━━━━━━━━\u001b[0m\u001b[37m\u001b[0m \u001b[1m0s\u001b[0m 25ms/step\n",
            "\u001b[1m1/1\u001b[0m \u001b[32m━━━━━━━━━━━━━━━━━━━━\u001b[0m\u001b[37m\u001b[0m \u001b[1m0s\u001b[0m 27ms/step\n",
            "\u001b[1m1/1\u001b[0m \u001b[32m━━━━━━━━━━━━━━━━━━━━\u001b[0m\u001b[37m\u001b[0m \u001b[1m0s\u001b[0m 34ms/step\n",
            "\u001b[1m1/1\u001b[0m \u001b[32m━━━━━━━━━━━━━━━━━━━━\u001b[0m\u001b[37m\u001b[0m \u001b[1m0s\u001b[0m 25ms/step\n",
            "\u001b[1m1/1\u001b[0m \u001b[32m━━━━━━━━━━━━━━━━━━━━\u001b[0m\u001b[37m\u001b[0m \u001b[1m0s\u001b[0m 28ms/step\n",
            "\u001b[1m1/1\u001b[0m \u001b[32m━━━━━━━━━━━━━━━━━━━━\u001b[0m\u001b[37m\u001b[0m \u001b[1m0s\u001b[0m 25ms/step\n",
            "\u001b[1m1/1\u001b[0m \u001b[32m━━━━━━━━━━━━━━━━━━━━\u001b[0m\u001b[37m\u001b[0m \u001b[1m0s\u001b[0m 26ms/step\n",
            "\u001b[1m1/1\u001b[0m \u001b[32m━━━━━━━━━━━━━━━━━━━━\u001b[0m\u001b[37m\u001b[0m \u001b[1m0s\u001b[0m 26ms/step\n",
            "\u001b[1m1/1\u001b[0m \u001b[32m━━━━━━━━━━━━━━━━━━━━\u001b[0m\u001b[37m\u001b[0m \u001b[1m0s\u001b[0m 25ms/step\n",
            "\u001b[1m1/1\u001b[0m \u001b[32m━━━━━━━━━━━━━━━━━━━━\u001b[0m\u001b[37m\u001b[0m \u001b[1m0s\u001b[0m 25ms/step\n",
            "\u001b[1m1/1\u001b[0m \u001b[32m━━━━━━━━━━━━━━━━━━━━\u001b[0m\u001b[37m\u001b[0m \u001b[1m0s\u001b[0m 26ms/step\n",
            "\u001b[1m1/1\u001b[0m \u001b[32m━━━━━━━━━━━━━━━━━━━━\u001b[0m\u001b[37m\u001b[0m \u001b[1m0s\u001b[0m 26ms/step\n",
            "\u001b[1m1/1\u001b[0m \u001b[32m━━━━━━━━━━━━━━━━━━━━\u001b[0m\u001b[37m\u001b[0m \u001b[1m0s\u001b[0m 32ms/step\n",
            "\u001b[1m1/1\u001b[0m \u001b[32m━━━━━━━━━━━━━━━━━━━━\u001b[0m\u001b[37m\u001b[0m \u001b[1m0s\u001b[0m 26ms/step\n",
            "\u001b[1m1/1\u001b[0m \u001b[32m━━━━━━━━━━━━━━━━━━━━\u001b[0m\u001b[37m\u001b[0m \u001b[1m0s\u001b[0m 29ms/step\n",
            "\u001b[1m1/1\u001b[0m \u001b[32m━━━━━━━━━━━━━━━━━━━━\u001b[0m\u001b[37m\u001b[0m \u001b[1m0s\u001b[0m 27ms/step\n",
            "\u001b[1m1/1\u001b[0m \u001b[32m━━━━━━━━━━━━━━━━━━━━\u001b[0m\u001b[37m\u001b[0m \u001b[1m0s\u001b[0m 26ms/step\n",
            "\u001b[1m1/1\u001b[0m \u001b[32m━━━━━━━━━━━━━━━━━━━━\u001b[0m\u001b[37m\u001b[0m \u001b[1m0s\u001b[0m 27ms/step\n",
            "\u001b[1m1/1\u001b[0m \u001b[32m━━━━━━━━━━━━━━━━━━━━\u001b[0m\u001b[37m\u001b[0m \u001b[1m0s\u001b[0m 26ms/step\n",
            "\u001b[1m1/1\u001b[0m \u001b[32m━━━━━━━━━━━━━━━━━━━━\u001b[0m\u001b[37m\u001b[0m \u001b[1m0s\u001b[0m 28ms/step\n",
            "\u001b[1m1/1\u001b[0m \u001b[32m━━━━━━━━━━━━━━━━━━━━\u001b[0m\u001b[37m\u001b[0m \u001b[1m0s\u001b[0m 24ms/step\n",
            "\u001b[1m1/1\u001b[0m \u001b[32m━━━━━━━━━━━━━━━━━━━━\u001b[0m\u001b[37m\u001b[0m \u001b[1m0s\u001b[0m 31ms/step\n",
            "\u001b[1m1/1\u001b[0m \u001b[32m━━━━━━━━━━━━━━━━━━━━\u001b[0m\u001b[37m\u001b[0m \u001b[1m0s\u001b[0m 24ms/step\n",
            "\u001b[1m1/1\u001b[0m \u001b[32m━━━━━━━━━━━━━━━━━━━━\u001b[0m\u001b[37m\u001b[0m \u001b[1m0s\u001b[0m 24ms/step\n",
            "\u001b[1m1/1\u001b[0m \u001b[32m━━━━━━━━━━━━━━━━━━━━\u001b[0m\u001b[37m\u001b[0m \u001b[1m0s\u001b[0m 26ms/step\n",
            "\u001b[1m1/1\u001b[0m \u001b[32m━━━━━━━━━━━━━━━━━━━━\u001b[0m\u001b[37m\u001b[0m \u001b[1m0s\u001b[0m 25ms/step\n",
            "\u001b[1m1/1\u001b[0m \u001b[32m━━━━━━━━━━━━━━━━━━━━\u001b[0m\u001b[37m\u001b[0m \u001b[1m0s\u001b[0m 30ms/step\n",
            "\u001b[1m1/1\u001b[0m \u001b[32m━━━━━━━━━━━━━━━━━━━━\u001b[0m\u001b[37m\u001b[0m \u001b[1m0s\u001b[0m 26ms/step\n",
            "\u001b[1m1/1\u001b[0m \u001b[32m━━━━━━━━━━━━━━━━━━━━\u001b[0m\u001b[37m\u001b[0m \u001b[1m0s\u001b[0m 26ms/step\n",
            "\u001b[1m1/1\u001b[0m \u001b[32m━━━━━━━━━━━━━━━━━━━━\u001b[0m\u001b[37m\u001b[0m \u001b[1m0s\u001b[0m 26ms/step\n",
            "\u001b[1m1/1\u001b[0m \u001b[32m━━━━━━━━━━━━━━━━━━━━\u001b[0m\u001b[37m\u001b[0m \u001b[1m0s\u001b[0m 25ms/step\n",
            "\u001b[1m1/1\u001b[0m \u001b[32m━━━━━━━━━━━━━━━━━━━━\u001b[0m\u001b[37m\u001b[0m \u001b[1m0s\u001b[0m 34ms/step\n",
            "\u001b[1m1/1\u001b[0m \u001b[32m━━━━━━━━━━━━━━━━━━━━\u001b[0m\u001b[37m\u001b[0m \u001b[1m0s\u001b[0m 30ms/step\n",
            "\u001b[1m1/1\u001b[0m \u001b[32m━━━━━━━━━━━━━━━━━━━━\u001b[0m\u001b[37m\u001b[0m \u001b[1m0s\u001b[0m 26ms/step\n",
            "\u001b[1m1/1\u001b[0m \u001b[32m━━━━━━━━━━━━━━━━━━━━\u001b[0m\u001b[37m\u001b[0m \u001b[1m0s\u001b[0m 25ms/step\n",
            "\u001b[1m1/1\u001b[0m \u001b[32m━━━━━━━━━━━━━━━━━━━━\u001b[0m\u001b[37m\u001b[0m \u001b[1m0s\u001b[0m 32ms/step\n",
            "\u001b[1m1/1\u001b[0m \u001b[32m━━━━━━━━━━━━━━━━━━━━\u001b[0m\u001b[37m\u001b[0m \u001b[1m0s\u001b[0m 25ms/step\n",
            "\u001b[1m1/1\u001b[0m \u001b[32m━━━━━━━━━━━━━━━━━━━━\u001b[0m\u001b[37m\u001b[0m \u001b[1m0s\u001b[0m 25ms/step\n",
            "\u001b[1m1/1\u001b[0m \u001b[32m━━━━━━━━━━━━━━━━━━━━\u001b[0m\u001b[37m\u001b[0m \u001b[1m0s\u001b[0m 27ms/step\n",
            "\u001b[1m1/1\u001b[0m \u001b[32m━━━━━━━━━━━━━━━━━━━━\u001b[0m\u001b[37m\u001b[0m \u001b[1m0s\u001b[0m 26ms/step\n",
            "\u001b[1m1/1\u001b[0m \u001b[32m━━━━━━━━━━━━━━━━━━━━\u001b[0m\u001b[37m\u001b[0m \u001b[1m0s\u001b[0m 28ms/step\n",
            "\u001b[1m1/1\u001b[0m \u001b[32m━━━━━━━━━━━━━━━━━━━━\u001b[0m\u001b[37m\u001b[0m \u001b[1m0s\u001b[0m 34ms/step\n",
            "\u001b[1m1/1\u001b[0m \u001b[32m━━━━━━━━━━━━━━━━━━━━\u001b[0m\u001b[37m\u001b[0m \u001b[1m0s\u001b[0m 26ms/step\n",
            "\u001b[1m1/1\u001b[0m \u001b[32m━━━━━━━━━━━━━━━━━━━━\u001b[0m\u001b[37m\u001b[0m \u001b[1m0s\u001b[0m 30ms/step\n",
            "\u001b[1m1/1\u001b[0m \u001b[32m━━━━━━━━━━━━━━━━━━━━\u001b[0m\u001b[37m\u001b[0m \u001b[1m0s\u001b[0m 25ms/step\n",
            "\u001b[1m1/1\u001b[0m \u001b[32m━━━━━━━━━━━━━━━━━━━━\u001b[0m\u001b[37m\u001b[0m \u001b[1m0s\u001b[0m 27ms/step\n",
            "\u001b[1m1/1\u001b[0m \u001b[32m━━━━━━━━━━━━━━━━━━━━\u001b[0m\u001b[37m\u001b[0m \u001b[1m0s\u001b[0m 27ms/step\n",
            "\u001b[1m1/1\u001b[0m \u001b[32m━━━━━━━━━━━━━━━━━━━━\u001b[0m\u001b[37m\u001b[0m \u001b[1m0s\u001b[0m 25ms/step\n",
            "\u001b[1m1/1\u001b[0m \u001b[32m━━━━━━━━━━━━━━━━━━━━\u001b[0m\u001b[37m\u001b[0m \u001b[1m0s\u001b[0m 25ms/step\n",
            "\u001b[1m1/1\u001b[0m \u001b[32m━━━━━━━━━━━━━━━━━━━━\u001b[0m\u001b[37m\u001b[0m \u001b[1m0s\u001b[0m 29ms/step\n",
            "\u001b[1m1/1\u001b[0m \u001b[32m━━━━━━━━━━━━━━━━━━━━\u001b[0m\u001b[37m\u001b[0m \u001b[1m0s\u001b[0m 32ms/step\n",
            "\u001b[1m1/1\u001b[0m \u001b[32m━━━━━━━━━━━━━━━━━━━━\u001b[0m\u001b[37m\u001b[0m \u001b[1m0s\u001b[0m 26ms/step\n",
            "\u001b[1m1/1\u001b[0m \u001b[32m━━━━━━━━━━━━━━━━━━━━\u001b[0m\u001b[37m\u001b[0m \u001b[1m0s\u001b[0m 32ms/step\n",
            "\u001b[1m1/1\u001b[0m \u001b[32m━━━━━━━━━━━━━━━━━━━━\u001b[0m\u001b[37m\u001b[0m \u001b[1m0s\u001b[0m 26ms/step\n",
            "\u001b[1m1/1\u001b[0m \u001b[32m━━━━━━━━━━━━━━━━━━━━\u001b[0m\u001b[37m\u001b[0m \u001b[1m0s\u001b[0m 27ms/step\n",
            "\u001b[1m1/1\u001b[0m \u001b[32m━━━━━━━━━━━━━━━━━━━━\u001b[0m\u001b[37m\u001b[0m \u001b[1m0s\u001b[0m 26ms/step\n",
            "\u001b[1m1/1\u001b[0m \u001b[32m━━━━━━━━━━━━━━━━━━━━\u001b[0m\u001b[37m\u001b[0m \u001b[1m0s\u001b[0m 26ms/step\n",
            "\u001b[1m1/1\u001b[0m \u001b[32m━━━━━━━━━━━━━━━━━━━━\u001b[0m\u001b[37m\u001b[0m \u001b[1m0s\u001b[0m 25ms/step\n",
            "\u001b[1m1/1\u001b[0m \u001b[32m━━━━━━━━━━━━━━━━━━━━\u001b[0m\u001b[37m\u001b[0m \u001b[1m0s\u001b[0m 26ms/step\n",
            "\u001b[1m1/1\u001b[0m \u001b[32m━━━━━━━━━━━━━━━━━━━━\u001b[0m\u001b[37m\u001b[0m \u001b[1m0s\u001b[0m 25ms/step\n",
            "\u001b[1m1/1\u001b[0m \u001b[32m━━━━━━━━━━━━━━━━━━━━\u001b[0m\u001b[37m\u001b[0m \u001b[1m0s\u001b[0m 26ms/step\n",
            "\u001b[1m1/1\u001b[0m \u001b[32m━━━━━━━━━━━━━━━━━━━━\u001b[0m\u001b[37m\u001b[0m \u001b[1m0s\u001b[0m 26ms/step\n",
            "\u001b[1m1/1\u001b[0m \u001b[32m━━━━━━━━━━━━━━━━━━━━\u001b[0m\u001b[37m\u001b[0m \u001b[1m0s\u001b[0m 34ms/step\n",
            "\u001b[1m1/1\u001b[0m \u001b[32m━━━━━━━━━━━━━━━━━━━━\u001b[0m\u001b[37m\u001b[0m \u001b[1m0s\u001b[0m 26ms/step\n",
            "\u001b[1m1/1\u001b[0m \u001b[32m━━━━━━━━━━━━━━━━━━━━\u001b[0m\u001b[37m\u001b[0m \u001b[1m0s\u001b[0m 28ms/step\n",
            "\u001b[1m1/1\u001b[0m \u001b[32m━━━━━━━━━━━━━━━━━━━━\u001b[0m\u001b[37m\u001b[0m \u001b[1m0s\u001b[0m 26ms/step\n",
            "\u001b[1m1/1\u001b[0m \u001b[32m━━━━━━━━━━━━━━━━━━━━\u001b[0m\u001b[37m\u001b[0m \u001b[1m0s\u001b[0m 32ms/step\n",
            "\u001b[1m1/1\u001b[0m \u001b[32m━━━━━━━━━━━━━━━━━━━━\u001b[0m\u001b[37m\u001b[0m \u001b[1m0s\u001b[0m 26ms/step\n",
            "\u001b[1m1/1\u001b[0m \u001b[32m━━━━━━━━━━━━━━━━━━━━\u001b[0m\u001b[37m\u001b[0m \u001b[1m0s\u001b[0m 26ms/step\n",
            "\u001b[1m1/1\u001b[0m \u001b[32m━━━━━━━━━━━━━━━━━━━━\u001b[0m\u001b[37m\u001b[0m \u001b[1m0s\u001b[0m 26ms/step\n",
            "\u001b[1m1/1\u001b[0m \u001b[32m━━━━━━━━━━━━━━━━━━━━\u001b[0m\u001b[37m\u001b[0m \u001b[1m0s\u001b[0m 25ms/step\n",
            "\u001b[1m1/1\u001b[0m \u001b[32m━━━━━━━━━━━━━━━━━━━━\u001b[0m\u001b[37m\u001b[0m \u001b[1m0s\u001b[0m 34ms/step\n",
            "\u001b[1m1/1\u001b[0m \u001b[32m━━━━━━━━━━━━━━━━━━━━\u001b[0m\u001b[37m\u001b[0m \u001b[1m0s\u001b[0m 40ms/step\n",
            "\u001b[1m1/1\u001b[0m \u001b[32m━━━━━━━━━━━━━━━━━━━━\u001b[0m\u001b[37m\u001b[0m \u001b[1m0s\u001b[0m 40ms/step\n",
            "\u001b[1m1/1\u001b[0m \u001b[32m━━━━━━━━━━━━━━━━━━━━\u001b[0m\u001b[37m\u001b[0m \u001b[1m0s\u001b[0m 41ms/step\n",
            "\u001b[1m1/1\u001b[0m \u001b[32m━━━━━━━━━━━━━━━━━━━━\u001b[0m\u001b[37m\u001b[0m \u001b[1m0s\u001b[0m 36ms/step\n",
            "\u001b[1m1/1\u001b[0m \u001b[32m━━━━━━━━━━━━━━━━━━━━\u001b[0m\u001b[37m\u001b[0m \u001b[1m0s\u001b[0m 40ms/step\n",
            "\u001b[1m1/1\u001b[0m \u001b[32m━━━━━━━━━━━━━━━━━━━━\u001b[0m\u001b[37m\u001b[0m \u001b[1m0s\u001b[0m 36ms/step\n",
            "\u001b[1m1/1\u001b[0m \u001b[32m━━━━━━━━━━━━━━━━━━━━\u001b[0m\u001b[37m\u001b[0m \u001b[1m0s\u001b[0m 56ms/step\n",
            "\u001b[1m1/1\u001b[0m \u001b[32m━━━━━━━━━━━━━━━━━━━━\u001b[0m\u001b[37m\u001b[0m \u001b[1m0s\u001b[0m 42ms/step\n",
            "\u001b[1m1/1\u001b[0m \u001b[32m━━━━━━━━━━━━━━━━━━━━\u001b[0m\u001b[37m\u001b[0m \u001b[1m0s\u001b[0m 42ms/step\n",
            "\u001b[1m1/1\u001b[0m \u001b[32m━━━━━━━━━━━━━━━━━━━━\u001b[0m\u001b[37m\u001b[0m \u001b[1m0s\u001b[0m 40ms/step\n",
            "\u001b[1m1/1\u001b[0m \u001b[32m━━━━━━━━━━━━━━━━━━━━\u001b[0m\u001b[37m\u001b[0m \u001b[1m0s\u001b[0m 40ms/step\n",
            "\u001b[1m1/1\u001b[0m \u001b[32m━━━━━━━━━━━━━━━━━━━━\u001b[0m\u001b[37m\u001b[0m \u001b[1m0s\u001b[0m 36ms/step\n",
            "\u001b[1m1/1\u001b[0m \u001b[32m━━━━━━━━━━━━━━━━━━━━\u001b[0m\u001b[37m\u001b[0m \u001b[1m0s\u001b[0m 39ms/step\n",
            "\u001b[1m1/1\u001b[0m \u001b[32m━━━━━━━━━━━━━━━━━━━━\u001b[0m\u001b[37m\u001b[0m \u001b[1m0s\u001b[0m 41ms/step\n",
            "\u001b[1m1/1\u001b[0m \u001b[32m━━━━━━━━━━━━━━━━━━━━\u001b[0m\u001b[37m\u001b[0m \u001b[1m0s\u001b[0m 41ms/step\n",
            "\u001b[1m1/1\u001b[0m \u001b[32m━━━━━━━━━━━━━━━━━━━━\u001b[0m\u001b[37m\u001b[0m \u001b[1m0s\u001b[0m 45ms/step\n",
            "\u001b[1m1/1\u001b[0m \u001b[32m━━━━━━━━━━━━━━━━━━━━\u001b[0m\u001b[37m\u001b[0m \u001b[1m0s\u001b[0m 39ms/step\n",
            "\u001b[1m1/1\u001b[0m \u001b[32m━━━━━━━━━━━━━━━━━━━━\u001b[0m\u001b[37m\u001b[0m \u001b[1m0s\u001b[0m 42ms/step\n",
            "\u001b[1m1/1\u001b[0m \u001b[32m━━━━━━━━━━━━━━━━━━━━\u001b[0m\u001b[37m\u001b[0m \u001b[1m0s\u001b[0m 38ms/step\n",
            "\u001b[1m1/1\u001b[0m \u001b[32m━━━━━━━━━━━━━━━━━━━━\u001b[0m\u001b[37m\u001b[0m \u001b[1m0s\u001b[0m 40ms/step\n",
            "\u001b[1m1/1\u001b[0m \u001b[32m━━━━━━━━━━━━━━━━━━━━\u001b[0m\u001b[37m\u001b[0m \u001b[1m0s\u001b[0m 39ms/step\n",
            "\u001b[1m1/1\u001b[0m \u001b[32m━━━━━━━━━━━━━━━━━━━━\u001b[0m\u001b[37m\u001b[0m \u001b[1m0s\u001b[0m 46ms/step\n",
            "\u001b[1m1/1\u001b[0m \u001b[32m━━━━━━━━━━━━━━━━━━━━\u001b[0m\u001b[37m\u001b[0m \u001b[1m0s\u001b[0m 51ms/step\n",
            "\u001b[1m1/1\u001b[0m \u001b[32m━━━━━━━━━━━━━━━━━━━━\u001b[0m\u001b[37m\u001b[0m \u001b[1m0s\u001b[0m 40ms/step\n",
            "\u001b[1m1/1\u001b[0m \u001b[32m━━━━━━━━━━━━━━━━━━━━\u001b[0m\u001b[37m\u001b[0m \u001b[1m0s\u001b[0m 45ms/step\n",
            "\u001b[1m1/1\u001b[0m \u001b[32m━━━━━━━━━━━━━━━━━━━━\u001b[0m\u001b[37m\u001b[0m \u001b[1m0s\u001b[0m 44ms/step\n",
            "\u001b[1m1/1\u001b[0m \u001b[32m━━━━━━━━━━━━━━━━━━━━\u001b[0m\u001b[37m\u001b[0m \u001b[1m0s\u001b[0m 28ms/step\n",
            "\u001b[1m1/1\u001b[0m \u001b[32m━━━━━━━━━━━━━━━━━━━━\u001b[0m\u001b[37m\u001b[0m \u001b[1m0s\u001b[0m 26ms/step\n",
            "\u001b[1m1/1\u001b[0m \u001b[32m━━━━━━━━━━━━━━━━━━━━\u001b[0m\u001b[37m\u001b[0m \u001b[1m0s\u001b[0m 26ms/step\n",
            "\u001b[1m1/1\u001b[0m \u001b[32m━━━━━━━━━━━━━━━━━━━━\u001b[0m\u001b[37m\u001b[0m \u001b[1m0s\u001b[0m 26ms/step\n",
            "\u001b[1m1/1\u001b[0m \u001b[32m━━━━━━━━━━━━━━━━━━━━\u001b[0m\u001b[37m\u001b[0m \u001b[1m0s\u001b[0m 25ms/step\n",
            "\u001b[1m1/1\u001b[0m \u001b[32m━━━━━━━━━━━━━━━━━━━━\u001b[0m\u001b[37m\u001b[0m \u001b[1m0s\u001b[0m 32ms/step\n",
            "\u001b[1m1/1\u001b[0m \u001b[32m━━━━━━━━━━━━━━━━━━━━\u001b[0m\u001b[37m\u001b[0m \u001b[1m0s\u001b[0m 25ms/step\n",
            "\u001b[1m1/1\u001b[0m \u001b[32m━━━━━━━━━━━━━━━━━━━━\u001b[0m\u001b[37m\u001b[0m \u001b[1m0s\u001b[0m 26ms/step\n",
            "\u001b[1m1/1\u001b[0m \u001b[32m━━━━━━━━━━━━━━━━━━━━\u001b[0m\u001b[37m\u001b[0m \u001b[1m0s\u001b[0m 25ms/step\n",
            "\u001b[1m1/1\u001b[0m \u001b[32m━━━━━━━━━━━━━━━━━━━━\u001b[0m\u001b[37m\u001b[0m \u001b[1m0s\u001b[0m 24ms/step\n",
            "\u001b[1m1/1\u001b[0m \u001b[32m━━━━━━━━━━━━━━━━━━━━\u001b[0m\u001b[37m\u001b[0m \u001b[1m0s\u001b[0m 27ms/step\n",
            "\u001b[1m1/1\u001b[0m \u001b[32m━━━━━━━━━━━━━━━━━━━━\u001b[0m\u001b[37m\u001b[0m \u001b[1m0s\u001b[0m 25ms/step\n",
            "\u001b[1m1/1\u001b[0m \u001b[32m━━━━━━━━━━━━━━━━━━━━\u001b[0m\u001b[37m\u001b[0m \u001b[1m0s\u001b[0m 26ms/step\n",
            "\u001b[1m1/1\u001b[0m \u001b[32m━━━━━━━━━━━━━━━━━━━━\u001b[0m\u001b[37m\u001b[0m \u001b[1m0s\u001b[0m 25ms/step\n",
            "\u001b[1m1/1\u001b[0m \u001b[32m━━━━━━━━━━━━━━━━━━━━\u001b[0m\u001b[37m\u001b[0m \u001b[1m0s\u001b[0m 25ms/step\n",
            "\u001b[1m1/1\u001b[0m \u001b[32m━━━━━━━━━━━━━━━━━━━━\u001b[0m\u001b[37m\u001b[0m \u001b[1m0s\u001b[0m 32ms/step\n",
            "\u001b[1m1/1\u001b[0m \u001b[32m━━━━━━━━━━━━━━━━━━━━\u001b[0m\u001b[37m\u001b[0m \u001b[1m0s\u001b[0m 36ms/step\n",
            "\u001b[1m1/1\u001b[0m \u001b[32m━━━━━━━━━━━━━━━━━━━━\u001b[0m\u001b[37m\u001b[0m \u001b[1m0s\u001b[0m 24ms/step\n",
            "\u001b[1m1/1\u001b[0m \u001b[32m━━━━━━━━━━━━━━━━━━━━\u001b[0m\u001b[37m\u001b[0m \u001b[1m0s\u001b[0m 26ms/step\n",
            "\u001b[1m1/1\u001b[0m \u001b[32m━━━━━━━━━━━━━━━━━━━━\u001b[0m\u001b[37m\u001b[0m \u001b[1m0s\u001b[0m 31ms/step\n",
            "\u001b[1m1/1\u001b[0m \u001b[32m━━━━━━━━━━━━━━━━━━━━\u001b[0m\u001b[37m\u001b[0m \u001b[1m0s\u001b[0m 25ms/step\n",
            "\u001b[1m1/1\u001b[0m \u001b[32m━━━━━━━━━━━━━━━━━━━━\u001b[0m\u001b[37m\u001b[0m \u001b[1m0s\u001b[0m 25ms/step\n",
            "\u001b[1m1/1\u001b[0m \u001b[32m━━━━━━━━━━━━━━━━━━━━\u001b[0m\u001b[37m\u001b[0m \u001b[1m0s\u001b[0m 24ms/step\n",
            "\u001b[1m1/1\u001b[0m \u001b[32m━━━━━━━━━━━━━━━━━━━━\u001b[0m\u001b[37m\u001b[0m \u001b[1m0s\u001b[0m 25ms/step\n",
            "\u001b[1m1/1\u001b[0m \u001b[32m━━━━━━━━━━━━━━━━━━━━\u001b[0m\u001b[37m\u001b[0m \u001b[1m0s\u001b[0m 26ms/step\n",
            "\u001b[1m1/1\u001b[0m \u001b[32m━━━━━━━━━━━━━━━━━━━━\u001b[0m\u001b[37m\u001b[0m \u001b[1m0s\u001b[0m 26ms/step\n",
            "\u001b[1m1/1\u001b[0m \u001b[32m━━━━━━━━━━━━━━━━━━━━\u001b[0m\u001b[37m\u001b[0m \u001b[1m0s\u001b[0m 33ms/step\n",
            "\u001b[1m1/1\u001b[0m \u001b[32m━━━━━━━━━━━━━━━━━━━━\u001b[0m\u001b[37m\u001b[0m \u001b[1m0s\u001b[0m 26ms/step\n",
            "\u001b[1m1/1\u001b[0m \u001b[32m━━━━━━━━━━━━━━━━━━━━\u001b[0m\u001b[37m\u001b[0m \u001b[1m0s\u001b[0m 26ms/step\n",
            "\u001b[1m1/1\u001b[0m \u001b[32m━━━━━━━━━━━━━━━━━━━━\u001b[0m\u001b[37m\u001b[0m \u001b[1m0s\u001b[0m 30ms/step\n",
            "\u001b[1m1/1\u001b[0m \u001b[32m━━━━━━━━━━━━━━━━━━━━\u001b[0m\u001b[37m\u001b[0m \u001b[1m0s\u001b[0m 25ms/step\n",
            "\u001b[1m1/1\u001b[0m \u001b[32m━━━━━━━━━━━━━━━━━━━━\u001b[0m\u001b[37m\u001b[0m \u001b[1m0s\u001b[0m 36ms/step\n",
            "\u001b[1m1/1\u001b[0m \u001b[32m━━━━━━━━━━━━━━━━━━━━\u001b[0m\u001b[37m\u001b[0m \u001b[1m0s\u001b[0m 26ms/step\n",
            "\u001b[1m1/1\u001b[0m \u001b[32m━━━━━━━━━━━━━━━━━━━━\u001b[0m\u001b[37m\u001b[0m \u001b[1m0s\u001b[0m 31ms/step\n",
            "\u001b[1m1/1\u001b[0m \u001b[32m━━━━━━━━━━━━━━━━━━━━\u001b[0m\u001b[37m\u001b[0m \u001b[1m0s\u001b[0m 25ms/step\n",
            "\u001b[1m1/1\u001b[0m \u001b[32m━━━━━━━━━━━━━━━━━━━━\u001b[0m\u001b[37m\u001b[0m \u001b[1m0s\u001b[0m 35ms/step\n",
            "\u001b[1m1/1\u001b[0m \u001b[32m━━━━━━━━━━━━━━━━━━━━\u001b[0m\u001b[37m\u001b[0m \u001b[1m0s\u001b[0m 28ms/step\n",
            "\u001b[1m1/1\u001b[0m \u001b[32m━━━━━━━━━━━━━━━━━━━━\u001b[0m\u001b[37m\u001b[0m \u001b[1m0s\u001b[0m 25ms/step\n",
            "\u001b[1m1/1\u001b[0m \u001b[32m━━━━━━━━━━━━━━━━━━━━\u001b[0m\u001b[37m\u001b[0m \u001b[1m0s\u001b[0m 27ms/step\n",
            "\u001b[1m1/1\u001b[0m \u001b[32m━━━━━━━━━━━━━━━━━━━━\u001b[0m\u001b[37m\u001b[0m \u001b[1m0s\u001b[0m 25ms/step\n",
            "\u001b[1m1/1\u001b[0m \u001b[32m━━━━━━━━━━━━━━━━━━━━\u001b[0m\u001b[37m\u001b[0m \u001b[1m0s\u001b[0m 26ms/step\n",
            "\u001b[1m1/1\u001b[0m \u001b[32m━━━━━━━━━━━━━━━━━━━━\u001b[0m\u001b[37m\u001b[0m \u001b[1m0s\u001b[0m 27ms/step\n",
            "\u001b[1m1/1\u001b[0m \u001b[32m━━━━━━━━━━━━━━━━━━━━\u001b[0m\u001b[37m\u001b[0m \u001b[1m0s\u001b[0m 27ms/step\n",
            "\u001b[1m1/1\u001b[0m \u001b[32m━━━━━━━━━━━━━━━━━━━━\u001b[0m\u001b[37m\u001b[0m \u001b[1m0s\u001b[0m 26ms/step\n",
            "\u001b[1m1/1\u001b[0m \u001b[32m━━━━━━━━━━━━━━━━━━━━\u001b[0m\u001b[37m\u001b[0m \u001b[1m0s\u001b[0m 24ms/step\n",
            "\u001b[1m1/1\u001b[0m \u001b[32m━━━━━━━━━━━━━━━━━━━━\u001b[0m\u001b[37m\u001b[0m \u001b[1m0s\u001b[0m 26ms/step\n",
            "\u001b[1m1/1\u001b[0m \u001b[32m━━━━━━━━━━━━━━━━━━━━\u001b[0m\u001b[37m\u001b[0m \u001b[1m0s\u001b[0m 26ms/step\n",
            "\u001b[1m1/1\u001b[0m \u001b[32m━━━━━━━━━━━━━━━━━━━━\u001b[0m\u001b[37m\u001b[0m \u001b[1m0s\u001b[0m 27ms/step\n",
            "\u001b[1m1/1\u001b[0m \u001b[32m━━━━━━━━━━━━━━━━━━━━\u001b[0m\u001b[37m\u001b[0m \u001b[1m0s\u001b[0m 32ms/step\n",
            "\u001b[1m1/1\u001b[0m \u001b[32m━━━━━━━━━━━━━━━━━━━━\u001b[0m\u001b[37m\u001b[0m \u001b[1m0s\u001b[0m 26ms/step\n",
            "\u001b[1m1/1\u001b[0m \u001b[32m━━━━━━━━━━━━━━━━━━━━\u001b[0m\u001b[37m\u001b[0m \u001b[1m0s\u001b[0m 28ms/step\n",
            "\u001b[1m1/1\u001b[0m \u001b[32m━━━━━━━━━━━━━━━━━━━━\u001b[0m\u001b[37m\u001b[0m \u001b[1m0s\u001b[0m 26ms/step\n",
            "\u001b[1m1/1\u001b[0m \u001b[32m━━━━━━━━━━━━━━━━━━━━\u001b[0m\u001b[37m\u001b[0m \u001b[1m0s\u001b[0m 27ms/step\n",
            "\u001b[1m1/1\u001b[0m \u001b[32m━━━━━━━━━━━━━━━━━━━━\u001b[0m\u001b[37m\u001b[0m \u001b[1m0s\u001b[0m 28ms/step\n",
            "\u001b[1m1/1\u001b[0m \u001b[32m━━━━━━━━━━━━━━━━━━━━\u001b[0m\u001b[37m\u001b[0m \u001b[1m0s\u001b[0m 27ms/step\n",
            "\u001b[1m1/1\u001b[0m \u001b[32m━━━━━━━━━━━━━━━━━━━━\u001b[0m\u001b[37m\u001b[0m \u001b[1m0s\u001b[0m 27ms/step\n",
            "\u001b[1m1/1\u001b[0m \u001b[32m━━━━━━━━━━━━━━━━━━━━\u001b[0m\u001b[37m\u001b[0m \u001b[1m0s\u001b[0m 27ms/step\n",
            "\u001b[1m1/1\u001b[0m \u001b[32m━━━━━━━━━━━━━━━━━━━━\u001b[0m\u001b[37m\u001b[0m \u001b[1m0s\u001b[0m 25ms/step\n",
            "\u001b[1m1/1\u001b[0m \u001b[32m━━━━━━━━━━━━━━━━━━━━\u001b[0m\u001b[37m\u001b[0m \u001b[1m0s\u001b[0m 25ms/step\n",
            "\u001b[1m1/1\u001b[0m \u001b[32m━━━━━━━━━━━━━━━━━━━━\u001b[0m\u001b[37m\u001b[0m \u001b[1m0s\u001b[0m 26ms/step\n",
            "\u001b[1m1/1\u001b[0m \u001b[32m━━━━━━━━━━━━━━━━━━━━\u001b[0m\u001b[37m\u001b[0m \u001b[1m0s\u001b[0m 34ms/step\n",
            "\u001b[1m1/1\u001b[0m \u001b[32m━━━━━━━━━━━━━━━━━━━━\u001b[0m\u001b[37m\u001b[0m \u001b[1m0s\u001b[0m 27ms/step\n",
            "\u001b[1m1/1\u001b[0m \u001b[32m━━━━━━━━━━━━━━━━━━━━\u001b[0m\u001b[37m\u001b[0m \u001b[1m0s\u001b[0m 27ms/step\n",
            "\u001b[1m1/1\u001b[0m \u001b[32m━━━━━━━━━━━━━━━━━━━━\u001b[0m\u001b[37m\u001b[0m \u001b[1m0s\u001b[0m 26ms/step\n",
            "\u001b[1m1/1\u001b[0m \u001b[32m━━━━━━━━━━━━━━━━━━━━\u001b[0m\u001b[37m\u001b[0m \u001b[1m0s\u001b[0m 27ms/step\n",
            "\u001b[1m1/1\u001b[0m \u001b[32m━━━━━━━━━━━━━━━━━━━━\u001b[0m\u001b[37m\u001b[0m \u001b[1m0s\u001b[0m 29ms/step\n",
            "\u001b[1m1/1\u001b[0m \u001b[32m━━━━━━━━━━━━━━━━━━━━\u001b[0m\u001b[37m\u001b[0m \u001b[1m0s\u001b[0m 28ms/step\n",
            "\u001b[1m1/1\u001b[0m \u001b[32m━━━━━━━━━━━━━━━━━━━━\u001b[0m\u001b[37m\u001b[0m \u001b[1m0s\u001b[0m 26ms/step\n",
            "\u001b[1m1/1\u001b[0m \u001b[32m━━━━━━━━━━━━━━━━━━━━\u001b[0m\u001b[37m\u001b[0m \u001b[1m0s\u001b[0m 25ms/step\n",
            "\u001b[1m1/1\u001b[0m \u001b[32m━━━━━━━━━━━━━━━━━━━━\u001b[0m\u001b[37m\u001b[0m \u001b[1m5s\u001b[0m 5s/step\n"
          ]
        }
      ]
    },
    {
      "cell_type": "markdown",
      "source": [
        "Generate the classification report"
      ],
      "metadata": {
        "id": "nmp-vxhuAHzJ"
      }
    },
    {
      "cell_type": "code",
      "source": [
        "from sklearn.metrics import classification_report"
      ],
      "metadata": {
        "id": "E6gudX6tAQWT"
      },
      "execution_count": null,
      "outputs": []
    },
    {
      "cell_type": "code",
      "source": [
        "report = classification_report(true_labels, predicted_labels, target_names=list(class_indices.keys()))\n",
        "print(report)"
      ],
      "metadata": {
        "colab": {
          "base_uri": "https://localhost:8080/"
        },
        "id": "rF8p22UaAIM7",
        "outputId": "d0cff19f-178b-4aee-802b-5c141e917b1d"
      },
      "execution_count": null,
      "outputs": [
        {
          "output_type": "stream",
          "name": "stdout",
          "text": [
            "              precision    recall  f1-score   support\n",
            "\n",
            "   n01443537       0.95      0.82      0.88        50\n",
            "   n01629819       0.88      0.74      0.80        50\n",
            "   n01641577       0.54      0.56      0.55        50\n",
            "   n01644900       0.67      0.24      0.35        50\n",
            "   n01698640       0.65      0.52      0.58        50\n",
            "   n01742172       0.37      0.52      0.43        50\n",
            "   n01768244       0.64      0.76      0.70        50\n",
            "   n01770393       0.78      0.36      0.49        50\n",
            "   n01774384       0.53      0.84      0.65        50\n",
            "   n01774750       0.94      0.34      0.50        50\n",
            "   n01784675       0.65      0.64      0.65        50\n",
            "   n01855672       0.67      0.68      0.67        50\n",
            "   n01882714       0.84      0.74      0.79        50\n",
            "   n01910747       0.85      0.78      0.81        50\n",
            "   n01917289       0.58      0.86      0.69        50\n",
            "   n01944390       0.69      0.54      0.61        50\n",
            "   n01945685       0.70      0.46      0.55        50\n",
            "   n01950731       0.77      0.68      0.72        50\n",
            "   n01983481       0.71      0.44      0.54        50\n",
            "   n01984695       0.55      0.54      0.55        50\n",
            "   n02002724       0.80      0.72      0.76        50\n",
            "   n02056570       0.84      0.74      0.79        50\n",
            "   n02058221       0.81      0.70      0.75        50\n",
            "   n02074367       0.95      0.80      0.87        50\n",
            "   n02085620       0.68      0.30      0.42        50\n",
            "   n02094433       0.78      0.64      0.70        50\n",
            "   n02099601       0.56      0.40      0.47        50\n",
            "   n02099712       0.40      0.42      0.41        50\n",
            "   n02106662       0.71      0.44      0.54        50\n",
            "   n02113799       0.55      0.46      0.50        50\n",
            "   n02123045       0.67      0.32      0.43        50\n",
            "   n02123394       1.00      0.48      0.65        50\n",
            "   n02124075       0.41      0.58      0.48        50\n",
            "   n02125311       0.53      0.62      0.57        50\n",
            "   n02129165       0.72      0.62      0.67        50\n",
            "   n02132136       0.49      0.74      0.59        50\n",
            "   n02165456       0.94      0.62      0.75        50\n",
            "   n02190166       0.67      0.62      0.65        50\n",
            "   n02206856       0.68      0.56      0.62        50\n",
            "   n02226429       0.50      0.58      0.54        50\n",
            "   n02231487       0.41      0.48      0.44        50\n",
            "   n02233338       0.60      0.50      0.54        50\n",
            "   n02236044       0.77      0.34      0.47        50\n",
            "   n02268443       0.57      0.46      0.51        50\n",
            "   n02279972       0.55      0.94      0.69        50\n",
            "   n02281406       0.76      0.84      0.80        50\n",
            "   n02321529       0.77      0.60      0.67        50\n",
            "   n02364673       0.78      0.56      0.65        50\n",
            "   n02395406       0.50      0.48      0.49        50\n",
            "   n02403003       0.48      0.48      0.48        50\n",
            "   n02410509       0.73      0.70      0.71        50\n",
            "   n02415577       0.68      0.52      0.59        50\n",
            "   n02423022       0.82      0.80      0.81        50\n",
            "   n02437312       0.61      0.68      0.64        50\n",
            "   n02480495       0.83      0.48      0.61        50\n",
            "   n02481823       0.73      0.72      0.73        50\n",
            "   n02486410       0.61      0.54      0.57        50\n",
            "   n02504458       0.53      0.72      0.61        50\n",
            "   n02509815       0.93      0.74      0.82        50\n",
            "   n02666196       0.68      0.42      0.52        50\n",
            "   n02669723       0.86      0.60      0.71        50\n",
            "   n02699494       0.58      0.58      0.58        50\n",
            "   n02730930       0.44      0.50      0.47        50\n",
            "   n02769748       0.61      0.56      0.58        50\n",
            "   n02788148       0.27      0.38      0.31        50\n",
            "   n02791270       0.24      0.38      0.29        50\n",
            "   n02793495       0.64      0.60      0.62        50\n",
            "   n02795169       0.47      0.36      0.41        50\n",
            "   n02802426       0.60      0.60      0.60        50\n",
            "   n02808440       0.60      0.48      0.53        50\n",
            "   n02814533       0.44      0.56      0.49        50\n",
            "   n02814860       0.69      0.70      0.69        50\n",
            "   n02815834       0.69      0.62      0.65        50\n",
            "   n02823428       0.51      0.66      0.57        50\n",
            "   n02837789       0.59      0.72      0.65        50\n",
            "   n02841315       0.55      0.58      0.56        50\n",
            "   n02843684       0.66      0.58      0.62        50\n",
            "   n02883205       0.42      0.32      0.36        50\n",
            "   n02892201       0.48      0.84      0.61        50\n",
            "   n02906734       0.50      0.40      0.44        50\n",
            "   n02909870       0.24      0.42      0.30        50\n",
            "   n02917067       0.95      0.84      0.89        50\n",
            "   n02927161       0.61      0.54      0.57        50\n",
            "   n02948072       0.94      0.32      0.48        50\n",
            "   n02950826       0.55      0.46      0.50        50\n",
            "   n02963159       0.66      0.42      0.51        50\n",
            "   n02977058       0.64      0.42      0.51        50\n",
            "   n02988304       0.47      0.54      0.50        50\n",
            "   n02999410       0.39      0.60      0.47        50\n",
            "   n03014705       0.49      0.68      0.57        50\n",
            "   n03026506       0.66      0.82      0.73        50\n",
            "   n03042490       0.73      0.60      0.66        50\n",
            "   n03085013       0.67      0.72      0.69        50\n",
            "   n03089624       0.68      0.60      0.64        50\n",
            "   n03100240       0.47      0.50      0.49        50\n",
            "   n03126707       0.47      0.68      0.56        50\n",
            "   n03160309       0.60      0.36      0.45        50\n",
            "   n03179701       0.59      0.52      0.55        50\n",
            "   n03201208       0.79      0.62      0.70        50\n",
            "   n03250847       0.48      0.44      0.46        50\n",
            "   n03255030       0.46      0.24      0.32        50\n",
            "   n03355925       0.57      0.66      0.61        50\n",
            "   n03388043       0.39      0.68      0.50        50\n",
            "   n03393912       0.70      0.84      0.76        50\n",
            "   n03400231       0.73      0.32      0.44        50\n",
            "   n03404251       0.46      0.22      0.30        50\n",
            "   n03424325       0.41      0.40      0.40        50\n",
            "   n03444034       0.74      0.64      0.69        50\n",
            "   n03447447       0.49      0.84      0.62        50\n",
            "   n03544143       0.86      0.62      0.72        50\n",
            "   n03584254       0.65      0.64      0.65        50\n",
            "   n03599486       0.33      0.82      0.47        50\n",
            "   n03617480       0.44      0.54      0.49        50\n",
            "   n03637318       0.41      0.68      0.51        50\n",
            "   n03649909       0.43      0.50      0.46        50\n",
            "   n03662601       0.67      0.86      0.75        50\n",
            "   n03670208       0.75      0.48      0.59        50\n",
            "   n03706229       0.53      0.58      0.55        50\n",
            "   n03733131       0.59      0.82      0.69        50\n",
            "   n03763968       0.33      0.40      0.36        50\n",
            "   n03770439       0.36      0.36      0.36        50\n",
            "   n03796401       0.74      0.52      0.61        50\n",
            "   n03804744       0.50      0.48      0.49        50\n",
            "   n03814639       0.60      0.48      0.53        50\n",
            "   n03837869       0.68      0.86      0.76        50\n",
            "   n03838899       0.42      0.52      0.46        50\n",
            "   n03854065       0.59      0.66      0.62        50\n",
            "   n03891332       0.56      0.64      0.60        50\n",
            "   n03902125       0.38      0.60      0.47        50\n",
            "   n03930313       0.49      0.66      0.56        50\n",
            "   n03937543       0.71      0.40      0.51        50\n",
            "   n03970156       0.40      0.12      0.18        50\n",
            "   n03976657       0.27      0.28      0.28        50\n",
            "   n03977966       0.68      0.60      0.64        50\n",
            "   n03980874       0.45      0.66      0.54        50\n",
            "   n03983396       0.50      0.32      0.39        50\n",
            "   n03992509       0.82      0.54      0.65        50\n",
            "   n04008634       0.68      0.34      0.45        50\n",
            "   n04023962       0.34      0.44      0.38        50\n",
            "   n04067472       0.43      0.40      0.42        50\n",
            "   n04070727       0.74      0.56      0.64        50\n",
            "   n04074963       0.61      0.68      0.64        50\n",
            "   n04099969       0.63      0.58      0.60        50\n",
            "   n04118538       0.71      0.72      0.71        50\n",
            "   n04133789       0.50      0.66      0.57        50\n",
            "   n04146614       0.77      0.88      0.82        50\n",
            "   n04149813       0.64      0.84      0.72        50\n",
            "   n04179913       0.54      0.42      0.47        50\n",
            "   n04251144       0.72      0.52      0.60        50\n",
            "   n04254777       0.76      0.50      0.60        50\n",
            "   n04259630       0.21      0.64      0.32        50\n",
            "   n04265275       0.37      0.60      0.46        50\n",
            "   n04275548       0.28      0.84      0.42        50\n",
            "   n04285008       0.53      0.64      0.58        50\n",
            "   n04311004       0.55      0.66      0.60        50\n",
            "   n04328186       0.37      0.68      0.48        50\n",
            "   n04356056       0.50      0.60      0.55        50\n",
            "   n04366367       0.60      0.50      0.54        50\n",
            "   n04371430       0.47      0.38      0.42        50\n",
            "   n04376876       0.50      0.26      0.34        50\n",
            "   n04398044       0.56      0.40      0.47        50\n",
            "   n04399382       0.64      0.60      0.62        50\n",
            "   n04417672       0.49      0.68      0.57        50\n",
            "   n04456115       0.68      0.52      0.59        50\n",
            "   n04465501       0.57      0.56      0.57        50\n",
            "   n04486054       0.83      0.80      0.82        50\n",
            "   n04487081       0.87      0.66      0.75        50\n",
            "   n04501370       0.46      0.54      0.50        50\n",
            "   n04507155       0.23      0.44      0.30        50\n",
            "   n04532106       0.47      0.30      0.37        50\n",
            "   n04532670       0.75      0.66      0.70        50\n",
            "   n04540053       0.68      0.50      0.57        50\n",
            "   n04560804       0.50      0.24      0.32        50\n",
            "   n04562935       0.71      0.80      0.75        50\n",
            "   n04596742       0.59      0.64      0.62        50\n",
            "   n04597913       0.31      0.24      0.27        50\n",
            "   n06596364       0.35      0.82      0.49        50\n",
            "   n07579787       0.43      0.44      0.44        50\n",
            "   n07583066       0.72      0.52      0.60        50\n",
            "   n07614500       0.51      0.42      0.46        50\n",
            "   n07615774       0.65      0.40      0.49        50\n",
            "   n07695742       0.81      0.42      0.55        50\n",
            "   n07711569       0.74      0.34      0.47        50\n",
            "   n07715103       0.78      0.58      0.67        50\n",
            "   n07720875       0.97      0.56      0.71        50\n",
            "   n07734744       0.62      0.74      0.67        50\n",
            "   n07747607       0.79      0.54      0.64        50\n",
            "   n07749582       0.58      0.68      0.62        50\n",
            "   n07753592       0.58      0.50      0.54        50\n",
            "   n07768694       0.81      0.68      0.74        50\n",
            "   n07871810       0.51      0.54      0.52        50\n",
            "   n07873807       0.79      0.66      0.72        50\n",
            "   n07875152       0.74      0.50      0.60        50\n",
            "   n07920052       0.85      0.78      0.81        50\n",
            "   n09193705       0.57      0.70      0.63        50\n",
            "   n09246464       0.39      0.38      0.38        50\n",
            "   n09256479       0.62      0.46      0.53        50\n",
            "   n09332890       0.35      0.38      0.37        50\n",
            "   n09428293       0.60      0.56      0.58        50\n",
            "   n12267677       0.47      0.52      0.50        50\n",
            "\n",
            "    accuracy                           0.57     10000\n",
            "   macro avg       0.61      0.57      0.57     10000\n",
            "weighted avg       0.61      0.57      0.57     10000\n",
            "\n"
          ]
        }
      ]
    },
    {
      "cell_type": "markdown",
      "source": [
        "From the classification report, let’s assume identified classes with an F1-score lower than 0.70."
      ],
      "metadata": {
        "id": "yCslpgL5Ar3A"
      }
    },
    {
      "cell_type": "markdown",
      "source": [
        "Assume we have true_labels and predicted_labels from previous steps:"
      ],
      "metadata": {
        "id": "AjzEXsscDL6D"
      }
    },
    {
      "cell_type": "code",
      "source": [
        "report_dict = classification_report(true_labels, predicted_labels, target_names=list(class_indices.keys()), output_dict=True)"
      ],
      "metadata": {
        "id": "rMVadf0ZDNYG"
      },
      "execution_count": null,
      "outputs": []
    },
    {
      "cell_type": "markdown",
      "source": [
        "Identify Poor Performing Classes:"
      ],
      "metadata": {
        "id": "Cdl4tJT5DTUB"
      }
    },
    {
      "cell_type": "code",
      "source": [
        "def get_poor_performing_classes(report_dict, threshold=0.7):\n",
        "    low_accuracy_classes = []\n",
        "    for class_name, metrics in report_dict.items():\n",
        "        if class_name not in [\"accuracy\", \"macro avg\", \"weighted avg\"]:\n",
        "            if metrics[\"f1-score\"] < threshold:\n",
        "                low_accuracy_classes.append(class_name)\n",
        "    return low_accuracy_classes\n",
        "\n",
        "# Define the threshold for F1-score\n",
        "f1_threshold = 0.7\n",
        "\n",
        "# Get the list of poor performing classes\n",
        "low_accuracy_classes = get_poor_performing_classes(report_dict, f1_threshold)\n",
        "print(f\"Poor performing classes: {low_accuracy_classes}\")\n"
      ],
      "metadata": {
        "colab": {
          "base_uri": "https://localhost:8080/"
        },
        "id": "LAn6E9seDT5P",
        "outputId": "6cfbbf82-d899-4427-db27-96875d388822"
      },
      "execution_count": null,
      "outputs": [
        {
          "output_type": "stream",
          "name": "stdout",
          "text": [
            "Poor performing classes: ['n01641577', 'n01644900', 'n01698640', 'n01742172', 'n01768244', 'n01770393', 'n01774384', 'n01774750', 'n01784675', 'n01855672', 'n01917289', 'n01944390', 'n01945685', 'n01983481', 'n01984695', 'n02085620', 'n02099601', 'n02099712', 'n02106662', 'n02113799', 'n02123045', 'n02123394', 'n02124075', 'n02125311', 'n02129165', 'n02132136', 'n02190166', 'n02206856', 'n02226429', 'n02231487', 'n02233338', 'n02236044', 'n02268443', 'n02279972', 'n02321529', 'n02364673', 'n02395406', 'n02403003', 'n02415577', 'n02437312', 'n02480495', 'n02486410', 'n02504458', 'n02666196', 'n02699494', 'n02730930', 'n02769748', 'n02788148', 'n02791270', 'n02793495', 'n02795169', 'n02802426', 'n02808440', 'n02814533', 'n02814860', 'n02815834', 'n02823428', 'n02837789', 'n02841315', 'n02843684', 'n02883205', 'n02892201', 'n02906734', 'n02909870', 'n02927161', 'n02948072', 'n02950826', 'n02963159', 'n02977058', 'n02988304', 'n02999410', 'n03014705', 'n03042490', 'n03085013', 'n03089624', 'n03100240', 'n03126707', 'n03160309', 'n03179701', 'n03201208', 'n03250847', 'n03255030', 'n03355925', 'n03388043', 'n03400231', 'n03404251', 'n03424325', 'n03444034', 'n03447447', 'n03584254', 'n03599486', 'n03617480', 'n03637318', 'n03649909', 'n03670208', 'n03706229', 'n03733131', 'n03763968', 'n03770439', 'n03796401', 'n03804744', 'n03814639', 'n03838899', 'n03854065', 'n03891332', 'n03902125', 'n03930313', 'n03937543', 'n03970156', 'n03976657', 'n03977966', 'n03980874', 'n03983396', 'n03992509', 'n04008634', 'n04023962', 'n04067472', 'n04070727', 'n04074963', 'n04099969', 'n04133789', 'n04179913', 'n04251144', 'n04254777', 'n04259630', 'n04265275', 'n04275548', 'n04285008', 'n04311004', 'n04328186', 'n04356056', 'n04366367', 'n04371430', 'n04376876', 'n04398044', 'n04399382', 'n04417672', 'n04456115', 'n04465501', 'n04501370', 'n04507155', 'n04532106', 'n04540053', 'n04560804', 'n04596742', 'n04597913', 'n06596364', 'n07579787', 'n07583066', 'n07614500', 'n07615774', 'n07695742', 'n07711569', 'n07715103', 'n07734744', 'n07747607', 'n07749582', 'n07753592', 'n07871810', 'n07875152', 'n09193705', 'n09246464', 'n09256479', 'n09332890', 'n09428293', 'n12267677']\n"
          ]
        }
      ]
    },
    {
      "cell_type": "markdown",
      "source": [
        "Let's make an additional augmentation:"
      ],
      "metadata": {
        "id": "98Qs8Z8lnxrp"
      }
    },
    {
      "cell_type": "code",
      "source": [
        "additional_datagen = ImageDataGenerator(\n",
        "    rescale=1./255,\n",
        "    rotation_range=50,\n",
        "    width_shift_range=0.4,\n",
        "    height_shift_range=0.4,\n",
        "    shear_range=0.4,\n",
        "    zoom_range=0.4,\n",
        "    horizontal_flip=True,\n",
        "    fill_mode='nearest'\n",
        ")"
      ],
      "metadata": {
        "id": "j4RCSaiXn0_o"
      },
      "execution_count": null,
      "outputs": []
    },
    {
      "cell_type": "code",
      "source": [
        "train_dir = '/content/tiny-imagenet-200/train'\n",
        "\n",
        "for class_name in low_accuracy_classes:\n",
        "    class_dir = os.path.join(train_dir, class_name, 'images')\n",
        "    if os.path.exists(class_dir):\n",
        "        for file_name in os.listdir(class_dir):\n",
        "            full_file_name = os.path.join(class_dir, file_name)\n",
        "            if os.path.isfile(full_file_name):\n",
        "                shutil.move(full_file_name, os.path.join(train_dir, class_name))\n",
        "        print(f\"Moved files from {class_dir} to {os.path.join(train_dir, class_name)}\")\n",
        "    else:\n",
        "        print(f\"Directory {class_dir} does not exist.\")\n"
      ],
      "metadata": {
        "colab": {
          "base_uri": "https://localhost:8080/"
        },
        "id": "NuJ1_Xw3G7as",
        "outputId": "400502a8-b0c6-48c3-82d0-83e827cc6299"
      },
      "execution_count": null,
      "outputs": [
        {
          "output_type": "stream",
          "name": "stdout",
          "text": [
            "Moved files from /content/tiny-imagenet-200/train/n01641577/images to /content/tiny-imagenet-200/train/n01641577\n",
            "Moved files from /content/tiny-imagenet-200/train/n01644900/images to /content/tiny-imagenet-200/train/n01644900\n",
            "Moved files from /content/tiny-imagenet-200/train/n01698640/images to /content/tiny-imagenet-200/train/n01698640\n",
            "Moved files from /content/tiny-imagenet-200/train/n01742172/images to /content/tiny-imagenet-200/train/n01742172\n",
            "Moved files from /content/tiny-imagenet-200/train/n01768244/images to /content/tiny-imagenet-200/train/n01768244\n",
            "Moved files from /content/tiny-imagenet-200/train/n01770393/images to /content/tiny-imagenet-200/train/n01770393\n",
            "Moved files from /content/tiny-imagenet-200/train/n01774384/images to /content/tiny-imagenet-200/train/n01774384\n",
            "Moved files from /content/tiny-imagenet-200/train/n01774750/images to /content/tiny-imagenet-200/train/n01774750\n",
            "Moved files from /content/tiny-imagenet-200/train/n01784675/images to /content/tiny-imagenet-200/train/n01784675\n",
            "Moved files from /content/tiny-imagenet-200/train/n01855672/images to /content/tiny-imagenet-200/train/n01855672\n",
            "Moved files from /content/tiny-imagenet-200/train/n01917289/images to /content/tiny-imagenet-200/train/n01917289\n",
            "Moved files from /content/tiny-imagenet-200/train/n01944390/images to /content/tiny-imagenet-200/train/n01944390\n",
            "Moved files from /content/tiny-imagenet-200/train/n01945685/images to /content/tiny-imagenet-200/train/n01945685\n",
            "Moved files from /content/tiny-imagenet-200/train/n01983481/images to /content/tiny-imagenet-200/train/n01983481\n",
            "Moved files from /content/tiny-imagenet-200/train/n01984695/images to /content/tiny-imagenet-200/train/n01984695\n",
            "Moved files from /content/tiny-imagenet-200/train/n02085620/images to /content/tiny-imagenet-200/train/n02085620\n",
            "Moved files from /content/tiny-imagenet-200/train/n02099601/images to /content/tiny-imagenet-200/train/n02099601\n",
            "Moved files from /content/tiny-imagenet-200/train/n02099712/images to /content/tiny-imagenet-200/train/n02099712\n",
            "Moved files from /content/tiny-imagenet-200/train/n02106662/images to /content/tiny-imagenet-200/train/n02106662\n",
            "Moved files from /content/tiny-imagenet-200/train/n02113799/images to /content/tiny-imagenet-200/train/n02113799\n",
            "Moved files from /content/tiny-imagenet-200/train/n02123045/images to /content/tiny-imagenet-200/train/n02123045\n",
            "Moved files from /content/tiny-imagenet-200/train/n02123394/images to /content/tiny-imagenet-200/train/n02123394\n",
            "Moved files from /content/tiny-imagenet-200/train/n02124075/images to /content/tiny-imagenet-200/train/n02124075\n",
            "Moved files from /content/tiny-imagenet-200/train/n02125311/images to /content/tiny-imagenet-200/train/n02125311\n",
            "Moved files from /content/tiny-imagenet-200/train/n02129165/images to /content/tiny-imagenet-200/train/n02129165\n",
            "Moved files from /content/tiny-imagenet-200/train/n02132136/images to /content/tiny-imagenet-200/train/n02132136\n",
            "Moved files from /content/tiny-imagenet-200/train/n02190166/images to /content/tiny-imagenet-200/train/n02190166\n",
            "Moved files from /content/tiny-imagenet-200/train/n02206856/images to /content/tiny-imagenet-200/train/n02206856\n",
            "Moved files from /content/tiny-imagenet-200/train/n02226429/images to /content/tiny-imagenet-200/train/n02226429\n",
            "Moved files from /content/tiny-imagenet-200/train/n02231487/images to /content/tiny-imagenet-200/train/n02231487\n",
            "Moved files from /content/tiny-imagenet-200/train/n02233338/images to /content/tiny-imagenet-200/train/n02233338\n",
            "Moved files from /content/tiny-imagenet-200/train/n02236044/images to /content/tiny-imagenet-200/train/n02236044\n",
            "Moved files from /content/tiny-imagenet-200/train/n02268443/images to /content/tiny-imagenet-200/train/n02268443\n",
            "Moved files from /content/tiny-imagenet-200/train/n02279972/images to /content/tiny-imagenet-200/train/n02279972\n",
            "Moved files from /content/tiny-imagenet-200/train/n02321529/images to /content/tiny-imagenet-200/train/n02321529\n",
            "Moved files from /content/tiny-imagenet-200/train/n02364673/images to /content/tiny-imagenet-200/train/n02364673\n",
            "Moved files from /content/tiny-imagenet-200/train/n02395406/images to /content/tiny-imagenet-200/train/n02395406\n",
            "Moved files from /content/tiny-imagenet-200/train/n02403003/images to /content/tiny-imagenet-200/train/n02403003\n",
            "Moved files from /content/tiny-imagenet-200/train/n02415577/images to /content/tiny-imagenet-200/train/n02415577\n",
            "Moved files from /content/tiny-imagenet-200/train/n02437312/images to /content/tiny-imagenet-200/train/n02437312\n",
            "Moved files from /content/tiny-imagenet-200/train/n02480495/images to /content/tiny-imagenet-200/train/n02480495\n",
            "Moved files from /content/tiny-imagenet-200/train/n02486410/images to /content/tiny-imagenet-200/train/n02486410\n",
            "Moved files from /content/tiny-imagenet-200/train/n02504458/images to /content/tiny-imagenet-200/train/n02504458\n",
            "Moved files from /content/tiny-imagenet-200/train/n02666196/images to /content/tiny-imagenet-200/train/n02666196\n",
            "Moved files from /content/tiny-imagenet-200/train/n02699494/images to /content/tiny-imagenet-200/train/n02699494\n",
            "Moved files from /content/tiny-imagenet-200/train/n02730930/images to /content/tiny-imagenet-200/train/n02730930\n",
            "Moved files from /content/tiny-imagenet-200/train/n02769748/images to /content/tiny-imagenet-200/train/n02769748\n",
            "Moved files from /content/tiny-imagenet-200/train/n02788148/images to /content/tiny-imagenet-200/train/n02788148\n",
            "Moved files from /content/tiny-imagenet-200/train/n02791270/images to /content/tiny-imagenet-200/train/n02791270\n",
            "Moved files from /content/tiny-imagenet-200/train/n02793495/images to /content/tiny-imagenet-200/train/n02793495\n",
            "Moved files from /content/tiny-imagenet-200/train/n02795169/images to /content/tiny-imagenet-200/train/n02795169\n",
            "Moved files from /content/tiny-imagenet-200/train/n02802426/images to /content/tiny-imagenet-200/train/n02802426\n",
            "Moved files from /content/tiny-imagenet-200/train/n02808440/images to /content/tiny-imagenet-200/train/n02808440\n",
            "Moved files from /content/tiny-imagenet-200/train/n02814533/images to /content/tiny-imagenet-200/train/n02814533\n",
            "Moved files from /content/tiny-imagenet-200/train/n02814860/images to /content/tiny-imagenet-200/train/n02814860\n",
            "Moved files from /content/tiny-imagenet-200/train/n02815834/images to /content/tiny-imagenet-200/train/n02815834\n",
            "Moved files from /content/tiny-imagenet-200/train/n02823428/images to /content/tiny-imagenet-200/train/n02823428\n",
            "Moved files from /content/tiny-imagenet-200/train/n02837789/images to /content/tiny-imagenet-200/train/n02837789\n",
            "Moved files from /content/tiny-imagenet-200/train/n02841315/images to /content/tiny-imagenet-200/train/n02841315\n",
            "Moved files from /content/tiny-imagenet-200/train/n02843684/images to /content/tiny-imagenet-200/train/n02843684\n",
            "Moved files from /content/tiny-imagenet-200/train/n02883205/images to /content/tiny-imagenet-200/train/n02883205\n",
            "Moved files from /content/tiny-imagenet-200/train/n02892201/images to /content/tiny-imagenet-200/train/n02892201\n",
            "Moved files from /content/tiny-imagenet-200/train/n02906734/images to /content/tiny-imagenet-200/train/n02906734\n",
            "Moved files from /content/tiny-imagenet-200/train/n02909870/images to /content/tiny-imagenet-200/train/n02909870\n",
            "Moved files from /content/tiny-imagenet-200/train/n02927161/images to /content/tiny-imagenet-200/train/n02927161\n",
            "Moved files from /content/tiny-imagenet-200/train/n02948072/images to /content/tiny-imagenet-200/train/n02948072\n",
            "Moved files from /content/tiny-imagenet-200/train/n02950826/images to /content/tiny-imagenet-200/train/n02950826\n",
            "Moved files from /content/tiny-imagenet-200/train/n02963159/images to /content/tiny-imagenet-200/train/n02963159\n",
            "Moved files from /content/tiny-imagenet-200/train/n02977058/images to /content/tiny-imagenet-200/train/n02977058\n",
            "Moved files from /content/tiny-imagenet-200/train/n02988304/images to /content/tiny-imagenet-200/train/n02988304\n",
            "Moved files from /content/tiny-imagenet-200/train/n02999410/images to /content/tiny-imagenet-200/train/n02999410\n",
            "Moved files from /content/tiny-imagenet-200/train/n03014705/images to /content/tiny-imagenet-200/train/n03014705\n",
            "Moved files from /content/tiny-imagenet-200/train/n03042490/images to /content/tiny-imagenet-200/train/n03042490\n",
            "Moved files from /content/tiny-imagenet-200/train/n03085013/images to /content/tiny-imagenet-200/train/n03085013\n",
            "Moved files from /content/tiny-imagenet-200/train/n03089624/images to /content/tiny-imagenet-200/train/n03089624\n",
            "Moved files from /content/tiny-imagenet-200/train/n03100240/images to /content/tiny-imagenet-200/train/n03100240\n",
            "Moved files from /content/tiny-imagenet-200/train/n03126707/images to /content/tiny-imagenet-200/train/n03126707\n",
            "Moved files from /content/tiny-imagenet-200/train/n03160309/images to /content/tiny-imagenet-200/train/n03160309\n",
            "Moved files from /content/tiny-imagenet-200/train/n03179701/images to /content/tiny-imagenet-200/train/n03179701\n",
            "Moved files from /content/tiny-imagenet-200/train/n03201208/images to /content/tiny-imagenet-200/train/n03201208\n",
            "Moved files from /content/tiny-imagenet-200/train/n03250847/images to /content/tiny-imagenet-200/train/n03250847\n",
            "Moved files from /content/tiny-imagenet-200/train/n03255030/images to /content/tiny-imagenet-200/train/n03255030\n",
            "Moved files from /content/tiny-imagenet-200/train/n03355925/images to /content/tiny-imagenet-200/train/n03355925\n",
            "Moved files from /content/tiny-imagenet-200/train/n03388043/images to /content/tiny-imagenet-200/train/n03388043\n",
            "Moved files from /content/tiny-imagenet-200/train/n03400231/images to /content/tiny-imagenet-200/train/n03400231\n",
            "Moved files from /content/tiny-imagenet-200/train/n03404251/images to /content/tiny-imagenet-200/train/n03404251\n",
            "Moved files from /content/tiny-imagenet-200/train/n03424325/images to /content/tiny-imagenet-200/train/n03424325\n",
            "Moved files from /content/tiny-imagenet-200/train/n03444034/images to /content/tiny-imagenet-200/train/n03444034\n",
            "Moved files from /content/tiny-imagenet-200/train/n03447447/images to /content/tiny-imagenet-200/train/n03447447\n",
            "Moved files from /content/tiny-imagenet-200/train/n03584254/images to /content/tiny-imagenet-200/train/n03584254\n",
            "Moved files from /content/tiny-imagenet-200/train/n03599486/images to /content/tiny-imagenet-200/train/n03599486\n",
            "Moved files from /content/tiny-imagenet-200/train/n03617480/images to /content/tiny-imagenet-200/train/n03617480\n",
            "Moved files from /content/tiny-imagenet-200/train/n03637318/images to /content/tiny-imagenet-200/train/n03637318\n",
            "Moved files from /content/tiny-imagenet-200/train/n03649909/images to /content/tiny-imagenet-200/train/n03649909\n",
            "Moved files from /content/tiny-imagenet-200/train/n03670208/images to /content/tiny-imagenet-200/train/n03670208\n",
            "Moved files from /content/tiny-imagenet-200/train/n03706229/images to /content/tiny-imagenet-200/train/n03706229\n",
            "Moved files from /content/tiny-imagenet-200/train/n03733131/images to /content/tiny-imagenet-200/train/n03733131\n",
            "Moved files from /content/tiny-imagenet-200/train/n03763968/images to /content/tiny-imagenet-200/train/n03763968\n",
            "Moved files from /content/tiny-imagenet-200/train/n03770439/images to /content/tiny-imagenet-200/train/n03770439\n",
            "Moved files from /content/tiny-imagenet-200/train/n03796401/images to /content/tiny-imagenet-200/train/n03796401\n",
            "Moved files from /content/tiny-imagenet-200/train/n03804744/images to /content/tiny-imagenet-200/train/n03804744\n",
            "Moved files from /content/tiny-imagenet-200/train/n03814639/images to /content/tiny-imagenet-200/train/n03814639\n",
            "Moved files from /content/tiny-imagenet-200/train/n03838899/images to /content/tiny-imagenet-200/train/n03838899\n",
            "Moved files from /content/tiny-imagenet-200/train/n03854065/images to /content/tiny-imagenet-200/train/n03854065\n",
            "Moved files from /content/tiny-imagenet-200/train/n03891332/images to /content/tiny-imagenet-200/train/n03891332\n",
            "Moved files from /content/tiny-imagenet-200/train/n03902125/images to /content/tiny-imagenet-200/train/n03902125\n",
            "Moved files from /content/tiny-imagenet-200/train/n03930313/images to /content/tiny-imagenet-200/train/n03930313\n",
            "Moved files from /content/tiny-imagenet-200/train/n03937543/images to /content/tiny-imagenet-200/train/n03937543\n",
            "Moved files from /content/tiny-imagenet-200/train/n03970156/images to /content/tiny-imagenet-200/train/n03970156\n",
            "Moved files from /content/tiny-imagenet-200/train/n03976657/images to /content/tiny-imagenet-200/train/n03976657\n",
            "Moved files from /content/tiny-imagenet-200/train/n03977966/images to /content/tiny-imagenet-200/train/n03977966\n",
            "Moved files from /content/tiny-imagenet-200/train/n03980874/images to /content/tiny-imagenet-200/train/n03980874\n",
            "Moved files from /content/tiny-imagenet-200/train/n03983396/images to /content/tiny-imagenet-200/train/n03983396\n",
            "Moved files from /content/tiny-imagenet-200/train/n03992509/images to /content/tiny-imagenet-200/train/n03992509\n",
            "Moved files from /content/tiny-imagenet-200/train/n04008634/images to /content/tiny-imagenet-200/train/n04008634\n",
            "Moved files from /content/tiny-imagenet-200/train/n04023962/images to /content/tiny-imagenet-200/train/n04023962\n",
            "Moved files from /content/tiny-imagenet-200/train/n04067472/images to /content/tiny-imagenet-200/train/n04067472\n",
            "Moved files from /content/tiny-imagenet-200/train/n04070727/images to /content/tiny-imagenet-200/train/n04070727\n",
            "Moved files from /content/tiny-imagenet-200/train/n04074963/images to /content/tiny-imagenet-200/train/n04074963\n",
            "Moved files from /content/tiny-imagenet-200/train/n04099969/images to /content/tiny-imagenet-200/train/n04099969\n",
            "Moved files from /content/tiny-imagenet-200/train/n04133789/images to /content/tiny-imagenet-200/train/n04133789\n",
            "Moved files from /content/tiny-imagenet-200/train/n04179913/images to /content/tiny-imagenet-200/train/n04179913\n",
            "Moved files from /content/tiny-imagenet-200/train/n04251144/images to /content/tiny-imagenet-200/train/n04251144\n",
            "Moved files from /content/tiny-imagenet-200/train/n04254777/images to /content/tiny-imagenet-200/train/n04254777\n",
            "Moved files from /content/tiny-imagenet-200/train/n04259630/images to /content/tiny-imagenet-200/train/n04259630\n",
            "Moved files from /content/tiny-imagenet-200/train/n04265275/images to /content/tiny-imagenet-200/train/n04265275\n",
            "Moved files from /content/tiny-imagenet-200/train/n04275548/images to /content/tiny-imagenet-200/train/n04275548\n",
            "Moved files from /content/tiny-imagenet-200/train/n04285008/images to /content/tiny-imagenet-200/train/n04285008\n",
            "Moved files from /content/tiny-imagenet-200/train/n04311004/images to /content/tiny-imagenet-200/train/n04311004\n",
            "Moved files from /content/tiny-imagenet-200/train/n04328186/images to /content/tiny-imagenet-200/train/n04328186\n",
            "Moved files from /content/tiny-imagenet-200/train/n04356056/images to /content/tiny-imagenet-200/train/n04356056\n",
            "Moved files from /content/tiny-imagenet-200/train/n04366367/images to /content/tiny-imagenet-200/train/n04366367\n",
            "Moved files from /content/tiny-imagenet-200/train/n04371430/images to /content/tiny-imagenet-200/train/n04371430\n",
            "Moved files from /content/tiny-imagenet-200/train/n04376876/images to /content/tiny-imagenet-200/train/n04376876\n",
            "Moved files from /content/tiny-imagenet-200/train/n04398044/images to /content/tiny-imagenet-200/train/n04398044\n",
            "Moved files from /content/tiny-imagenet-200/train/n04399382/images to /content/tiny-imagenet-200/train/n04399382\n",
            "Moved files from /content/tiny-imagenet-200/train/n04417672/images to /content/tiny-imagenet-200/train/n04417672\n",
            "Moved files from /content/tiny-imagenet-200/train/n04456115/images to /content/tiny-imagenet-200/train/n04456115\n",
            "Moved files from /content/tiny-imagenet-200/train/n04465501/images to /content/tiny-imagenet-200/train/n04465501\n",
            "Moved files from /content/tiny-imagenet-200/train/n04501370/images to /content/tiny-imagenet-200/train/n04501370\n",
            "Moved files from /content/tiny-imagenet-200/train/n04507155/images to /content/tiny-imagenet-200/train/n04507155\n",
            "Moved files from /content/tiny-imagenet-200/train/n04532106/images to /content/tiny-imagenet-200/train/n04532106\n",
            "Moved files from /content/tiny-imagenet-200/train/n04540053/images to /content/tiny-imagenet-200/train/n04540053\n",
            "Moved files from /content/tiny-imagenet-200/train/n04560804/images to /content/tiny-imagenet-200/train/n04560804\n",
            "Moved files from /content/tiny-imagenet-200/train/n04596742/images to /content/tiny-imagenet-200/train/n04596742\n",
            "Moved files from /content/tiny-imagenet-200/train/n04597913/images to /content/tiny-imagenet-200/train/n04597913\n",
            "Moved files from /content/tiny-imagenet-200/train/n06596364/images to /content/tiny-imagenet-200/train/n06596364\n",
            "Moved files from /content/tiny-imagenet-200/train/n07579787/images to /content/tiny-imagenet-200/train/n07579787\n",
            "Moved files from /content/tiny-imagenet-200/train/n07583066/images to /content/tiny-imagenet-200/train/n07583066\n",
            "Moved files from /content/tiny-imagenet-200/train/n07614500/images to /content/tiny-imagenet-200/train/n07614500\n",
            "Moved files from /content/tiny-imagenet-200/train/n07615774/images to /content/tiny-imagenet-200/train/n07615774\n",
            "Moved files from /content/tiny-imagenet-200/train/n07695742/images to /content/tiny-imagenet-200/train/n07695742\n",
            "Moved files from /content/tiny-imagenet-200/train/n07711569/images to /content/tiny-imagenet-200/train/n07711569\n",
            "Moved files from /content/tiny-imagenet-200/train/n07715103/images to /content/tiny-imagenet-200/train/n07715103\n",
            "Moved files from /content/tiny-imagenet-200/train/n07734744/images to /content/tiny-imagenet-200/train/n07734744\n",
            "Moved files from /content/tiny-imagenet-200/train/n07747607/images to /content/tiny-imagenet-200/train/n07747607\n",
            "Moved files from /content/tiny-imagenet-200/train/n07749582/images to /content/tiny-imagenet-200/train/n07749582\n",
            "Moved files from /content/tiny-imagenet-200/train/n07753592/images to /content/tiny-imagenet-200/train/n07753592\n",
            "Moved files from /content/tiny-imagenet-200/train/n07871810/images to /content/tiny-imagenet-200/train/n07871810\n",
            "Moved files from /content/tiny-imagenet-200/train/n07875152/images to /content/tiny-imagenet-200/train/n07875152\n",
            "Moved files from /content/tiny-imagenet-200/train/n09193705/images to /content/tiny-imagenet-200/train/n09193705\n",
            "Moved files from /content/tiny-imagenet-200/train/n09246464/images to /content/tiny-imagenet-200/train/n09246464\n",
            "Moved files from /content/tiny-imagenet-200/train/n09256479/images to /content/tiny-imagenet-200/train/n09256479\n",
            "Moved files from /content/tiny-imagenet-200/train/n09332890/images to /content/tiny-imagenet-200/train/n09332890\n",
            "Moved files from /content/tiny-imagenet-200/train/n09428293/images to /content/tiny-imagenet-200/train/n09428293\n",
            "Moved files from /content/tiny-imagenet-200/train/n12267677/images to /content/tiny-imagenet-200/train/n12267677\n"
          ]
        }
      ]
    },
    {
      "cell_type": "markdown",
      "source": [
        "Creating an additional generator for training images only with classes with low accuracy:"
      ],
      "metadata": {
        "id": "qTlp2PvJn6Pl"
      }
    },
    {
      "cell_type": "code",
      "source": [
        "from keras.utils import Sequence\n",
        "\n",
        "def create_class_specific_generator(generator, class_indices, classes, base_dirs):\n",
        "    class_filenames = []\n",
        "    class_labels = []\n",
        "    for base_dir in base_dirs:\n",
        "        for class_name in classes:\n",
        "            class_index = class_indices[class_name]\n",
        "            class_dir = os.path.join(base_dir, class_name)\n",
        "            if not os.path.exists(class_dir):\n",
        "                print(f\"Directory {class_dir} does not exist.\")\n",
        "                continue\n",
        "            class_files = [os.path.join(class_dir, fname) for fname in os.listdir(class_dir) if os.path.isfile(os.path.join(class_dir, fname)) and fname.lower().endswith(('.jpeg', '.jpg', '.png'))]\n",
        "            if not class_files:\n",
        "                print(f\"No files found in directory {class_dir}.\")\n",
        "                continue\n",
        "            class_filenames.extend(class_files)\n",
        "            class_labels.extend([class_name] * len(class_files))\n",
        "            print(f\"Found {len(class_files)} files in directory {class_dir}.\")\n",
        "\n",
        "    print(f\"Found {len(class_filenames)} images for augmentation.\")\n",
        "\n",
        "    if not class_filenames:\n",
        "        print(\"No valid images found for augmentation.\")\n",
        "        return None\n",
        "\n",
        "    # Adding dummy classes to equalize the number of classes\n",
        "    all_class_names = list(class_indices.keys())\n",
        "    for class_name in all_class_names:\n",
        "        if class_name not in classes:\n",
        "            dummy_image = class_filenames[0]  # Use first image as dummy\n",
        "            class_filenames.append(dummy_image)\n",
        "            class_labels.append(class_name)\n",
        "\n",
        "    df = pd.DataFrame({'filename': class_filenames, 'class': class_labels})\n",
        "    print(df.head())\n",
        "\n",
        "    class_specific_generator = generator.flow_from_dataframe(\n",
        "        dataframe=df,\n",
        "        directory=None,\n",
        "        x_col='filename',\n",
        "        y_col='class',\n",
        "        target_size=(64, 64),\n",
        "        batch_size=32,\n",
        "        class_mode='categorical',\n",
        "        shuffle=True\n",
        "    )\n",
        "    return class_specific_generator"
      ],
      "metadata": {
        "id": "YG-bdbCKCZ3y"
      },
      "execution_count": null,
      "outputs": []
    },
    {
      "cell_type": "markdown",
      "source": [
        "Make sure train_dir and val_dir are defined correctly:"
      ],
      "metadata": {
        "id": "8ABeCchkCiRY"
      }
    },
    {
      "cell_type": "code",
      "source": [
        "train_dir = '/content/tiny-imagenet-200/train'\n",
        "val_dir = '/content/tiny-imagenet-200/val'"
      ],
      "metadata": {
        "id": "hYot9bR-CjKE"
      },
      "execution_count": null,
      "outputs": []
    },
    {
      "cell_type": "markdown",
      "source": [
        "Create new instances of generators after moving files:"
      ],
      "metadata": {
        "id": "A877WwUgCnZo"
      }
    },
    {
      "cell_type": "code",
      "source": [
        "train_datagen = ImageDataGenerator(rescale=1.0/255.0)\n",
        "val_datagen = ImageDataGenerator(rescale=1.0/255.0)\n",
        "\n",
        "train_generator = train_datagen.flow_from_directory(\n",
        "    directory=train_dir,\n",
        "    target_size=(64, 64),\n",
        "    batch_size=32,\n",
        "    class_mode='categorical',\n",
        "    shuffle=True\n",
        ")\n",
        "\n",
        "val_generator = val_datagen.flow_from_directory(\n",
        "    directory=val_dir,\n",
        "    target_size=(64, 64),\n",
        "    batch_size=32,\n",
        "    class_mode='categorical',\n",
        "    shuffle=False\n",
        ")"
      ],
      "metadata": {
        "colab": {
          "base_uri": "https://localhost:8080/"
        },
        "id": "8dVeg1xCn7Do",
        "outputId": "d8f4e297-bc2f-45cf-e79c-5e99cde0409a"
      },
      "execution_count": null,
      "outputs": [
        {
          "output_type": "stream",
          "name": "stdout",
          "text": [
            "Found 100000 images belonging to 200 classes.\n",
            "Found 10000 images belonging to 200 classes.\n"
          ]
        }
      ]
    },
    {
      "cell_type": "markdown",
      "source": [
        "Creating a generator for classes with low accuracy:"
      ],
      "metadata": {
        "id": "uM_WiWHTCuD_"
      }
    },
    {
      "cell_type": "code",
      "source": [
        "# Створення генератора для класів з низькою точністю\n",
        "additional_datagen = ImageDataGenerator(rescale=1.0/255.0)\n",
        "class_indices = {class_name: idx for idx, class_name in enumerate(os.listdir(train_dir))}\n",
        "additional_generator = create_class_specific_generator(additional_datagen, class_indices, low_accuracy_classes, [train_dir, val_dir])\n",
        "\n",
        "if additional_generator is not None:\n",
        "    class CombinedGenerator(Sequence):\n",
        "        def __init__(self, generator1, generator2):\n",
        "            self.generator1 = generator1\n",
        "            self.generator2 = generator2\n",
        "\n",
        "        def __len__(self):\n",
        "            return min(len(self.generator1), len(self.generator2))\n",
        "\n",
        "        def __getitem__(self, index):\n",
        "            x1, y1 = self.generator1[index]\n",
        "            x2, y2 = self.generator2[index]\n",
        "            x_combined = np.concatenate((x1, x2), axis=0)\n",
        "            y_combined = np.concatenate((y1, y2), axis=0)\n",
        "            return x_combined, y_combined\n",
        "\n",
        "    # combine general and additional generators\n",
        "    combined_generator = CombinedGenerator(train_generator, additional_generator)\n",
        "\n",
        "    # train model with combiened generator\n",
        "    history = model.fit(\n",
        "        combined_generator,\n",
        "        epochs=25,\n",
        "        validation_data=val_generator,\n",
        "        callbacks=[early_stopping, reduce_lr, lr_scheduler]\n",
        "    )\n",
        "else:\n",
        "    print(\"Additional generator is None. Skipping training with augmented data.\")\n"
      ],
      "metadata": {
        "id": "shN7eNZ0C1lf",
        "outputId": "510803e2-7927-48f7-fa86-ece4c102a2eb",
        "colab": {
          "base_uri": "https://localhost:8080/"
        }
      },
      "execution_count": null,
      "outputs": [
        {
          "output_type": "stream",
          "name": "stdout",
          "text": [
            "Found 500 files in directory /content/tiny-imagenet-200/train/n01641577.\n",
            "Found 500 files in directory /content/tiny-imagenet-200/train/n01644900.\n",
            "Found 500 files in directory /content/tiny-imagenet-200/train/n01698640.\n",
            "Found 500 files in directory /content/tiny-imagenet-200/train/n01742172.\n",
            "Found 500 files in directory /content/tiny-imagenet-200/train/n01768244.\n",
            "Found 500 files in directory /content/tiny-imagenet-200/train/n01770393.\n",
            "Found 500 files in directory /content/tiny-imagenet-200/train/n01774384.\n",
            "Found 500 files in directory /content/tiny-imagenet-200/train/n01774750.\n",
            "Found 500 files in directory /content/tiny-imagenet-200/train/n01784675.\n",
            "Found 500 files in directory /content/tiny-imagenet-200/train/n01855672.\n",
            "Found 500 files in directory /content/tiny-imagenet-200/train/n01917289.\n",
            "Found 500 files in directory /content/tiny-imagenet-200/train/n01944390.\n",
            "Found 500 files in directory /content/tiny-imagenet-200/train/n01945685.\n",
            "Found 500 files in directory /content/tiny-imagenet-200/train/n01983481.\n",
            "Found 500 files in directory /content/tiny-imagenet-200/train/n01984695.\n",
            "Found 500 files in directory /content/tiny-imagenet-200/train/n02085620.\n",
            "Found 500 files in directory /content/tiny-imagenet-200/train/n02099601.\n",
            "Found 500 files in directory /content/tiny-imagenet-200/train/n02099712.\n",
            "Found 500 files in directory /content/tiny-imagenet-200/train/n02106662.\n",
            "Found 500 files in directory /content/tiny-imagenet-200/train/n02113799.\n",
            "Found 500 files in directory /content/tiny-imagenet-200/train/n02123045.\n",
            "Found 500 files in directory /content/tiny-imagenet-200/train/n02123394.\n",
            "Found 500 files in directory /content/tiny-imagenet-200/train/n02124075.\n",
            "Found 500 files in directory /content/tiny-imagenet-200/train/n02125311.\n",
            "Found 500 files in directory /content/tiny-imagenet-200/train/n02129165.\n",
            "Found 500 files in directory /content/tiny-imagenet-200/train/n02132136.\n",
            "Found 500 files in directory /content/tiny-imagenet-200/train/n02190166.\n",
            "Found 500 files in directory /content/tiny-imagenet-200/train/n02206856.\n",
            "Found 500 files in directory /content/tiny-imagenet-200/train/n02226429.\n",
            "Found 500 files in directory /content/tiny-imagenet-200/train/n02231487.\n",
            "Found 500 files in directory /content/tiny-imagenet-200/train/n02233338.\n",
            "Found 500 files in directory /content/tiny-imagenet-200/train/n02236044.\n",
            "Found 500 files in directory /content/tiny-imagenet-200/train/n02268443.\n",
            "Found 500 files in directory /content/tiny-imagenet-200/train/n02279972.\n",
            "Found 500 files in directory /content/tiny-imagenet-200/train/n02321529.\n",
            "Found 500 files in directory /content/tiny-imagenet-200/train/n02364673.\n",
            "Found 500 files in directory /content/tiny-imagenet-200/train/n02395406.\n",
            "Found 500 files in directory /content/tiny-imagenet-200/train/n02403003.\n",
            "Found 500 files in directory /content/tiny-imagenet-200/train/n02415577.\n",
            "Found 500 files in directory /content/tiny-imagenet-200/train/n02437312.\n",
            "Found 500 files in directory /content/tiny-imagenet-200/train/n02480495.\n",
            "Found 500 files in directory /content/tiny-imagenet-200/train/n02486410.\n",
            "Found 500 files in directory /content/tiny-imagenet-200/train/n02504458.\n",
            "Found 500 files in directory /content/tiny-imagenet-200/train/n02666196.\n",
            "Found 500 files in directory /content/tiny-imagenet-200/train/n02699494.\n",
            "Found 500 files in directory /content/tiny-imagenet-200/train/n02730930.\n",
            "Found 500 files in directory /content/tiny-imagenet-200/train/n02769748.\n",
            "Found 500 files in directory /content/tiny-imagenet-200/train/n02788148.\n",
            "Found 500 files in directory /content/tiny-imagenet-200/train/n02791270.\n",
            "Found 500 files in directory /content/tiny-imagenet-200/train/n02793495.\n",
            "Found 500 files in directory /content/tiny-imagenet-200/train/n02795169.\n",
            "Found 500 files in directory /content/tiny-imagenet-200/train/n02802426.\n",
            "Found 500 files in directory /content/tiny-imagenet-200/train/n02808440.\n",
            "Found 500 files in directory /content/tiny-imagenet-200/train/n02814533.\n",
            "Found 500 files in directory /content/tiny-imagenet-200/train/n02814860.\n",
            "Found 500 files in directory /content/tiny-imagenet-200/train/n02815834.\n",
            "Found 500 files in directory /content/tiny-imagenet-200/train/n02823428.\n",
            "Found 500 files in directory /content/tiny-imagenet-200/train/n02837789.\n",
            "Found 500 files in directory /content/tiny-imagenet-200/train/n02841315.\n",
            "Found 500 files in directory /content/tiny-imagenet-200/train/n02843684.\n",
            "Found 500 files in directory /content/tiny-imagenet-200/train/n02883205.\n",
            "Found 500 files in directory /content/tiny-imagenet-200/train/n02892201.\n",
            "Found 500 files in directory /content/tiny-imagenet-200/train/n02906734.\n",
            "Found 500 files in directory /content/tiny-imagenet-200/train/n02909870.\n",
            "Found 500 files in directory /content/tiny-imagenet-200/train/n02927161.\n",
            "Found 500 files in directory /content/tiny-imagenet-200/train/n02948072.\n",
            "Found 500 files in directory /content/tiny-imagenet-200/train/n02950826.\n",
            "Found 500 files in directory /content/tiny-imagenet-200/train/n02963159.\n",
            "Found 500 files in directory /content/tiny-imagenet-200/train/n02977058.\n",
            "Found 500 files in directory /content/tiny-imagenet-200/train/n02988304.\n",
            "Found 500 files in directory /content/tiny-imagenet-200/train/n02999410.\n",
            "Found 500 files in directory /content/tiny-imagenet-200/train/n03014705.\n",
            "Found 500 files in directory /content/tiny-imagenet-200/train/n03042490.\n",
            "Found 500 files in directory /content/tiny-imagenet-200/train/n03085013.\n",
            "Found 500 files in directory /content/tiny-imagenet-200/train/n03089624.\n",
            "Found 500 files in directory /content/tiny-imagenet-200/train/n03100240.\n",
            "Found 500 files in directory /content/tiny-imagenet-200/train/n03126707.\n",
            "Found 500 files in directory /content/tiny-imagenet-200/train/n03160309.\n",
            "Found 500 files in directory /content/tiny-imagenet-200/train/n03179701.\n",
            "Found 500 files in directory /content/tiny-imagenet-200/train/n03201208.\n",
            "Found 500 files in directory /content/tiny-imagenet-200/train/n03250847.\n",
            "Found 500 files in directory /content/tiny-imagenet-200/train/n03255030.\n",
            "Found 500 files in directory /content/tiny-imagenet-200/train/n03355925.\n",
            "Found 500 files in directory /content/tiny-imagenet-200/train/n03388043.\n",
            "Found 500 files in directory /content/tiny-imagenet-200/train/n03400231.\n",
            "Found 500 files in directory /content/tiny-imagenet-200/train/n03404251.\n",
            "Found 500 files in directory /content/tiny-imagenet-200/train/n03424325.\n",
            "Found 500 files in directory /content/tiny-imagenet-200/train/n03444034.\n",
            "Found 500 files in directory /content/tiny-imagenet-200/train/n03447447.\n",
            "Found 500 files in directory /content/tiny-imagenet-200/train/n03584254.\n",
            "Found 500 files in directory /content/tiny-imagenet-200/train/n03599486.\n",
            "Found 500 files in directory /content/tiny-imagenet-200/train/n03617480.\n",
            "Found 500 files in directory /content/tiny-imagenet-200/train/n03637318.\n",
            "Found 500 files in directory /content/tiny-imagenet-200/train/n03649909.\n",
            "Found 500 files in directory /content/tiny-imagenet-200/train/n03670208.\n",
            "Found 500 files in directory /content/tiny-imagenet-200/train/n03706229.\n",
            "Found 500 files in directory /content/tiny-imagenet-200/train/n03733131.\n",
            "Found 500 files in directory /content/tiny-imagenet-200/train/n03763968.\n",
            "Found 500 files in directory /content/tiny-imagenet-200/train/n03770439.\n",
            "Found 500 files in directory /content/tiny-imagenet-200/train/n03796401.\n",
            "Found 500 files in directory /content/tiny-imagenet-200/train/n03804744.\n",
            "Found 500 files in directory /content/tiny-imagenet-200/train/n03814639.\n",
            "Found 500 files in directory /content/tiny-imagenet-200/train/n03838899.\n",
            "Found 500 files in directory /content/tiny-imagenet-200/train/n03854065.\n",
            "Found 500 files in directory /content/tiny-imagenet-200/train/n03891332.\n",
            "Found 500 files in directory /content/tiny-imagenet-200/train/n03902125.\n",
            "Found 500 files in directory /content/tiny-imagenet-200/train/n03930313.\n",
            "Found 500 files in directory /content/tiny-imagenet-200/train/n03937543.\n",
            "Found 500 files in directory /content/tiny-imagenet-200/train/n03970156.\n",
            "Found 500 files in directory /content/tiny-imagenet-200/train/n03976657.\n",
            "Found 500 files in directory /content/tiny-imagenet-200/train/n03977966.\n",
            "Found 500 files in directory /content/tiny-imagenet-200/train/n03980874.\n",
            "Found 500 files in directory /content/tiny-imagenet-200/train/n03983396.\n",
            "Found 500 files in directory /content/tiny-imagenet-200/train/n03992509.\n",
            "Found 500 files in directory /content/tiny-imagenet-200/train/n04008634.\n",
            "Found 500 files in directory /content/tiny-imagenet-200/train/n04023962.\n",
            "Found 500 files in directory /content/tiny-imagenet-200/train/n04067472.\n",
            "Found 500 files in directory /content/tiny-imagenet-200/train/n04070727.\n",
            "Found 500 files in directory /content/tiny-imagenet-200/train/n04074963.\n",
            "Found 500 files in directory /content/tiny-imagenet-200/train/n04099969.\n",
            "Found 500 files in directory /content/tiny-imagenet-200/train/n04133789.\n",
            "Found 500 files in directory /content/tiny-imagenet-200/train/n04179913.\n",
            "Found 500 files in directory /content/tiny-imagenet-200/train/n04251144.\n",
            "Found 500 files in directory /content/tiny-imagenet-200/train/n04254777.\n",
            "Found 500 files in directory /content/tiny-imagenet-200/train/n04259630.\n",
            "Found 500 files in directory /content/tiny-imagenet-200/train/n04265275.\n",
            "Found 500 files in directory /content/tiny-imagenet-200/train/n04275548.\n",
            "Found 500 files in directory /content/tiny-imagenet-200/train/n04285008.\n",
            "Found 500 files in directory /content/tiny-imagenet-200/train/n04311004.\n",
            "Found 500 files in directory /content/tiny-imagenet-200/train/n04328186.\n",
            "Found 500 files in directory /content/tiny-imagenet-200/train/n04356056.\n",
            "Found 500 files in directory /content/tiny-imagenet-200/train/n04366367.\n",
            "Found 500 files in directory /content/tiny-imagenet-200/train/n04371430.\n",
            "Found 500 files in directory /content/tiny-imagenet-200/train/n04376876.\n",
            "Found 500 files in directory /content/tiny-imagenet-200/train/n04398044.\n",
            "Found 500 files in directory /content/tiny-imagenet-200/train/n04399382.\n",
            "Found 500 files in directory /content/tiny-imagenet-200/train/n04417672.\n",
            "Found 500 files in directory /content/tiny-imagenet-200/train/n04456115.\n",
            "Found 500 files in directory /content/tiny-imagenet-200/train/n04465501.\n",
            "Found 500 files in directory /content/tiny-imagenet-200/train/n04501370.\n",
            "Found 500 files in directory /content/tiny-imagenet-200/train/n04507155.\n",
            "Found 500 files in directory /content/tiny-imagenet-200/train/n04532106.\n",
            "Found 500 files in directory /content/tiny-imagenet-200/train/n04540053.\n",
            "Found 500 files in directory /content/tiny-imagenet-200/train/n04560804.\n",
            "Found 500 files in directory /content/tiny-imagenet-200/train/n04596742.\n",
            "Found 500 files in directory /content/tiny-imagenet-200/train/n04597913.\n",
            "Found 500 files in directory /content/tiny-imagenet-200/train/n06596364.\n",
            "Found 500 files in directory /content/tiny-imagenet-200/train/n07579787.\n",
            "Found 500 files in directory /content/tiny-imagenet-200/train/n07583066.\n",
            "Found 500 files in directory /content/tiny-imagenet-200/train/n07614500.\n",
            "Found 500 files in directory /content/tiny-imagenet-200/train/n07615774.\n",
            "Found 500 files in directory /content/tiny-imagenet-200/train/n07695742.\n",
            "Found 500 files in directory /content/tiny-imagenet-200/train/n07711569.\n",
            "Found 500 files in directory /content/tiny-imagenet-200/train/n07715103.\n",
            "Found 500 files in directory /content/tiny-imagenet-200/train/n07734744.\n",
            "Found 500 files in directory /content/tiny-imagenet-200/train/n07747607.\n",
            "Found 500 files in directory /content/tiny-imagenet-200/train/n07749582.\n",
            "Found 500 files in directory /content/tiny-imagenet-200/train/n07753592.\n",
            "Found 500 files in directory /content/tiny-imagenet-200/train/n07871810.\n",
            "Found 500 files in directory /content/tiny-imagenet-200/train/n07875152.\n",
            "Found 500 files in directory /content/tiny-imagenet-200/train/n09193705.\n",
            "Found 500 files in directory /content/tiny-imagenet-200/train/n09246464.\n",
            "Found 500 files in directory /content/tiny-imagenet-200/train/n09256479.\n",
            "Found 500 files in directory /content/tiny-imagenet-200/train/n09332890.\n",
            "Found 500 files in directory /content/tiny-imagenet-200/train/n09428293.\n",
            "Found 500 files in directory /content/tiny-imagenet-200/train/n12267677.\n",
            "Found 50 files in directory /content/tiny-imagenet-200/val/n01641577.\n",
            "Found 50 files in directory /content/tiny-imagenet-200/val/n01644900.\n",
            "Found 50 files in directory /content/tiny-imagenet-200/val/n01698640.\n",
            "Found 50 files in directory /content/tiny-imagenet-200/val/n01742172.\n",
            "Found 50 files in directory /content/tiny-imagenet-200/val/n01768244.\n",
            "Found 50 files in directory /content/tiny-imagenet-200/val/n01770393.\n",
            "Found 50 files in directory /content/tiny-imagenet-200/val/n01774384.\n",
            "Found 50 files in directory /content/tiny-imagenet-200/val/n01774750.\n",
            "Found 50 files in directory /content/tiny-imagenet-200/val/n01784675.\n",
            "Found 50 files in directory /content/tiny-imagenet-200/val/n01855672.\n",
            "Found 50 files in directory /content/tiny-imagenet-200/val/n01917289.\n",
            "Found 50 files in directory /content/tiny-imagenet-200/val/n01944390.\n",
            "Found 50 files in directory /content/tiny-imagenet-200/val/n01945685.\n",
            "Found 50 files in directory /content/tiny-imagenet-200/val/n01983481.\n",
            "Found 50 files in directory /content/tiny-imagenet-200/val/n01984695.\n",
            "Found 50 files in directory /content/tiny-imagenet-200/val/n02085620.\n",
            "Found 50 files in directory /content/tiny-imagenet-200/val/n02099601.\n",
            "Found 50 files in directory /content/tiny-imagenet-200/val/n02099712.\n",
            "Found 50 files in directory /content/tiny-imagenet-200/val/n02106662.\n",
            "Found 50 files in directory /content/tiny-imagenet-200/val/n02113799.\n",
            "Found 50 files in directory /content/tiny-imagenet-200/val/n02123045.\n",
            "Found 50 files in directory /content/tiny-imagenet-200/val/n02123394.\n",
            "Found 50 files in directory /content/tiny-imagenet-200/val/n02124075.\n",
            "Found 50 files in directory /content/tiny-imagenet-200/val/n02125311.\n",
            "Found 50 files in directory /content/tiny-imagenet-200/val/n02129165.\n",
            "Found 50 files in directory /content/tiny-imagenet-200/val/n02132136.\n",
            "Found 50 files in directory /content/tiny-imagenet-200/val/n02190166.\n",
            "Found 50 files in directory /content/tiny-imagenet-200/val/n02206856.\n",
            "Found 50 files in directory /content/tiny-imagenet-200/val/n02226429.\n",
            "Found 50 files in directory /content/tiny-imagenet-200/val/n02231487.\n",
            "Found 50 files in directory /content/tiny-imagenet-200/val/n02233338.\n",
            "Found 50 files in directory /content/tiny-imagenet-200/val/n02236044.\n",
            "Found 50 files in directory /content/tiny-imagenet-200/val/n02268443.\n",
            "Found 50 files in directory /content/tiny-imagenet-200/val/n02279972.\n",
            "Found 50 files in directory /content/tiny-imagenet-200/val/n02321529.\n",
            "Found 50 files in directory /content/tiny-imagenet-200/val/n02364673.\n",
            "Found 50 files in directory /content/tiny-imagenet-200/val/n02395406.\n",
            "Found 50 files in directory /content/tiny-imagenet-200/val/n02403003.\n",
            "Found 50 files in directory /content/tiny-imagenet-200/val/n02415577.\n",
            "Found 50 files in directory /content/tiny-imagenet-200/val/n02437312.\n",
            "Found 50 files in directory /content/tiny-imagenet-200/val/n02480495.\n",
            "Found 50 files in directory /content/tiny-imagenet-200/val/n02486410.\n",
            "Found 50 files in directory /content/tiny-imagenet-200/val/n02504458.\n",
            "Found 50 files in directory /content/tiny-imagenet-200/val/n02666196.\n",
            "Found 50 files in directory /content/tiny-imagenet-200/val/n02699494.\n",
            "Found 50 files in directory /content/tiny-imagenet-200/val/n02730930.\n",
            "Found 50 files in directory /content/tiny-imagenet-200/val/n02769748.\n",
            "Found 50 files in directory /content/tiny-imagenet-200/val/n02788148.\n",
            "Found 50 files in directory /content/tiny-imagenet-200/val/n02791270.\n",
            "Found 50 files in directory /content/tiny-imagenet-200/val/n02793495.\n",
            "Found 50 files in directory /content/tiny-imagenet-200/val/n02795169.\n",
            "Found 50 files in directory /content/tiny-imagenet-200/val/n02802426.\n",
            "Found 50 files in directory /content/tiny-imagenet-200/val/n02808440.\n",
            "Found 50 files in directory /content/tiny-imagenet-200/val/n02814533.\n",
            "Found 50 files in directory /content/tiny-imagenet-200/val/n02814860.\n",
            "Found 50 files in directory /content/tiny-imagenet-200/val/n02815834.\n",
            "Found 50 files in directory /content/tiny-imagenet-200/val/n02823428.\n",
            "Found 50 files in directory /content/tiny-imagenet-200/val/n02837789.\n",
            "Found 50 files in directory /content/tiny-imagenet-200/val/n02841315.\n",
            "Found 50 files in directory /content/tiny-imagenet-200/val/n02843684.\n",
            "Found 50 files in directory /content/tiny-imagenet-200/val/n02883205.\n",
            "Found 50 files in directory /content/tiny-imagenet-200/val/n02892201.\n",
            "Found 50 files in directory /content/tiny-imagenet-200/val/n02906734.\n",
            "Found 50 files in directory /content/tiny-imagenet-200/val/n02909870.\n",
            "Found 50 files in directory /content/tiny-imagenet-200/val/n02927161.\n",
            "Found 50 files in directory /content/tiny-imagenet-200/val/n02948072.\n",
            "Found 50 files in directory /content/tiny-imagenet-200/val/n02950826.\n",
            "Found 50 files in directory /content/tiny-imagenet-200/val/n02963159.\n",
            "Found 50 files in directory /content/tiny-imagenet-200/val/n02977058.\n",
            "Found 50 files in directory /content/tiny-imagenet-200/val/n02988304.\n",
            "Found 50 files in directory /content/tiny-imagenet-200/val/n02999410.\n",
            "Found 50 files in directory /content/tiny-imagenet-200/val/n03014705.\n",
            "Found 50 files in directory /content/tiny-imagenet-200/val/n03042490.\n",
            "Found 50 files in directory /content/tiny-imagenet-200/val/n03085013.\n",
            "Found 50 files in directory /content/tiny-imagenet-200/val/n03089624.\n",
            "Found 50 files in directory /content/tiny-imagenet-200/val/n03100240.\n",
            "Found 50 files in directory /content/tiny-imagenet-200/val/n03126707.\n",
            "Found 50 files in directory /content/tiny-imagenet-200/val/n03160309.\n",
            "Found 50 files in directory /content/tiny-imagenet-200/val/n03179701.\n",
            "Found 50 files in directory /content/tiny-imagenet-200/val/n03201208.\n",
            "Found 50 files in directory /content/tiny-imagenet-200/val/n03250847.\n",
            "Found 50 files in directory /content/tiny-imagenet-200/val/n03255030.\n",
            "Found 50 files in directory /content/tiny-imagenet-200/val/n03355925.\n",
            "Found 50 files in directory /content/tiny-imagenet-200/val/n03388043.\n",
            "Found 50 files in directory /content/tiny-imagenet-200/val/n03400231.\n",
            "Found 50 files in directory /content/tiny-imagenet-200/val/n03404251.\n",
            "Found 50 files in directory /content/tiny-imagenet-200/val/n03424325.\n",
            "Found 50 files in directory /content/tiny-imagenet-200/val/n03444034.\n",
            "Found 50 files in directory /content/tiny-imagenet-200/val/n03447447.\n",
            "Found 50 files in directory /content/tiny-imagenet-200/val/n03584254.\n",
            "Found 50 files in directory /content/tiny-imagenet-200/val/n03599486.\n",
            "Found 50 files in directory /content/tiny-imagenet-200/val/n03617480.\n",
            "Found 50 files in directory /content/tiny-imagenet-200/val/n03637318.\n",
            "Found 50 files in directory /content/tiny-imagenet-200/val/n03649909.\n",
            "Found 50 files in directory /content/tiny-imagenet-200/val/n03670208.\n",
            "Found 50 files in directory /content/tiny-imagenet-200/val/n03706229.\n",
            "Found 50 files in directory /content/tiny-imagenet-200/val/n03733131.\n",
            "Found 50 files in directory /content/tiny-imagenet-200/val/n03763968.\n",
            "Found 50 files in directory /content/tiny-imagenet-200/val/n03770439.\n",
            "Found 50 files in directory /content/tiny-imagenet-200/val/n03796401.\n",
            "Found 50 files in directory /content/tiny-imagenet-200/val/n03804744.\n",
            "Found 50 files in directory /content/tiny-imagenet-200/val/n03814639.\n",
            "Found 50 files in directory /content/tiny-imagenet-200/val/n03838899.\n",
            "Found 50 files in directory /content/tiny-imagenet-200/val/n03854065.\n",
            "Found 50 files in directory /content/tiny-imagenet-200/val/n03891332.\n",
            "Found 50 files in directory /content/tiny-imagenet-200/val/n03902125.\n",
            "Found 50 files in directory /content/tiny-imagenet-200/val/n03930313.\n",
            "Found 50 files in directory /content/tiny-imagenet-200/val/n03937543.\n",
            "Found 50 files in directory /content/tiny-imagenet-200/val/n03970156.\n",
            "Found 50 files in directory /content/tiny-imagenet-200/val/n03976657.\n",
            "Found 50 files in directory /content/tiny-imagenet-200/val/n03977966.\n",
            "Found 50 files in directory /content/tiny-imagenet-200/val/n03980874.\n",
            "Found 50 files in directory /content/tiny-imagenet-200/val/n03983396.\n",
            "Found 50 files in directory /content/tiny-imagenet-200/val/n03992509.\n",
            "Found 50 files in directory /content/tiny-imagenet-200/val/n04008634.\n",
            "Found 50 files in directory /content/tiny-imagenet-200/val/n04023962.\n",
            "Found 50 files in directory /content/tiny-imagenet-200/val/n04067472.\n",
            "Found 50 files in directory /content/tiny-imagenet-200/val/n04070727.\n",
            "Found 50 files in directory /content/tiny-imagenet-200/val/n04074963.\n",
            "Found 50 files in directory /content/tiny-imagenet-200/val/n04099969.\n",
            "Found 50 files in directory /content/tiny-imagenet-200/val/n04133789.\n",
            "Found 50 files in directory /content/tiny-imagenet-200/val/n04179913.\n",
            "Found 50 files in directory /content/tiny-imagenet-200/val/n04251144.\n",
            "Found 50 files in directory /content/tiny-imagenet-200/val/n04254777.\n",
            "Found 50 files in directory /content/tiny-imagenet-200/val/n04259630.\n",
            "Found 50 files in directory /content/tiny-imagenet-200/val/n04265275.\n",
            "Found 50 files in directory /content/tiny-imagenet-200/val/n04275548.\n",
            "Found 50 files in directory /content/tiny-imagenet-200/val/n04285008.\n",
            "Found 50 files in directory /content/tiny-imagenet-200/val/n04311004.\n",
            "Found 50 files in directory /content/tiny-imagenet-200/val/n04328186.\n",
            "Found 50 files in directory /content/tiny-imagenet-200/val/n04356056.\n",
            "Found 50 files in directory /content/tiny-imagenet-200/val/n04366367.\n",
            "Found 50 files in directory /content/tiny-imagenet-200/val/n04371430.\n",
            "Found 50 files in directory /content/tiny-imagenet-200/val/n04376876.\n",
            "Found 50 files in directory /content/tiny-imagenet-200/val/n04398044.\n",
            "Found 50 files in directory /content/tiny-imagenet-200/val/n04399382.\n",
            "Found 50 files in directory /content/tiny-imagenet-200/val/n04417672.\n",
            "Found 50 files in directory /content/tiny-imagenet-200/val/n04456115.\n",
            "Found 50 files in directory /content/tiny-imagenet-200/val/n04465501.\n",
            "Found 50 files in directory /content/tiny-imagenet-200/val/n04501370.\n",
            "Found 50 files in directory /content/tiny-imagenet-200/val/n04507155.\n",
            "Found 50 files in directory /content/tiny-imagenet-200/val/n04532106.\n",
            "Found 50 files in directory /content/tiny-imagenet-200/val/n04540053.\n",
            "Found 50 files in directory /content/tiny-imagenet-200/val/n04560804.\n",
            "Found 50 files in directory /content/tiny-imagenet-200/val/n04596742.\n",
            "Found 50 files in directory /content/tiny-imagenet-200/val/n04597913.\n",
            "Found 50 files in directory /content/tiny-imagenet-200/val/n06596364.\n",
            "Found 50 files in directory /content/tiny-imagenet-200/val/n07579787.\n",
            "Found 50 files in directory /content/tiny-imagenet-200/val/n07583066.\n",
            "Found 50 files in directory /content/tiny-imagenet-200/val/n07614500.\n",
            "Found 50 files in directory /content/tiny-imagenet-200/val/n07615774.\n",
            "Found 50 files in directory /content/tiny-imagenet-200/val/n07695742.\n",
            "Found 50 files in directory /content/tiny-imagenet-200/val/n07711569.\n",
            "Found 50 files in directory /content/tiny-imagenet-200/val/n07715103.\n",
            "Found 50 files in directory /content/tiny-imagenet-200/val/n07734744.\n",
            "Found 50 files in directory /content/tiny-imagenet-200/val/n07747607.\n",
            "Found 50 files in directory /content/tiny-imagenet-200/val/n07749582.\n",
            "Found 50 files in directory /content/tiny-imagenet-200/val/n07753592.\n",
            "Found 50 files in directory /content/tiny-imagenet-200/val/n07871810.\n",
            "Found 50 files in directory /content/tiny-imagenet-200/val/n07875152.\n",
            "Found 50 files in directory /content/tiny-imagenet-200/val/n09193705.\n",
            "Found 50 files in directory /content/tiny-imagenet-200/val/n09246464.\n",
            "Found 50 files in directory /content/tiny-imagenet-200/val/n09256479.\n",
            "Found 50 files in directory /content/tiny-imagenet-200/val/n09332890.\n",
            "Found 50 files in directory /content/tiny-imagenet-200/val/n09428293.\n",
            "Found 50 files in directory /content/tiny-imagenet-200/val/n12267677.\n",
            "Found 91300 images for augmentation.\n",
            "                                            filename      class\n",
            "0  /content/tiny-imagenet-200/train/n01641577/n01...  n01641577\n",
            "1  /content/tiny-imagenet-200/train/n01641577/n01...  n01641577\n",
            "2  /content/tiny-imagenet-200/train/n01641577/n01...  n01641577\n",
            "3  /content/tiny-imagenet-200/train/n01641577/n01...  n01641577\n",
            "4  /content/tiny-imagenet-200/train/n01641577/n01...  n01641577\n",
            "Found 91334 validated image filenames belonging to 200 classes.\n",
            "Epoch 1/25\n"
          ]
        },
        {
          "output_type": "stream",
          "name": "stderr",
          "text": [
            "/usr/local/lib/python3.10/dist-packages/keras/src/trainers/data_adapters/py_dataset_adapter.py:121: UserWarning: Your `PyDataset` class should call `super().__init__(**kwargs)` in its constructor. `**kwargs` can include `workers`, `use_multiprocessing`, `max_queue_size`. Do not pass these arguments to `fit()`, as they will be ignored.\n",
            "  self._warn_if_super_not_called()\n"
          ]
        },
        {
          "output_type": "stream",
          "name": "stdout",
          "text": [
            "\u001b[1m2855/2855\u001b[0m \u001b[32m━━━━━━━━━━━━━━━━━━━━\u001b[0m\u001b[37m\u001b[0m \u001b[1m359s\u001b[0m 105ms/step - accuracy: 0.7060 - loss: 1.3243 - val_accuracy: 0.7193 - val_loss: 1.2652 - learning_rate: 6.0653e-05\n",
            "Epoch 2/25\n",
            "\u001b[1m2855/2855\u001b[0m \u001b[32m━━━━━━━━━━━━━━━━━━━━\u001b[0m\u001b[37m\u001b[0m \u001b[1m253s\u001b[0m 81ms/step - accuracy: 0.8152 - loss: 0.8455 - val_accuracy: 0.7807 - val_loss: 0.9902 - learning_rate: 6.0653e-05\n",
            "Epoch 3/25\n",
            "\u001b[1m2855/2855\u001b[0m \u001b[32m━━━━━━━━━━━━━━━━━━━━\u001b[0m\u001b[37m\u001b[0m \u001b[1m228s\u001b[0m 80ms/step - accuracy: 0.8840 - loss: 0.5714 - val_accuracy: 0.8354 - val_loss: 0.7652 - learning_rate: 6.0653e-05\n",
            "Epoch 4/25\n",
            "\u001b[1m2855/2855\u001b[0m \u001b[32m━━━━━━━━━━━━━━━━━━━━\u001b[0m\u001b[37m\u001b[0m \u001b[1m268s\u001b[0m 82ms/step - accuracy: 0.9293 - loss: 0.3970 - val_accuracy: 0.8768 - val_loss: 0.6149 - learning_rate: 6.0653e-05\n",
            "Epoch 5/25\n",
            "\u001b[1m2855/2855\u001b[0m \u001b[32m━━━━━━━━━━━━━━━━━━━━\u001b[0m\u001b[37m\u001b[0m \u001b[1m228s\u001b[0m 80ms/step - accuracy: 0.9528 - loss: 0.3008 - val_accuracy: 0.9046 - val_loss: 0.5124 - learning_rate: 6.0653e-05\n",
            "Epoch 6/25\n",
            "\u001b[1m2855/2855\u001b[0m \u001b[32m━━━━━━━━━━━━━━━━━━━━\u001b[0m\u001b[37m\u001b[0m \u001b[1m272s\u001b[0m 83ms/step - accuracy: 0.9648 - loss: 0.2470 - val_accuracy: 0.9163 - val_loss: 0.4580 - learning_rate: 6.0653e-05\n",
            "Epoch 7/25\n",
            "\u001b[1m2855/2855\u001b[0m \u001b[32m━━━━━━━━━━━━━━━━━━━━\u001b[0m\u001b[37m\u001b[0m \u001b[1m254s\u001b[0m 80ms/step - accuracy: 0.9697 - loss: 0.2176 - val_accuracy: 0.9244 - val_loss: 0.4346 - learning_rate: 6.0653e-05\n",
            "Epoch 8/25\n",
            "\u001b[1m2855/2855\u001b[0m \u001b[32m━━━━━━━━━━━━━━━━━━━━\u001b[0m\u001b[37m\u001b[0m \u001b[1m261s\u001b[0m 80ms/step - accuracy: 0.9743 - loss: 0.1969 - val_accuracy: 0.9272 - val_loss: 0.4161 - learning_rate: 6.0653e-05\n",
            "Epoch 9/25\n",
            "\u001b[1m2855/2855\u001b[0m \u001b[32m━━━━━━━━━━━━━━━━━━━━\u001b[0m\u001b[37m\u001b[0m \u001b[1m261s\u001b[0m 80ms/step - accuracy: 0.9766 - loss: 0.1847 - val_accuracy: 0.9376 - val_loss: 0.3968 - learning_rate: 6.0653e-05\n",
            "Epoch 10/25\n",
            "\u001b[1m2855/2855\u001b[0m \u001b[32m━━━━━━━━━━━━━━━━━━━━\u001b[0m\u001b[37m\u001b[0m \u001b[1m230s\u001b[0m 80ms/step - accuracy: 0.9776 - loss: 0.1770 - val_accuracy: 0.9391 - val_loss: 0.3911 - learning_rate: 6.0653e-05\n",
            "Epoch 11/25\n",
            "\u001b[1m2855/2855\u001b[0m \u001b[32m━━━━━━━━━━━━━━━━━━━━\u001b[0m\u001b[37m\u001b[0m \u001b[1m234s\u001b[0m 82ms/step - accuracy: 0.9812 - loss: 0.1592 - val_accuracy: 0.9410 - val_loss: 0.3734 - learning_rate: 5.4881e-05\n",
            "Epoch 12/25\n",
            "\u001b[1m2855/2855\u001b[0m \u001b[32m━━━━━━━━━━━━━━━━━━━━\u001b[0m\u001b[37m\u001b[0m \u001b[1m261s\u001b[0m 81ms/step - accuracy: 0.9849 - loss: 0.1363 - val_accuracy: 0.9452 - val_loss: 0.3589 - learning_rate: 4.9659e-05\n",
            "Epoch 13/25\n",
            "\u001b[1m2855/2855\u001b[0m \u001b[32m━━━━━━━━━━━━━━━━━━━━\u001b[0m\u001b[37m\u001b[0m \u001b[1m261s\u001b[0m 81ms/step - accuracy: 0.9860 - loss: 0.1249 - val_accuracy: 0.9460 - val_loss: 0.3620 - learning_rate: 4.4933e-05\n",
            "Epoch 14/25\n",
            "\u001b[1m2855/2855\u001b[0m \u001b[32m━━━━━━━━━━━━━━━━━━━━\u001b[0m\u001b[37m\u001b[0m \u001b[1m262s\u001b[0m 81ms/step - accuracy: 0.9881 - loss: 0.1085 - val_accuracy: 0.9485 - val_loss: 0.3491 - learning_rate: 4.0657e-05\n",
            "Epoch 15/25\n",
            "\u001b[1m2855/2855\u001b[0m \u001b[32m━━━━━━━━━━━━━━━━━━━━\u001b[0m\u001b[37m\u001b[0m \u001b[1m264s\u001b[0m 82ms/step - accuracy: 0.9901 - loss: 0.0944 - val_accuracy: 0.9520 - val_loss: 0.3304 - learning_rate: 3.6788e-05\n",
            "Epoch 16/25\n",
            "\u001b[1m2855/2855\u001b[0m \u001b[32m━━━━━━━━━━━━━━━━━━━━\u001b[0m\u001b[37m\u001b[0m \u001b[1m230s\u001b[0m 80ms/step - accuracy: 0.9917 - loss: 0.0828 - val_accuracy: 0.9525 - val_loss: 0.3128 - learning_rate: 3.3287e-05\n",
            "Epoch 17/25\n",
            "\u001b[1m2855/2855\u001b[0m \u001b[32m━━━━━━━━━━━━━━━━━━━━\u001b[0m\u001b[37m\u001b[0m \u001b[1m229s\u001b[0m 80ms/step - accuracy: 0.9927 - loss: 0.0741 - val_accuracy: 0.9537 - val_loss: 0.3061 - learning_rate: 3.0119e-05\n",
            "Epoch 18/25\n",
            "\u001b[1m2855/2855\u001b[0m \u001b[32m━━━━━━━━━━━━━━━━━━━━\u001b[0m\u001b[37m\u001b[0m \u001b[1m264s\u001b[0m 81ms/step - accuracy: 0.9933 - loss: 0.0665 - val_accuracy: 0.9548 - val_loss: 0.3094 - learning_rate: 2.7253e-05\n",
            "Epoch 19/25\n",
            "\u001b[1m2855/2855\u001b[0m \u001b[32m━━━━━━━━━━━━━━━━━━━━\u001b[0m\u001b[37m\u001b[0m \u001b[1m229s\u001b[0m 80ms/step - accuracy: 0.9938 - loss: 0.0626 - val_accuracy: 0.9564 - val_loss: 0.2921 - learning_rate: 2.4660e-05\n",
            "Epoch 20/25\n",
            "\u001b[1m2855/2855\u001b[0m \u001b[32m━━━━━━━━━━━━━━━━━━━━\u001b[0m\u001b[37m\u001b[0m \u001b[1m266s\u001b[0m 81ms/step - accuracy: 0.9948 - loss: 0.0547 - val_accuracy: 0.9555 - val_loss: 0.2884 - learning_rate: 2.2313e-05\n",
            "Epoch 21/25\n",
            "\u001b[1m2855/2855\u001b[0m \u001b[32m━━━━━━━━━━━━━━━━━━━━\u001b[0m\u001b[37m\u001b[0m \u001b[1m229s\u001b[0m 80ms/step - accuracy: 0.9956 - loss: 0.0476 - val_accuracy: 0.9587 - val_loss: 0.2817 - learning_rate: 2.0190e-05\n",
            "Epoch 22/25\n",
            "\u001b[1m2855/2855\u001b[0m \u001b[32m━━━━━━━━━━━━━━━━━━━━\u001b[0m\u001b[37m\u001b[0m \u001b[1m228s\u001b[0m 80ms/step - accuracy: 0.9959 - loss: 0.0438 - val_accuracy: 0.9584 - val_loss: 0.2767 - learning_rate: 1.8268e-05\n",
            "Epoch 23/25\n",
            "\u001b[1m2855/2855\u001b[0m \u001b[32m━━━━━━━━━━━━━━━━━━━━\u001b[0m\u001b[37m\u001b[0m \u001b[1m234s\u001b[0m 82ms/step - accuracy: 0.9958 - loss: 0.0408 - val_accuracy: 0.9581 - val_loss: 0.2753 - learning_rate: 1.6530e-05\n",
            "Epoch 24/25\n",
            "\u001b[1m2855/2855\u001b[0m \u001b[32m━━━━━━━━━━━━━━━━━━━━\u001b[0m\u001b[37m\u001b[0m \u001b[1m258s\u001b[0m 81ms/step - accuracy: 0.9963 - loss: 0.0376 - val_accuracy: 0.9594 - val_loss: 0.2710 - learning_rate: 1.4957e-05\n",
            "Epoch 25/25\n",
            "\u001b[1m2855/2855\u001b[0m \u001b[32m━━━━━━━━━━━━━━━━━━━━\u001b[0m\u001b[37m\u001b[0m \u001b[1m230s\u001b[0m 80ms/step - accuracy: 0.9966 - loss: 0.0346 - val_accuracy: 0.9599 - val_loss: 0.2679 - learning_rate: 1.3534e-05\n"
          ]
        }
      ]
    },
    {
      "cell_type": "markdown",
      "source": [
        "Evaluate the model"
      ],
      "metadata": {
        "id": "2ITcrt1OD6XR"
      }
    },
    {
      "cell_type": "code",
      "source": [
        "val_loss, val_accuracy = model.evaluate(val_generator)\n",
        "print(f'Validation Accuracy: {val_accuracy}')"
      ],
      "metadata": {
        "id": "GrUtIxWOFiYR",
        "colab": {
          "base_uri": "https://localhost:8080/"
        },
        "outputId": "06cfa9be-1193-463f-b48b-e17555d4e3c6"
      },
      "execution_count": null,
      "outputs": [
        {
          "output_type": "stream",
          "name": "stdout",
          "text": [
            "\u001b[1m313/313\u001b[0m \u001b[32m━━━━━━━━━━━━━━━━━━━━\u001b[0m\u001b[37m\u001b[0m \u001b[1m7s\u001b[0m 24ms/step - accuracy: 0.9489 - loss: 0.3542\n",
            "Validation Accuracy: 0.9599000215530396\n"
          ]
        }
      ]
    },
    {
      "cell_type": "markdown",
      "source": [
        "Plot training history:"
      ],
      "metadata": {
        "id": "B6UwqYPZC_zI"
      }
    },
    {
      "cell_type": "code",
      "source": [
        "plt.plot(history.history['accuracy'], label='Training Accuracy')\n",
        "plt.plot(history.history['val_accuracy'], label='Validation Accuracy')\n",
        "plt.title('Training and Validation Accuracy')\n",
        "plt.xlabel('Epochs')\n",
        "plt.ylabel('Accuracy')\n",
        "plt.legend()\n",
        "plt.show()\n",
        "\n",
        "plt.plot(history.history['loss'], label='Training Loss')\n",
        "plt.plot(history.history['val_loss'], label='Validation Loss')\n",
        "plt.title('Training and Validation Loss')\n",
        "plt.xlabel('Epochs')\n",
        "plt.ylabel('Loss')\n",
        "plt.legend()\n",
        "plt.show()"
      ],
      "metadata": {
        "id": "D8G3XDqAM41N",
        "colab": {
          "base_uri": "https://localhost:8080/",
          "height": 927
        },
        "outputId": "fa322401-18cc-4531-98b3-dfc0bfa0d4de"
      },
      "execution_count": null,
      "outputs": [
        {
          "output_type": "display_data",
          "data": {
            "text/plain": [
              "<Figure size 640x480 with 1 Axes>"
            ],
            "image/png": "[encoded data removed]"
          },
          "metadata": {}
        },
        {
          "output_type": "display_data",
          "data": {
            "text/plain": [
              "<Figure size 640x480 with 1 Axes>"
            ],
            "image/png": "[encoded data removed]"
          },
          "metadata": {}
        }
      ]
    },
    {
      "cell_type": "code",
      "source": [
        "true_labels = []\n",
        "predicted_labels = []\n",
        "\n",
        "for images, labels in val_generator:\n",
        "    predictions = model.predict(images)\n",
        "    predicted_labels.extend(np.argmax(predictions, axis=1))\n",
        "    true_labels.extend(np.argmax(labels, axis=1))\n",
        "    if len(true_labels) >= val_generator.samples:\n",
        "        break\n",
        "\n",
        "true_labels = np.array(true_labels)\n",
        "predicted_labels = np.array(predicted_labels)"
      ],
      "metadata": {
        "id": "yKArPdL5O_A5",
        "outputId": "4e145aa3-b5ca-4908-d7e8-4ce33a4655e8",
        "colab": {
          "base_uri": "https://localhost:8080/"
        }
      },
      "execution_count": null,
      "outputs": [
        {
          "output_type": "stream",
          "name": "stdout",
          "text": [
            "\u001b[1m1/1\u001b[0m \u001b[32m━━━━━━━━━━━━━━━━━━━━\u001b[0m\u001b[37m\u001b[0m \u001b[1m0s\u001b[0m 27ms/step\n",
            "\u001b[1m1/1\u001b[0m \u001b[32m━━━━━━━━━━━━━━━━━━━━\u001b[0m\u001b[37m\u001b[0m \u001b[1m0s\u001b[0m 26ms/step\n",
            "\u001b[1m1/1\u001b[0m \u001b[32m━━━━━━━━━━━━━━━━━━━━\u001b[0m\u001b[37m\u001b[0m \u001b[1m0s\u001b[0m 28ms/step\n",
            "\u001b[1m1/1\u001b[0m \u001b[32m━━━━━━━━━━━━━━━━━━━━\u001b[0m\u001b[37m\u001b[0m \u001b[1m0s\u001b[0m 26ms/step\n",
            "\u001b[1m1/1\u001b[0m \u001b[32m━━━━━━━━━━━━━━━━━━━━\u001b[0m\u001b[37m\u001b[0m \u001b[1m0s\u001b[0m 26ms/step\n",
            "\u001b[1m1/1\u001b[0m \u001b[32m━━━━━━━━━━━━━━━━━━━━\u001b[0m\u001b[37m\u001b[0m \u001b[1m0s\u001b[0m 27ms/step\n",
            "\u001b[1m1/1\u001b[0m \u001b[32m━━━━━━━━━━━━━━━━━━━━\u001b[0m\u001b[37m\u001b[0m \u001b[1m0s\u001b[0m 29ms/step\n",
            "\u001b[1m1/1\u001b[0m \u001b[32m━━━━━━━━━━━━━━━━━━━━\u001b[0m\u001b[37m\u001b[0m \u001b[1m0s\u001b[0m 26ms/step\n",
            "\u001b[1m1/1\u001b[0m \u001b[32m━━━━━━━━━━━━━━━━━━━━\u001b[0m\u001b[37m\u001b[0m \u001b[1m0s\u001b[0m 26ms/step\n",
            "\u001b[1m1/1\u001b[0m \u001b[32m━━━━━━━━━━━━━━━━━━━━\u001b[0m\u001b[37m\u001b[0m \u001b[1m0s\u001b[0m 28ms/step\n",
            "\u001b[1m1/1\u001b[0m \u001b[32m━━━━━━━━━━━━━━━━━━━━\u001b[0m\u001b[37m\u001b[0m \u001b[1m0s\u001b[0m 34ms/step\n",
            "\u001b[1m1/1\u001b[0m \u001b[32m━━━━━━━━━━━━━━━━━━━━\u001b[0m\u001b[37m\u001b[0m \u001b[1m0s\u001b[0m 28ms/step\n",
            "\u001b[1m1/1\u001b[0m \u001b[32m━━━━━━━━━━━━━━━━━━━━\u001b[0m\u001b[37m\u001b[0m \u001b[1m0s\u001b[0m 34ms/step\n",
            "\u001b[1m1/1\u001b[0m \u001b[32m━━━━━━━━━━━━━━━━━━━━\u001b[0m\u001b[37m\u001b[0m \u001b[1m0s\u001b[0m 28ms/step\n",
            "\u001b[1m1/1\u001b[0m \u001b[32m━━━━━━━━━━━━━━━━━━━━\u001b[0m\u001b[37m\u001b[0m \u001b[1m0s\u001b[0m 29ms/step\n",
            "\u001b[1m1/1\u001b[0m \u001b[32m━━━━━━━━━━━━━━━━━━━━\u001b[0m\u001b[37m\u001b[0m \u001b[1m0s\u001b[0m 34ms/step\n",
            "\u001b[1m1/1\u001b[0m \u001b[32m━━━━━━━━━━━━━━━━━━━━\u001b[0m\u001b[37m\u001b[0m \u001b[1m0s\u001b[0m 29ms/step\n",
            "\u001b[1m1/1\u001b[0m \u001b[32m━━━━━━━━━━━━━━━━━━━━\u001b[0m\u001b[37m\u001b[0m \u001b[1m0s\u001b[0m 30ms/step\n",
            "\u001b[1m1/1\u001b[0m \u001b[32m━━━━━━━━━━━━━━━━━━━━\u001b[0m\u001b[37m\u001b[0m \u001b[1m0s\u001b[0m 27ms/step\n",
            "\u001b[1m1/1\u001b[0m \u001b[32m━━━━━━━━━━━━━━━━━━━━\u001b[0m\u001b[37m\u001b[0m \u001b[1m0s\u001b[0m 28ms/step\n",
            "\u001b[1m1/1\u001b[0m \u001b[32m━━━━━━━━━━━━━━━━━━━━\u001b[0m\u001b[37m\u001b[0m \u001b[1m0s\u001b[0m 35ms/step\n",
            "\u001b[1m1/1\u001b[0m \u001b[32m━━━━━━━━━━━━━━━━━━━━\u001b[0m\u001b[37m\u001b[0m \u001b[1m0s\u001b[0m 28ms/step\n",
            "\u001b[1m1/1\u001b[0m \u001b[32m━━━━━━━━━━━━━━━━━━━━\u001b[0m\u001b[37m\u001b[0m \u001b[1m0s\u001b[0m 28ms/step\n",
            "\u001b[1m1/1\u001b[0m \u001b[32m━━━━━━━━━━━━━━━━━━━━\u001b[0m\u001b[37m\u001b[0m \u001b[1m0s\u001b[0m 27ms/step\n",
            "\u001b[1m1/1\u001b[0m \u001b[32m━━━━━━━━━━━━━━━━━━━━\u001b[0m\u001b[37m\u001b[0m \u001b[1m0s\u001b[0m 29ms/step\n",
            "\u001b[1m1/1\u001b[0m \u001b[32m━━━━━━━━━━━━━━━━━━━━\u001b[0m\u001b[37m\u001b[0m \u001b[1m0s\u001b[0m 40ms/step\n",
            "\u001b[1m1/1\u001b[0m \u001b[32m━━━━━━━━━━━━━━━━━━━━\u001b[0m\u001b[37m\u001b[0m \u001b[1m0s\u001b[0m 30ms/step\n",
            "\u001b[1m1/1\u001b[0m \u001b[32m━━━━━━━━━━━━━━━━━━━━\u001b[0m\u001b[37m\u001b[0m \u001b[1m0s\u001b[0m 26ms/step\n",
            "\u001b[1m1/1\u001b[0m \u001b[32m━━━━━━━━━━━━━━━━━━━━\u001b[0m\u001b[37m\u001b[0m \u001b[1m0s\u001b[0m 27ms/step\n",
            "\u001b[1m1/1\u001b[0m \u001b[32m━━━━━━━━━━━━━━━━━━━━\u001b[0m\u001b[37m\u001b[0m \u001b[1m0s\u001b[0m 28ms/step\n",
            "\u001b[1m1/1\u001b[0m \u001b[32m━━━━━━━━━━━━━━━━━━━━\u001b[0m\u001b[37m\u001b[0m \u001b[1m0s\u001b[0m 27ms/step\n",
            "\u001b[1m1/1\u001b[0m \u001b[32m━━━━━━━━━━━━━━━━━━━━\u001b[0m\u001b[37m\u001b[0m \u001b[1m0s\u001b[0m 31ms/step\n",
            "\u001b[1m1/1\u001b[0m \u001b[32m━━━━━━━━━━━━━━━━━━━━\u001b[0m\u001b[37m\u001b[0m \u001b[1m0s\u001b[0m 25ms/step\n",
            "\u001b[1m1/1\u001b[0m \u001b[32m━━━━━━━━━━━━━━━━━━━━\u001b[0m\u001b[37m\u001b[0m \u001b[1m0s\u001b[0m 27ms/step\n",
            "\u001b[1m1/1\u001b[0m \u001b[32m━━━━━━━━━━━━━━━━━━━━\u001b[0m\u001b[37m\u001b[0m \u001b[1m0s\u001b[0m 28ms/step\n",
            "\u001b[1m1/1\u001b[0m \u001b[32m━━━━━━━━━━━━━━━━━━━━\u001b[0m\u001b[37m\u001b[0m \u001b[1m0s\u001b[0m 36ms/step\n",
            "\u001b[1m1/1\u001b[0m \u001b[32m━━━━━━━━━━━━━━━━━━━━\u001b[0m\u001b[37m\u001b[0m \u001b[1m0s\u001b[0m 31ms/step\n",
            "\u001b[1m1/1\u001b[0m \u001b[32m━━━━━━━━━━━━━━━━━━━━\u001b[0m\u001b[37m\u001b[0m \u001b[1m0s\u001b[0m 28ms/step\n",
            "\u001b[1m1/1\u001b[0m \u001b[32m━━━━━━━━━━━━━━━━━━━━\u001b[0m\u001b[37m\u001b[0m \u001b[1m0s\u001b[0m 27ms/step\n",
            "\u001b[1m1/1\u001b[0m \u001b[32m━━━━━━━━━━━━━━━━━━━━\u001b[0m\u001b[37m\u001b[0m \u001b[1m0s\u001b[0m 29ms/step\n",
            "\u001b[1m1/1\u001b[0m \u001b[32m━━━━━━━━━━━━━━━━━━━━\u001b[0m\u001b[37m\u001b[0m \u001b[1m0s\u001b[0m 28ms/step\n",
            "\u001b[1m1/1\u001b[0m \u001b[32m━━━━━━━━━━━━━━━━━━━━\u001b[0m\u001b[37m\u001b[0m \u001b[1m0s\u001b[0m 37ms/step\n",
            "\u001b[1m1/1\u001b[0m \u001b[32m━━━━━━━━━━━━━━━━━━━━\u001b[0m\u001b[37m\u001b[0m \u001b[1m0s\u001b[0m 30ms/step\n",
            "\u001b[1m1/1\u001b[0m \u001b[32m━━━━━━━━━━━━━━━━━━━━\u001b[0m\u001b[37m\u001b[0m \u001b[1m0s\u001b[0m 27ms/step\n",
            "\u001b[1m1/1\u001b[0m \u001b[32m━━━━━━━━━━━━━━━━━━━━\u001b[0m\u001b[37m\u001b[0m \u001b[1m0s\u001b[0m 27ms/step\n",
            "\u001b[1m1/1\u001b[0m \u001b[32m━━━━━━━━━━━━━━━━━━━━\u001b[0m\u001b[37m\u001b[0m \u001b[1m0s\u001b[0m 39ms/step\n",
            "\u001b[1m1/1\u001b[0m \u001b[32m━━━━━━━━━━━━━━━━━━━━\u001b[0m\u001b[37m\u001b[0m \u001b[1m0s\u001b[0m 29ms/step\n",
            "\u001b[1m1/1\u001b[0m \u001b[32m━━━━━━━━━━━━━━━━━━━━\u001b[0m\u001b[37m\u001b[0m \u001b[1m0s\u001b[0m 27ms/step\n",
            "\u001b[1m1/1\u001b[0m \u001b[32m━━━━━━━━━━━━━━━━━━━━\u001b[0m\u001b[37m\u001b[0m \u001b[1m0s\u001b[0m 32ms/step\n",
            "\u001b[1m1/1\u001b[0m \u001b[32m━━━━━━━━━━━━━━━━━━━━\u001b[0m\u001b[37m\u001b[0m \u001b[1m0s\u001b[0m 27ms/step\n",
            "\u001b[1m1/1\u001b[0m \u001b[32m━━━━━━━━━━━━━━━━━━━━\u001b[0m\u001b[37m\u001b[0m \u001b[1m0s\u001b[0m 27ms/step\n",
            "\u001b[1m1/1\u001b[0m \u001b[32m━━━━━━━━━━━━━━━━━━━━\u001b[0m\u001b[37m\u001b[0m \u001b[1m0s\u001b[0m 29ms/step\n",
            "\u001b[1m1/1\u001b[0m \u001b[32m━━━━━━━━━━━━━━━━━━━━\u001b[0m\u001b[37m\u001b[0m \u001b[1m0s\u001b[0m 26ms/step\n",
            "\u001b[1m1/1\u001b[0m \u001b[32m━━━━━━━━━━━━━━━━━━━━\u001b[0m\u001b[37m\u001b[0m \u001b[1m0s\u001b[0m 27ms/step\n",
            "\u001b[1m1/1\u001b[0m \u001b[32m━━━━━━━━━━━━━━━━━━━━\u001b[0m\u001b[37m\u001b[0m \u001b[1m0s\u001b[0m 27ms/step\n",
            "\u001b[1m1/1\u001b[0m \u001b[32m━━━━━━━━━━━━━━━━━━━━\u001b[0m\u001b[37m\u001b[0m \u001b[1m0s\u001b[0m 26ms/step\n",
            "\u001b[1m1/1\u001b[0m \u001b[32m━━━━━━━━━━━━━━━━━━━━\u001b[0m\u001b[37m\u001b[0m \u001b[1m0s\u001b[0m 32ms/step\n",
            "\u001b[1m1/1\u001b[0m \u001b[32m━━━━━━━━━━━━━━━━━━━━\u001b[0m\u001b[37m\u001b[0m \u001b[1m0s\u001b[0m 27ms/step\n",
            "\u001b[1m1/1\u001b[0m \u001b[32m━━━━━━━━━━━━━━━━━━━━\u001b[0m\u001b[37m\u001b[0m \u001b[1m0s\u001b[0m 27ms/step\n",
            "\u001b[1m1/1\u001b[0m \u001b[32m━━━━━━━━━━━━━━━━━━━━\u001b[0m\u001b[37m\u001b[0m \u001b[1m0s\u001b[0m 26ms/step\n",
            "\u001b[1m1/1\u001b[0m \u001b[32m━━━━━━━━━━━━━━━━━━━━\u001b[0m\u001b[37m\u001b[0m \u001b[1m0s\u001b[0m 26ms/step\n",
            "\u001b[1m1/1\u001b[0m \u001b[32m━━━━━━━━━━━━━━━━━━━━\u001b[0m\u001b[37m\u001b[0m \u001b[1m0s\u001b[0m 25ms/step\n",
            "\u001b[1m1/1\u001b[0m \u001b[32m━━━━━━━━━━━━━━━━━━━━\u001b[0m\u001b[37m\u001b[0m \u001b[1m0s\u001b[0m 40ms/step\n",
            "\u001b[1m1/1\u001b[0m \u001b[32m━━━━━━━━━━━━━━━━━━━━\u001b[0m\u001b[37m\u001b[0m \u001b[1m0s\u001b[0m 27ms/step\n",
            "\u001b[1m1/1\u001b[0m \u001b[32m━━━━━━━━━━━━━━━━━━━━\u001b[0m\u001b[37m\u001b[0m \u001b[1m0s\u001b[0m 27ms/step\n",
            "\u001b[1m1/1\u001b[0m \u001b[32m━━━━━━━━━━━━━━━━━━━━\u001b[0m\u001b[37m\u001b[0m \u001b[1m0s\u001b[0m 31ms/step\n",
            "\u001b[1m1/1\u001b[0m \u001b[32m━━━━━━━━━━━━━━━━━━━━\u001b[0m\u001b[37m\u001b[0m \u001b[1m0s\u001b[0m 25ms/step\n",
            "\u001b[1m1/1\u001b[0m \u001b[32m━━━━━━━━━━━━━━━━━━━━\u001b[0m\u001b[37m\u001b[0m \u001b[1m0s\u001b[0m 26ms/step\n",
            "\u001b[1m1/1\u001b[0m \u001b[32m━━━━━━━━━━━━━━━━━━━━\u001b[0m\u001b[37m\u001b[0m \u001b[1m0s\u001b[0m 26ms/step\n",
            "\u001b[1m1/1\u001b[0m \u001b[32m━━━━━━━━━━━━━━━━━━━━\u001b[0m\u001b[37m\u001b[0m \u001b[1m0s\u001b[0m 30ms/step\n",
            "\u001b[1m1/1\u001b[0m \u001b[32m━━━━━━━━━━━━━━━━━━━━\u001b[0m\u001b[37m\u001b[0m \u001b[1m0s\u001b[0m 27ms/step\n",
            "\u001b[1m1/1\u001b[0m \u001b[32m━━━━━━━━━━━━━━━━━━━━\u001b[0m\u001b[37m\u001b[0m \u001b[1m0s\u001b[0m 29ms/step\n",
            "\u001b[1m1/1\u001b[0m \u001b[32m━━━━━━━━━━━━━━━━━━━━\u001b[0m\u001b[37m\u001b[0m \u001b[1m0s\u001b[0m 28ms/step\n",
            "\u001b[1m1/1\u001b[0m \u001b[32m━━━━━━━━━━━━━━━━━━━━\u001b[0m\u001b[37m\u001b[0m \u001b[1m0s\u001b[0m 27ms/step\n",
            "\u001b[1m1/1\u001b[0m \u001b[32m━━━━━━━━━━━━━━━━━━━━\u001b[0m\u001b[37m\u001b[0m \u001b[1m0s\u001b[0m 26ms/step\n",
            "\u001b[1m1/1\u001b[0m \u001b[32m━━━━━━━━━━━━━━━━━━━━\u001b[0m\u001b[37m\u001b[0m \u001b[1m0s\u001b[0m 27ms/step\n",
            "\u001b[1m1/1\u001b[0m \u001b[32m━━━━━━━━━━━━━━━━━━━━\u001b[0m\u001b[37m\u001b[0m \u001b[1m0s\u001b[0m 26ms/step\n",
            "\u001b[1m1/1\u001b[0m \u001b[32m━━━━━━━━━━━━━━━━━━━━\u001b[0m\u001b[37m\u001b[0m \u001b[1m0s\u001b[0m 27ms/step\n",
            "\u001b[1m1/1\u001b[0m \u001b[32m━━━━━━━━━━━━━━━━━━━━\u001b[0m\u001b[37m\u001b[0m \u001b[1m0s\u001b[0m 26ms/step\n",
            "\u001b[1m1/1\u001b[0m \u001b[32m━━━━━━━━━━━━━━━━━━━━\u001b[0m\u001b[37m\u001b[0m \u001b[1m0s\u001b[0m 27ms/step\n",
            "\u001b[1m1/1\u001b[0m \u001b[32m━━━━━━━━━━━━━━━━━━━━\u001b[0m\u001b[37m\u001b[0m \u001b[1m0s\u001b[0m 27ms/step\n",
            "\u001b[1m1/1\u001b[0m \u001b[32m━━━━━━━━━━━━━━━━━━━━\u001b[0m\u001b[37m\u001b[0m \u001b[1m0s\u001b[0m 28ms/step\n",
            "\u001b[1m1/1\u001b[0m \u001b[32m━━━━━━━━━━━━━━━━━━━━\u001b[0m\u001b[37m\u001b[0m \u001b[1m0s\u001b[0m 27ms/step\n",
            "\u001b[1m1/1\u001b[0m \u001b[32m━━━━━━━━━━━━━━━━━━━━\u001b[0m\u001b[37m\u001b[0m \u001b[1m0s\u001b[0m 37ms/step\n",
            "\u001b[1m1/1\u001b[0m \u001b[32m━━━━━━━━━━━━━━━━━━━━\u001b[0m\u001b[37m\u001b[0m \u001b[1m0s\u001b[0m 28ms/step\n",
            "\u001b[1m1/1\u001b[0m \u001b[32m━━━━━━━━━━━━━━━━━━━━\u001b[0m\u001b[37m\u001b[0m \u001b[1m0s\u001b[0m 29ms/step\n",
            "\u001b[1m1/1\u001b[0m \u001b[32m━━━━━━━━━━━━━━━━━━━━\u001b[0m\u001b[37m\u001b[0m \u001b[1m0s\u001b[0m 34ms/step\n",
            "\u001b[1m1/1\u001b[0m \u001b[32m━━━━━━━━━━━━━━━━━━━━\u001b[0m\u001b[37m\u001b[0m \u001b[1m0s\u001b[0m 27ms/step\n",
            "\u001b[1m1/1\u001b[0m \u001b[32m━━━━━━━━━━━━━━━━━━━━\u001b[0m\u001b[37m\u001b[0m \u001b[1m0s\u001b[0m 27ms/step\n",
            "\u001b[1m1/1\u001b[0m \u001b[32m━━━━━━━━━━━━━━━━━━━━\u001b[0m\u001b[37m\u001b[0m \u001b[1m0s\u001b[0m 29ms/step\n",
            "\u001b[1m1/1\u001b[0m \u001b[32m━━━━━━━━━━━━━━━━━━━━\u001b[0m\u001b[37m\u001b[0m \u001b[1m0s\u001b[0m 27ms/step\n",
            "\u001b[1m1/1\u001b[0m \u001b[32m━━━━━━━━━━━━━━━━━━━━\u001b[0m\u001b[37m\u001b[0m \u001b[1m0s\u001b[0m 27ms/step\n",
            "\u001b[1m1/1\u001b[0m \u001b[32m━━━━━━━━━━━━━━━━━━━━\u001b[0m\u001b[37m\u001b[0m \u001b[1m0s\u001b[0m 29ms/step\n",
            "\u001b[1m1/1\u001b[0m \u001b[32m━━━━━━━━━━━━━━━━━━━━\u001b[0m\u001b[37m\u001b[0m \u001b[1m0s\u001b[0m 29ms/step\n",
            "\u001b[1m1/1\u001b[0m \u001b[32m━━━━━━━━━━━━━━━━━━━━\u001b[0m\u001b[37m\u001b[0m \u001b[1m0s\u001b[0m 29ms/step\n",
            "\u001b[1m1/1\u001b[0m \u001b[32m━━━━━━━━━━━━━━━━━━━━\u001b[0m\u001b[37m\u001b[0m \u001b[1m0s\u001b[0m 34ms/step\n",
            "\u001b[1m1/1\u001b[0m \u001b[32m━━━━━━━━━━━━━━━━━━━━\u001b[0m\u001b[37m\u001b[0m \u001b[1m0s\u001b[0m 28ms/step\n",
            "\u001b[1m1/1\u001b[0m \u001b[32m━━━━━━━━━━━━━━━━━━━━\u001b[0m\u001b[37m\u001b[0m \u001b[1m0s\u001b[0m 31ms/step\n",
            "\u001b[1m1/1\u001b[0m \u001b[32m━━━━━━━━━━━━━━━━━━━━\u001b[0m\u001b[37m\u001b[0m \u001b[1m0s\u001b[0m 27ms/step\n",
            "\u001b[1m1/1\u001b[0m \u001b[32m━━━━━━━━━━━━━━━━━━━━\u001b[0m\u001b[37m\u001b[0m \u001b[1m0s\u001b[0m 28ms/step\n",
            "\u001b[1m1/1\u001b[0m \u001b[32m━━━━━━━━━━━━━━━━━━━━\u001b[0m\u001b[37m\u001b[0m \u001b[1m0s\u001b[0m 27ms/step\n",
            "\u001b[1m1/1\u001b[0m \u001b[32m━━━━━━━━━━━━━━━━━━━━\u001b[0m\u001b[37m\u001b[0m \u001b[1m0s\u001b[0m 27ms/step\n",
            "\u001b[1m1/1\u001b[0m \u001b[32m━━━━━━━━━━━━━━━━━━━━\u001b[0m\u001b[37m\u001b[0m \u001b[1m0s\u001b[0m 46ms/step\n",
            "\u001b[1m1/1\u001b[0m \u001b[32m━━━━━━━━━━━━━━━━━━━━\u001b[0m\u001b[37m\u001b[0m \u001b[1m0s\u001b[0m 43ms/step\n",
            "\u001b[1m1/1\u001b[0m \u001b[32m━━━━━━━━━━━━━━━━━━━━\u001b[0m\u001b[37m\u001b[0m \u001b[1m0s\u001b[0m 56ms/step\n",
            "\u001b[1m1/1\u001b[0m \u001b[32m━━━━━━━━━━━━━━━━━━━━\u001b[0m\u001b[37m\u001b[0m \u001b[1m0s\u001b[0m 45ms/step\n",
            "\u001b[1m1/1\u001b[0m \u001b[32m━━━━━━━━━━━━━━━━━━━━\u001b[0m\u001b[37m\u001b[0m \u001b[1m0s\u001b[0m 38ms/step\n",
            "\u001b[1m1/1\u001b[0m \u001b[32m━━━━━━━━━━━━━━━━━━━━\u001b[0m\u001b[37m\u001b[0m \u001b[1m0s\u001b[0m 39ms/step\n",
            "\u001b[1m1/1\u001b[0m \u001b[32m━━━━━━━━━━━━━━━━━━━━\u001b[0m\u001b[37m\u001b[0m \u001b[1m0s\u001b[0m 37ms/step\n",
            "\u001b[1m1/1\u001b[0m \u001b[32m━━━━━━━━━━━━━━━━━━━━\u001b[0m\u001b[37m\u001b[0m \u001b[1m0s\u001b[0m 46ms/step\n",
            "\u001b[1m1/1\u001b[0m \u001b[32m━━━━━━━━━━━━━━━━━━━━\u001b[0m\u001b[37m\u001b[0m \u001b[1m0s\u001b[0m 37ms/step\n",
            "\u001b[1m1/1\u001b[0m \u001b[32m━━━━━━━━━━━━━━━━━━━━\u001b[0m\u001b[37m\u001b[0m \u001b[1m0s\u001b[0m 55ms/step\n",
            "\u001b[1m1/1\u001b[0m \u001b[32m━━━━━━━━━━━━━━━━━━━━\u001b[0m\u001b[37m\u001b[0m \u001b[1m0s\u001b[0m 37ms/step\n",
            "\u001b[1m1/1\u001b[0m \u001b[32m━━━━━━━━━━━━━━━━━━━━\u001b[0m\u001b[37m\u001b[0m \u001b[1m0s\u001b[0m 41ms/step\n",
            "\u001b[1m1/1\u001b[0m \u001b[32m━━━━━━━━━━━━━━━━━━━━\u001b[0m\u001b[37m\u001b[0m \u001b[1m0s\u001b[0m 39ms/step\n",
            "\u001b[1m1/1\u001b[0m \u001b[32m━━━━━━━━━━━━━━━━━━━━\u001b[0m\u001b[37m\u001b[0m \u001b[1m0s\u001b[0m 37ms/step\n",
            "\u001b[1m1/1\u001b[0m \u001b[32m━━━━━━━━━━━━━━━━━━━━\u001b[0m\u001b[37m\u001b[0m \u001b[1m0s\u001b[0m 44ms/step\n",
            "\u001b[1m1/1\u001b[0m \u001b[32m━━━━━━━━━━━━━━━━━━━━\u001b[0m\u001b[37m\u001b[0m \u001b[1m0s\u001b[0m 67ms/step\n",
            "\u001b[1m1/1\u001b[0m \u001b[32m━━━━━━━━━━━━━━━━━━━━\u001b[0m\u001b[37m\u001b[0m \u001b[1m0s\u001b[0m 47ms/step\n",
            "\u001b[1m1/1\u001b[0m \u001b[32m━━━━━━━━━━━━━━━━━━━━\u001b[0m\u001b[37m\u001b[0m \u001b[1m0s\u001b[0m 43ms/step\n",
            "\u001b[1m1/1\u001b[0m \u001b[32m━━━━━━━━━━━━━━━━━━━━\u001b[0m\u001b[37m\u001b[0m \u001b[1m0s\u001b[0m 45ms/step\n",
            "\u001b[1m1/1\u001b[0m \u001b[32m━━━━━━━━━━━━━━━━━━━━\u001b[0m\u001b[37m\u001b[0m \u001b[1m0s\u001b[0m 41ms/step\n",
            "\u001b[1m1/1\u001b[0m \u001b[32m━━━━━━━━━━━━━━━━━━━━\u001b[0m\u001b[37m\u001b[0m \u001b[1m0s\u001b[0m 42ms/step\n",
            "\u001b[1m1/1\u001b[0m \u001b[32m━━━━━━━━━━━━━━━━━━━━\u001b[0m\u001b[37m\u001b[0m \u001b[1m0s\u001b[0m 43ms/step\n",
            "\u001b[1m1/1\u001b[0m \u001b[32m━━━━━━━━━━━━━━━━━━━━\u001b[0m\u001b[37m\u001b[0m \u001b[1m0s\u001b[0m 40ms/step\n",
            "\u001b[1m1/1\u001b[0m \u001b[32m━━━━━━━━━━━━━━━━━━━━\u001b[0m\u001b[37m\u001b[0m \u001b[1m0s\u001b[0m 45ms/step\n",
            "\u001b[1m1/1\u001b[0m \u001b[32m━━━━━━━━━━━━━━━━━━━━\u001b[0m\u001b[37m\u001b[0m \u001b[1m0s\u001b[0m 41ms/step\n",
            "\u001b[1m1/1\u001b[0m \u001b[32m━━━━━━━━━━━━━━━━━━━━\u001b[0m\u001b[37m\u001b[0m \u001b[1m0s\u001b[0m 27ms/step\n",
            "\u001b[1m1/1\u001b[0m \u001b[32m━━━━━━━━━━━━━━━━━━━━\u001b[0m\u001b[37m\u001b[0m \u001b[1m0s\u001b[0m 27ms/step\n",
            "\u001b[1m1/1\u001b[0m \u001b[32m━━━━━━━━━━━━━━━━━━━━\u001b[0m\u001b[37m\u001b[0m \u001b[1m0s\u001b[0m 28ms/step\n",
            "\u001b[1m1/1\u001b[0m \u001b[32m━━━━━━━━━━━━━━━━━━━━\u001b[0m\u001b[37m\u001b[0m \u001b[1m0s\u001b[0m 27ms/step\n",
            "\u001b[1m1/1\u001b[0m \u001b[32m━━━━━━━━━━━━━━━━━━━━\u001b[0m\u001b[37m\u001b[0m \u001b[1m0s\u001b[0m 29ms/step\n",
            "\u001b[1m1/1\u001b[0m \u001b[32m━━━━━━━━━━━━━━━━━━━━\u001b[0m\u001b[37m\u001b[0m \u001b[1m0s\u001b[0m 27ms/step\n",
            "\u001b[1m1/1\u001b[0m \u001b[32m━━━━━━━━━━━━━━━━━━━━\u001b[0m\u001b[37m\u001b[0m \u001b[1m0s\u001b[0m 26ms/step\n",
            "\u001b[1m1/1\u001b[0m \u001b[32m━━━━━━━━━━━━━━━━━━━━\u001b[0m\u001b[37m\u001b[0m \u001b[1m0s\u001b[0m 25ms/step\n",
            "\u001b[1m1/1\u001b[0m \u001b[32m━━━━━━━━━━━━━━━━━━━━\u001b[0m\u001b[37m\u001b[0m \u001b[1m0s\u001b[0m 32ms/step\n",
            "\u001b[1m1/1\u001b[0m \u001b[32m━━━━━━━━━━━━━━━━━━━━\u001b[0m\u001b[37m\u001b[0m \u001b[1m0s\u001b[0m 32ms/step\n",
            "\u001b[1m1/1\u001b[0m \u001b[32m━━━━━━━━━━━━━━━━━━━━\u001b[0m\u001b[37m\u001b[0m \u001b[1m0s\u001b[0m 26ms/step\n",
            "\u001b[1m1/1\u001b[0m \u001b[32m━━━━━━━━━━━━━━━━━━━━\u001b[0m\u001b[37m\u001b[0m \u001b[1m0s\u001b[0m 26ms/step\n",
            "\u001b[1m1/1\u001b[0m \u001b[32m━━━━━━━━━━━━━━━━━━━━\u001b[0m\u001b[37m\u001b[0m \u001b[1m0s\u001b[0m 26ms/step\n",
            "\u001b[1m1/1\u001b[0m \u001b[32m━━━━━━━━━━━━━━━━━━━━\u001b[0m\u001b[37m\u001b[0m \u001b[1m0s\u001b[0m 32ms/step\n",
            "\u001b[1m1/1\u001b[0m \u001b[32m━━━━━━━━━━━━━━━━━━━━\u001b[0m\u001b[37m\u001b[0m \u001b[1m0s\u001b[0m 27ms/step\n",
            "\u001b[1m1/1\u001b[0m \u001b[32m━━━━━━━━━━━━━━━━━━━━\u001b[0m\u001b[37m\u001b[0m \u001b[1m0s\u001b[0m 27ms/step\n",
            "\u001b[1m1/1\u001b[0m \u001b[32m━━━━━━━━━━━━━━━━━━━━\u001b[0m\u001b[37m\u001b[0m \u001b[1m0s\u001b[0m 26ms/step\n",
            "\u001b[1m1/1\u001b[0m \u001b[32m━━━━━━━━━━━━━━━━━━━━\u001b[0m\u001b[37m\u001b[0m \u001b[1m0s\u001b[0m 27ms/step\n",
            "\u001b[1m1/1\u001b[0m \u001b[32m━━━━━━━━━━━━━━━━━━━━\u001b[0m\u001b[37m\u001b[0m \u001b[1m0s\u001b[0m 26ms/step\n",
            "\u001b[1m1/1\u001b[0m \u001b[32m━━━━━━━━━━━━━━━━━━━━\u001b[0m\u001b[37m\u001b[0m \u001b[1m0s\u001b[0m 32ms/step\n",
            "\u001b[1m1/1\u001b[0m \u001b[32m━━━━━━━━━━━━━━━━━━━━\u001b[0m\u001b[37m\u001b[0m \u001b[1m0s\u001b[0m 27ms/step\n",
            "\u001b[1m1/1\u001b[0m \u001b[32m━━━━━━━━━━━━━━━━━━━━\u001b[0m\u001b[37m\u001b[0m \u001b[1m0s\u001b[0m 27ms/step\n",
            "\u001b[1m1/1\u001b[0m \u001b[32m━━━━━━━━━━━━━━━━━━━━\u001b[0m\u001b[37m\u001b[0m \u001b[1m0s\u001b[0m 30ms/step\n",
            "\u001b[1m1/1\u001b[0m \u001b[32m━━━━━━━━━━━━━━━━━━━━\u001b[0m\u001b[37m\u001b[0m \u001b[1m0s\u001b[0m 27ms/step\n",
            "\u001b[1m1/1\u001b[0m \u001b[32m━━━━━━━━━━━━━━━━━━━━\u001b[0m\u001b[37m\u001b[0m \u001b[1m0s\u001b[0m 28ms/step\n",
            "\u001b[1m1/1\u001b[0m \u001b[32m━━━━━━━━━━━━━━━━━━━━\u001b[0m\u001b[37m\u001b[0m \u001b[1m0s\u001b[0m 26ms/step\n",
            "\u001b[1m1/1\u001b[0m \u001b[32m━━━━━━━━━━━━━━━━━━━━\u001b[0m\u001b[37m\u001b[0m \u001b[1m0s\u001b[0m 31ms/step\n",
            "\u001b[1m1/1\u001b[0m \u001b[32m━━━━━━━━━━━━━━━━━━━━\u001b[0m\u001b[37m\u001b[0m \u001b[1m0s\u001b[0m 29ms/step\n",
            "\u001b[1m1/1\u001b[0m \u001b[32m━━━━━━━━━━━━━━━━━━━━\u001b[0m\u001b[37m\u001b[0m \u001b[1m0s\u001b[0m 28ms/step\n",
            "\u001b[1m1/1\u001b[0m \u001b[32m━━━━━━━━━━━━━━━━━━━━\u001b[0m\u001b[37m\u001b[0m \u001b[1m0s\u001b[0m 34ms/step\n",
            "\u001b[1m1/1\u001b[0m \u001b[32m━━━━━━━━━━━━━━━━━━━━\u001b[0m\u001b[37m\u001b[0m \u001b[1m0s\u001b[0m 27ms/step\n",
            "\u001b[1m1/1\u001b[0m \u001b[32m━━━━━━━━━━━━━━━━━━━━\u001b[0m\u001b[37m\u001b[0m \u001b[1m0s\u001b[0m 28ms/step\n",
            "\u001b[1m1/1\u001b[0m \u001b[32m━━━━━━━━━━━━━━━━━━━━\u001b[0m\u001b[37m\u001b[0m \u001b[1m0s\u001b[0m 26ms/step\n",
            "\u001b[1m1/1\u001b[0m \u001b[32m━━━━━━━━━━━━━━━━━━━━\u001b[0m\u001b[37m\u001b[0m \u001b[1m0s\u001b[0m 27ms/step\n",
            "\u001b[1m1/1\u001b[0m \u001b[32m━━━━━━━━━━━━━━━━━━━━\u001b[0m\u001b[37m\u001b[0m \u001b[1m0s\u001b[0m 29ms/step\n",
            "\u001b[1m1/1\u001b[0m \u001b[32m━━━━━━━━━━━━━━━━━━━━\u001b[0m\u001b[37m\u001b[0m \u001b[1m0s\u001b[0m 27ms/step\n",
            "\u001b[1m1/1\u001b[0m \u001b[32m━━━━━━━━━━━━━━━━━━━━\u001b[0m\u001b[37m\u001b[0m \u001b[1m0s\u001b[0m 27ms/step\n",
            "\u001b[1m1/1\u001b[0m \u001b[32m━━━━━━━━━━━━━━━━━━━━\u001b[0m\u001b[37m\u001b[0m \u001b[1m0s\u001b[0m 27ms/step\n",
            "\u001b[1m1/1\u001b[0m \u001b[32m━━━━━━━━━━━━━━━━━━━━\u001b[0m\u001b[37m\u001b[0m \u001b[1m0s\u001b[0m 27ms/step\n",
            "\u001b[1m1/1\u001b[0m \u001b[32m━━━━━━━━━━━━━━━━━━━━\u001b[0m\u001b[37m\u001b[0m \u001b[1m0s\u001b[0m 38ms/step\n",
            "\u001b[1m1/1\u001b[0m \u001b[32m━━━━━━━━━━━━━━━━━━━━\u001b[0m\u001b[37m\u001b[0m \u001b[1m0s\u001b[0m 26ms/step\n",
            "\u001b[1m1/1\u001b[0m \u001b[32m━━━━━━━━━━━━━━━━━━━━\u001b[0m\u001b[37m\u001b[0m \u001b[1m0s\u001b[0m 25ms/step\n",
            "\u001b[1m1/1\u001b[0m \u001b[32m━━━━━━━━━━━━━━━━━━━━\u001b[0m\u001b[37m\u001b[0m \u001b[1m0s\u001b[0m 25ms/step\n",
            "\u001b[1m1/1\u001b[0m \u001b[32m━━━━━━━━━━━━━━━━━━━━\u001b[0m\u001b[37m\u001b[0m \u001b[1m0s\u001b[0m 25ms/step\n",
            "\u001b[1m1/1\u001b[0m \u001b[32m━━━━━━━━━━━━━━━━━━━━\u001b[0m\u001b[37m\u001b[0m \u001b[1m0s\u001b[0m 25ms/step\n",
            "\u001b[1m1/1\u001b[0m \u001b[32m━━━━━━━━━━━━━━━━━━━━\u001b[0m\u001b[37m\u001b[0m \u001b[1m0s\u001b[0m 25ms/step\n",
            "\u001b[1m1/1\u001b[0m \u001b[32m━━━━━━━━━━━━━━━━━━━━\u001b[0m\u001b[37m\u001b[0m \u001b[1m0s\u001b[0m 29ms/step\n",
            "\u001b[1m1/1\u001b[0m \u001b[32m━━━━━━━━━━━━━━━━━━━━\u001b[0m\u001b[37m\u001b[0m \u001b[1m0s\u001b[0m 26ms/step\n",
            "\u001b[1m1/1\u001b[0m \u001b[32m━━━━━━━━━━━━━━━━━━━━\u001b[0m\u001b[37m\u001b[0m \u001b[1m0s\u001b[0m 27ms/step\n",
            "\u001b[1m1/1\u001b[0m \u001b[32m━━━━━━━━━━━━━━━━━━━━\u001b[0m\u001b[37m\u001b[0m \u001b[1m0s\u001b[0m 27ms/step\n",
            "\u001b[1m1/1\u001b[0m \u001b[32m━━━━━━━━━━━━━━━━━━━━\u001b[0m\u001b[37m\u001b[0m \u001b[1m0s\u001b[0m 41ms/step\n",
            "\u001b[1m1/1\u001b[0m \u001b[32m━━━━━━━━━━━━━━━━━━━━\u001b[0m\u001b[37m\u001b[0m \u001b[1m0s\u001b[0m 27ms/step\n",
            "\u001b[1m1/1\u001b[0m \u001b[32m━━━━━━━━━━━━━━━━━━━━\u001b[0m\u001b[37m\u001b[0m \u001b[1m0s\u001b[0m 27ms/step\n",
            "\u001b[1m1/1\u001b[0m \u001b[32m━━━━━━━━━━━━━━━━━━━━\u001b[0m\u001b[37m\u001b[0m \u001b[1m0s\u001b[0m 35ms/step\n",
            "\u001b[1m1/1\u001b[0m \u001b[32m━━━━━━━━━━━━━━━━━━━━\u001b[0m\u001b[37m\u001b[0m \u001b[1m0s\u001b[0m 32ms/step\n",
            "\u001b[1m1/1\u001b[0m \u001b[32m━━━━━━━━━━━━━━━━━━━━\u001b[0m\u001b[37m\u001b[0m \u001b[1m0s\u001b[0m 25ms/step\n",
            "\u001b[1m1/1\u001b[0m \u001b[32m━━━━━━━━━━━━━━━━━━━━\u001b[0m\u001b[37m\u001b[0m \u001b[1m0s\u001b[0m 25ms/step\n",
            "\u001b[1m1/1\u001b[0m \u001b[32m━━━━━━━━━━━━━━━━━━━━\u001b[0m\u001b[37m\u001b[0m \u001b[1m0s\u001b[0m 27ms/step\n",
            "\u001b[1m1/1\u001b[0m \u001b[32m━━━━━━━━━━━━━━━━━━━━\u001b[0m\u001b[37m\u001b[0m \u001b[1m0s\u001b[0m 27ms/step\n",
            "\u001b[1m1/1\u001b[0m \u001b[32m━━━━━━━━━━━━━━━━━━━━\u001b[0m\u001b[37m\u001b[0m \u001b[1m0s\u001b[0m 32ms/step\n",
            "\u001b[1m1/1\u001b[0m \u001b[32m━━━━━━━━━━━━━━━━━━━━\u001b[0m\u001b[37m\u001b[0m \u001b[1m0s\u001b[0m 31ms/step\n",
            "\u001b[1m1/1\u001b[0m \u001b[32m━━━━━━━━━━━━━━━━━━━━\u001b[0m\u001b[37m\u001b[0m \u001b[1m0s\u001b[0m 26ms/step\n",
            "\u001b[1m1/1\u001b[0m \u001b[32m━━━━━━━━━━━━━━━━━━━━\u001b[0m\u001b[37m\u001b[0m \u001b[1m0s\u001b[0m 27ms/step\n",
            "\u001b[1m1/1\u001b[0m \u001b[32m━━━━━━━━━━━━━━━━━━━━\u001b[0m\u001b[37m\u001b[0m \u001b[1m0s\u001b[0m 27ms/step\n",
            "\u001b[1m1/1\u001b[0m \u001b[32m━━━━━━━━━━━━━━━━━━━━\u001b[0m\u001b[37m\u001b[0m \u001b[1m0s\u001b[0m 27ms/step\n",
            "\u001b[1m1/1\u001b[0m \u001b[32m━━━━━━━━━━━━━━━━━━━━\u001b[0m\u001b[37m\u001b[0m \u001b[1m0s\u001b[0m 28ms/step\n",
            "\u001b[1m1/1\u001b[0m \u001b[32m━━━━━━━━━━━━━━━━━━━━\u001b[0m\u001b[37m\u001b[0m \u001b[1m0s\u001b[0m 28ms/step\n",
            "\u001b[1m1/1\u001b[0m \u001b[32m━━━━━━━━━━━━━━━━━━━━\u001b[0m\u001b[37m\u001b[0m \u001b[1m0s\u001b[0m 27ms/step\n",
            "\u001b[1m1/1\u001b[0m \u001b[32m━━━━━━━━━━━━━━━━━━━━\u001b[0m\u001b[37m\u001b[0m \u001b[1m0s\u001b[0m 27ms/step\n",
            "\u001b[1m1/1\u001b[0m \u001b[32m━━━━━━━━━━━━━━━━━━━━\u001b[0m\u001b[37m\u001b[0m \u001b[1m0s\u001b[0m 32ms/step\n",
            "\u001b[1m1/1\u001b[0m \u001b[32m━━━━━━━━━━━━━━━━━━━━\u001b[0m\u001b[37m\u001b[0m \u001b[1m0s\u001b[0m 27ms/step\n",
            "\u001b[1m1/1\u001b[0m \u001b[32m━━━━━━━━━━━━━━━━━━━━\u001b[0m\u001b[37m\u001b[0m \u001b[1m0s\u001b[0m 27ms/step\n",
            "\u001b[1m1/1\u001b[0m \u001b[32m━━━━━━━━━━━━━━━━━━━━\u001b[0m\u001b[37m\u001b[0m \u001b[1m0s\u001b[0m 28ms/step\n",
            "\u001b[1m1/1\u001b[0m \u001b[32m━━━━━━━━━━━━━━━━━━━━\u001b[0m\u001b[37m\u001b[0m \u001b[1m0s\u001b[0m 27ms/step\n",
            "\u001b[1m1/1\u001b[0m \u001b[32m━━━━━━━━━━━━━━━━━━━━\u001b[0m\u001b[37m\u001b[0m \u001b[1m0s\u001b[0m 26ms/step\n",
            "\u001b[1m1/1\u001b[0m \u001b[32m━━━━━━━━━━━━━━━━━━━━\u001b[0m\u001b[37m\u001b[0m \u001b[1m0s\u001b[0m 29ms/step\n",
            "\u001b[1m1/1\u001b[0m \u001b[32m━━━━━━━━━━━━━━━━━━━━\u001b[0m\u001b[37m\u001b[0m \u001b[1m0s\u001b[0m 27ms/step\n",
            "\u001b[1m1/1\u001b[0m \u001b[32m━━━━━━━━━━━━━━━━━━━━\u001b[0m\u001b[37m\u001b[0m \u001b[1m0s\u001b[0m 25ms/step\n",
            "\u001b[1m1/1\u001b[0m \u001b[32m━━━━━━━━━━━━━━━━━━━━\u001b[0m\u001b[37m\u001b[0m \u001b[1m0s\u001b[0m 32ms/step\n",
            "\u001b[1m1/1\u001b[0m \u001b[32m━━━━━━━━━━━━━━━━━━━━\u001b[0m\u001b[37m\u001b[0m \u001b[1m0s\u001b[0m 26ms/step\n",
            "\u001b[1m1/1\u001b[0m \u001b[32m━━━━━━━━━━━━━━━━━━━━\u001b[0m\u001b[37m\u001b[0m \u001b[1m0s\u001b[0m 27ms/step\n",
            "\u001b[1m1/1\u001b[0m \u001b[32m━━━━━━━━━━━━━━━━━━━━\u001b[0m\u001b[37m\u001b[0m \u001b[1m0s\u001b[0m 25ms/step\n",
            "\u001b[1m1/1\u001b[0m \u001b[32m━━━━━━━━━━━━━━━━━━━━\u001b[0m\u001b[37m\u001b[0m \u001b[1m0s\u001b[0m 25ms/step\n",
            "\u001b[1m1/1\u001b[0m \u001b[32m━━━━━━━━━━━━━━━━━━━━\u001b[0m\u001b[37m\u001b[0m \u001b[1m0s\u001b[0m 25ms/step\n",
            "\u001b[1m1/1\u001b[0m \u001b[32m━━━━━━━━━━━━━━━━━━━━\u001b[0m\u001b[37m\u001b[0m \u001b[1m0s\u001b[0m 25ms/step\n",
            "\u001b[1m1/1\u001b[0m \u001b[32m━━━━━━━━━━━━━━━━━━━━\u001b[0m\u001b[37m\u001b[0m \u001b[1m0s\u001b[0m 25ms/step\n",
            "\u001b[1m1/1\u001b[0m \u001b[32m━━━━━━━━━━━━━━━━━━━━\u001b[0m\u001b[37m\u001b[0m \u001b[1m0s\u001b[0m 26ms/step\n",
            "\u001b[1m1/1\u001b[0m \u001b[32m━━━━━━━━━━━━━━━━━━━━\u001b[0m\u001b[37m\u001b[0m \u001b[1m0s\u001b[0m 25ms/step\n",
            "\u001b[1m1/1\u001b[0m \u001b[32m━━━━━━━━━━━━━━━━━━━━\u001b[0m\u001b[37m\u001b[0m \u001b[1m0s\u001b[0m 36ms/step\n",
            "\u001b[1m1/1\u001b[0m \u001b[32m━━━━━━━━━━━━━━━━━━━━\u001b[0m\u001b[37m\u001b[0m \u001b[1m0s\u001b[0m 33ms/step\n",
            "\u001b[1m1/1\u001b[0m \u001b[32m━━━━━━━━━━━━━━━━━━━━\u001b[0m\u001b[37m\u001b[0m \u001b[1m0s\u001b[0m 25ms/step\n",
            "\u001b[1m1/1\u001b[0m \u001b[32m━━━━━━━━━━━━━━━━━━━━\u001b[0m\u001b[37m\u001b[0m \u001b[1m0s\u001b[0m 25ms/step\n",
            "\u001b[1m1/1\u001b[0m \u001b[32m━━━━━━━━━━━━━━━━━━━━\u001b[0m\u001b[37m\u001b[0m \u001b[1m0s\u001b[0m 25ms/step\n",
            "\u001b[1m1/1\u001b[0m \u001b[32m━━━━━━━━━━━━━━━━━━━━\u001b[0m\u001b[37m\u001b[0m \u001b[1m0s\u001b[0m 26ms/step\n",
            "\u001b[1m1/1\u001b[0m \u001b[32m━━━━━━━━━━━━━━━━━━━━\u001b[0m\u001b[37m\u001b[0m \u001b[1m0s\u001b[0m 24ms/step\n",
            "\u001b[1m1/1\u001b[0m \u001b[32m━━━━━━━━━━━━━━━━━━━━\u001b[0m\u001b[37m\u001b[0m \u001b[1m0s\u001b[0m 25ms/step\n",
            "\u001b[1m1/1\u001b[0m \u001b[32m━━━━━━━━━━━━━━━━━━━━\u001b[0m\u001b[37m\u001b[0m \u001b[1m0s\u001b[0m 26ms/step\n",
            "\u001b[1m1/1\u001b[0m \u001b[32m━━━━━━━━━━━━━━━━━━━━\u001b[0m\u001b[37m\u001b[0m \u001b[1m0s\u001b[0m 26ms/step\n",
            "\u001b[1m1/1\u001b[0m \u001b[32m━━━━━━━━━━━━━━━━━━━━\u001b[0m\u001b[37m\u001b[0m \u001b[1m0s\u001b[0m 27ms/step\n",
            "\u001b[1m1/1\u001b[0m \u001b[32m━━━━━━━━━━━━━━━━━━━━\u001b[0m\u001b[37m\u001b[0m \u001b[1m0s\u001b[0m 34ms/step\n",
            "\u001b[1m1/1\u001b[0m \u001b[32m━━━━━━━━━━━━━━━━━━━━\u001b[0m\u001b[37m\u001b[0m \u001b[1m0s\u001b[0m 46ms/step\n",
            "\u001b[1m1/1\u001b[0m \u001b[32m━━━━━━━━━━━━━━━━━━━━\u001b[0m\u001b[37m\u001b[0m \u001b[1m0s\u001b[0m 41ms/step\n",
            "\u001b[1m1/1\u001b[0m \u001b[32m━━━━━━━━━━━━━━━━━━━━\u001b[0m\u001b[37m\u001b[0m \u001b[1m0s\u001b[0m 38ms/step\n",
            "\u001b[1m1/1\u001b[0m \u001b[32m━━━━━━━━━━━━━━━━━━━━\u001b[0m\u001b[37m\u001b[0m \u001b[1m0s\u001b[0m 40ms/step\n",
            "\u001b[1m1/1\u001b[0m \u001b[32m━━━━━━━━━━━━━━━━━━━━\u001b[0m\u001b[37m\u001b[0m \u001b[1m0s\u001b[0m 40ms/step\n",
            "\u001b[1m1/1\u001b[0m \u001b[32m━━━━━━━━━━━━━━━━━━━━\u001b[0m\u001b[37m\u001b[0m \u001b[1m0s\u001b[0m 36ms/step\n",
            "\u001b[1m1/1\u001b[0m \u001b[32m━━━━━━━━━━━━━━━━━━━━\u001b[0m\u001b[37m\u001b[0m \u001b[1m0s\u001b[0m 37ms/step\n",
            "\u001b[1m1/1\u001b[0m \u001b[32m━━━━━━━━━━━━━━━━━━━━\u001b[0m\u001b[37m\u001b[0m \u001b[1m0s\u001b[0m 59ms/step\n",
            "\u001b[1m1/1\u001b[0m \u001b[32m━━━━━━━━━━━━━━━━━━━━\u001b[0m\u001b[37m\u001b[0m \u001b[1m0s\u001b[0m 38ms/step\n",
            "\u001b[1m1/1\u001b[0m \u001b[32m━━━━━━━━━━━━━━━━━━━━\u001b[0m\u001b[37m\u001b[0m \u001b[1m0s\u001b[0m 43ms/step\n",
            "\u001b[1m1/1\u001b[0m \u001b[32m━━━━━━━━━━━━━━━━━━━━\u001b[0m\u001b[37m\u001b[0m \u001b[1m0s\u001b[0m 42ms/step\n",
            "\u001b[1m1/1\u001b[0m \u001b[32m━━━━━━━━━━━━━━━━━━━━\u001b[0m\u001b[37m\u001b[0m \u001b[1m0s\u001b[0m 41ms/step\n",
            "\u001b[1m1/1\u001b[0m \u001b[32m━━━━━━━━━━━━━━━━━━━━\u001b[0m\u001b[37m\u001b[0m \u001b[1m0s\u001b[0m 45ms/step\n",
            "\u001b[1m1/1\u001b[0m \u001b[32m━━━━━━━━━━━━━━━━━━━━\u001b[0m\u001b[37m\u001b[0m \u001b[1m0s\u001b[0m 38ms/step\n",
            "\u001b[1m1/1\u001b[0m \u001b[32m━━━━━━━━━━━━━━━━━━━━\u001b[0m\u001b[37m\u001b[0m \u001b[1m0s\u001b[0m 38ms/step\n",
            "\u001b[1m1/1\u001b[0m \u001b[32m━━━━━━━━━━━━━━━━━━━━\u001b[0m\u001b[37m\u001b[0m \u001b[1m0s\u001b[0m 58ms/step\n",
            "\u001b[1m1/1\u001b[0m \u001b[32m━━━━━━━━━━━━━━━━━━━━\u001b[0m\u001b[37m\u001b[0m \u001b[1m0s\u001b[0m 48ms/step\n",
            "\u001b[1m1/1\u001b[0m \u001b[32m━━━━━━━━━━━━━━━━━━━━\u001b[0m\u001b[37m\u001b[0m \u001b[1m0s\u001b[0m 35ms/step\n",
            "\u001b[1m1/1\u001b[0m \u001b[32m━━━━━━━━━━━━━━━━━━━━\u001b[0m\u001b[37m\u001b[0m \u001b[1m0s\u001b[0m 40ms/step\n",
            "\u001b[1m1/1\u001b[0m \u001b[32m━━━━━━━━━━━━━━━━━━━━\u001b[0m\u001b[37m\u001b[0m \u001b[1m0s\u001b[0m 38ms/step\n",
            "\u001b[1m1/1\u001b[0m \u001b[32m━━━━━━━━━━━━━━━━━━━━\u001b[0m\u001b[37m\u001b[0m \u001b[1m0s\u001b[0m 39ms/step\n",
            "\u001b[1m1/1\u001b[0m \u001b[32m━━━━━━━━━━━━━━━━━━━━\u001b[0m\u001b[37m\u001b[0m \u001b[1m0s\u001b[0m 39ms/step\n",
            "\u001b[1m1/1\u001b[0m \u001b[32m━━━━━━━━━━━━━━━━━━━━\u001b[0m\u001b[37m\u001b[0m \u001b[1m0s\u001b[0m 42ms/step\n",
            "\u001b[1m1/1\u001b[0m \u001b[32m━━━━━━━━━━━━━━━━━━━━\u001b[0m\u001b[37m\u001b[0m \u001b[1m0s\u001b[0m 43ms/step\n",
            "\u001b[1m1/1\u001b[0m \u001b[32m━━━━━━━━━━━━━━━━━━━━\u001b[0m\u001b[37m\u001b[0m \u001b[1m0s\u001b[0m 43ms/step\n",
            "\u001b[1m1/1\u001b[0m \u001b[32m━━━━━━━━━━━━━━━━━━━━\u001b[0m\u001b[37m\u001b[0m \u001b[1m0s\u001b[0m 45ms/step\n",
            "\u001b[1m1/1\u001b[0m \u001b[32m━━━━━━━━━━━━━━━━━━━━\u001b[0m\u001b[37m\u001b[0m \u001b[1m0s\u001b[0m 27ms/step\n",
            "\u001b[1m1/1\u001b[0m \u001b[32m━━━━━━━━━━━━━━━━━━━━\u001b[0m\u001b[37m\u001b[0m \u001b[1m0s\u001b[0m 27ms/step\n",
            "\u001b[1m1/1\u001b[0m \u001b[32m━━━━━━━━━━━━━━━━━━━━\u001b[0m\u001b[37m\u001b[0m \u001b[1m0s\u001b[0m 26ms/step\n",
            "\u001b[1m1/1\u001b[0m \u001b[32m━━━━━━━━━━━━━━━━━━━━\u001b[0m\u001b[37m\u001b[0m \u001b[1m0s\u001b[0m 25ms/step\n",
            "\u001b[1m1/1\u001b[0m \u001b[32m━━━━━━━━━━━━━━━━━━━━\u001b[0m\u001b[37m\u001b[0m \u001b[1m0s\u001b[0m 31ms/step\n",
            "\u001b[1m1/1\u001b[0m \u001b[32m━━━━━━━━━━━━━━━━━━━━\u001b[0m\u001b[37m\u001b[0m \u001b[1m0s\u001b[0m 27ms/step\n",
            "\u001b[1m1/1\u001b[0m \u001b[32m━━━━━━━━━━━━━━━━━━━━\u001b[0m\u001b[37m\u001b[0m \u001b[1m0s\u001b[0m 25ms/step\n",
            "\u001b[1m1/1\u001b[0m \u001b[32m━━━━━━━━━━━━━━━━━━━━\u001b[0m\u001b[37m\u001b[0m \u001b[1m0s\u001b[0m 27ms/step\n",
            "\u001b[1m1/1\u001b[0m \u001b[32m━━━━━━━━━━━━━━━━━━━━\u001b[0m\u001b[37m\u001b[0m \u001b[1m0s\u001b[0m 27ms/step\n",
            "\u001b[1m1/1\u001b[0m \u001b[32m━━━━━━━━━━━━━━━━━━━━\u001b[0m\u001b[37m\u001b[0m \u001b[1m0s\u001b[0m 27ms/step\n",
            "\u001b[1m1/1\u001b[0m \u001b[32m━━━━━━━━━━━━━━━━━━━━\u001b[0m\u001b[37m\u001b[0m \u001b[1m0s\u001b[0m 27ms/step\n",
            "\u001b[1m1/1\u001b[0m \u001b[32m━━━━━━━━━━━━━━━━━━━━\u001b[0m\u001b[37m\u001b[0m \u001b[1m0s\u001b[0m 26ms/step\n",
            "\u001b[1m1/1\u001b[0m \u001b[32m━━━━━━━━━━━━━━━━━━━━\u001b[0m\u001b[37m\u001b[0m \u001b[1m0s\u001b[0m 26ms/step\n",
            "\u001b[1m1/1\u001b[0m \u001b[32m━━━━━━━━━━━━━━━━━━━━\u001b[0m\u001b[37m\u001b[0m \u001b[1m0s\u001b[0m 26ms/step\n",
            "\u001b[1m1/1\u001b[0m \u001b[32m━━━━━━━━━━━━━━━━━━━━\u001b[0m\u001b[37m\u001b[0m \u001b[1m0s\u001b[0m 33ms/step\n",
            "\u001b[1m1/1\u001b[0m \u001b[32m━━━━━━━━━━━━━━━━━━━━\u001b[0m\u001b[37m\u001b[0m \u001b[1m0s\u001b[0m 25ms/step\n",
            "\u001b[1m1/1\u001b[0m \u001b[32m━━━━━━━━━━━━━━━━━━━━\u001b[0m\u001b[37m\u001b[0m \u001b[1m0s\u001b[0m 27ms/step\n",
            "\u001b[1m1/1\u001b[0m \u001b[32m━━━━━━━━━━━━━━━━━━━━\u001b[0m\u001b[37m\u001b[0m \u001b[1m0s\u001b[0m 35ms/step\n",
            "\u001b[1m1/1\u001b[0m \u001b[32m━━━━━━━━━━━━━━━━━━━━\u001b[0m\u001b[37m\u001b[0m \u001b[1m0s\u001b[0m 26ms/step\n",
            "\u001b[1m1/1\u001b[0m \u001b[32m━━━━━━━━━━━━━━━━━━━━\u001b[0m\u001b[37m\u001b[0m \u001b[1m0s\u001b[0m 26ms/step\n",
            "\u001b[1m1/1\u001b[0m \u001b[32m━━━━━━━━━━━━━━━━━━━━\u001b[0m\u001b[37m\u001b[0m \u001b[1m0s\u001b[0m 29ms/step\n",
            "\u001b[1m1/1\u001b[0m \u001b[32m━━━━━━━━━━━━━━━━━━━━\u001b[0m\u001b[37m\u001b[0m \u001b[1m0s\u001b[0m 26ms/step\n",
            "\u001b[1m1/1\u001b[0m \u001b[32m━━━━━━━━━━━━━━━━━━━━\u001b[0m\u001b[37m\u001b[0m \u001b[1m0s\u001b[0m 26ms/step\n",
            "\u001b[1m1/1\u001b[0m \u001b[32m━━━━━━━━━━━━━━━━━━━━\u001b[0m\u001b[37m\u001b[0m \u001b[1m0s\u001b[0m 35ms/step\n",
            "\u001b[1m1/1\u001b[0m \u001b[32m━━━━━━━━━━━━━━━━━━━━\u001b[0m\u001b[37m\u001b[0m \u001b[1m0s\u001b[0m 27ms/step\n",
            "\u001b[1m1/1\u001b[0m \u001b[32m━━━━━━━━━━━━━━━━━━━━\u001b[0m\u001b[37m\u001b[0m \u001b[1m0s\u001b[0m 25ms/step\n",
            "\u001b[1m1/1\u001b[0m \u001b[32m━━━━━━━━━━━━━━━━━━━━\u001b[0m\u001b[37m\u001b[0m \u001b[1m0s\u001b[0m 35ms/step\n",
            "\u001b[1m1/1\u001b[0m \u001b[32m━━━━━━━━━━━━━━━━━━━━\u001b[0m\u001b[37m\u001b[0m \u001b[1m0s\u001b[0m 24ms/step\n",
            "\u001b[1m1/1\u001b[0m \u001b[32m━━━━━━━━━━━━━━━━━━━━\u001b[0m\u001b[37m\u001b[0m \u001b[1m0s\u001b[0m 25ms/step\n",
            "\u001b[1m1/1\u001b[0m \u001b[32m━━━━━━━━━━━━━━━━━━━━\u001b[0m\u001b[37m\u001b[0m \u001b[1m0s\u001b[0m 27ms/step\n",
            "\u001b[1m1/1\u001b[0m \u001b[32m━━━━━━━━━━━━━━━━━━━━\u001b[0m\u001b[37m\u001b[0m \u001b[1m0s\u001b[0m 26ms/step\n",
            "\u001b[1m1/1\u001b[0m \u001b[32m━━━━━━━━━━━━━━━━━━━━\u001b[0m\u001b[37m\u001b[0m \u001b[1m0s\u001b[0m 28ms/step\n",
            "\u001b[1m1/1\u001b[0m \u001b[32m━━━━━━━━━━━━━━━━━━━━\u001b[0m\u001b[37m\u001b[0m \u001b[1m0s\u001b[0m 29ms/step\n",
            "\u001b[1m1/1\u001b[0m \u001b[32m━━━━━━━━━━━━━━━━━━━━\u001b[0m\u001b[37m\u001b[0m \u001b[1m0s\u001b[0m 27ms/step\n",
            "\u001b[1m1/1\u001b[0m \u001b[32m━━━━━━━━━━━━━━━━━━━━\u001b[0m\u001b[37m\u001b[0m \u001b[1m0s\u001b[0m 27ms/step\n",
            "\u001b[1m1/1\u001b[0m \u001b[32m━━━━━━━━━━━━━━━━━━━━\u001b[0m\u001b[37m\u001b[0m \u001b[1m0s\u001b[0m 34ms/step\n",
            "\u001b[1m1/1\u001b[0m \u001b[32m━━━━━━━━━━━━━━━━━━━━\u001b[0m\u001b[37m\u001b[0m \u001b[1m0s\u001b[0m 28ms/step\n",
            "\u001b[1m1/1\u001b[0m \u001b[32m━━━━━━━━━━━━━━━━━━━━\u001b[0m\u001b[37m\u001b[0m \u001b[1m0s\u001b[0m 26ms/step\n",
            "\u001b[1m1/1\u001b[0m \u001b[32m━━━━━━━━━━━━━━━━━━━━\u001b[0m\u001b[37m\u001b[0m \u001b[1m0s\u001b[0m 28ms/step\n",
            "\u001b[1m1/1\u001b[0m \u001b[32m━━━━━━━━━━━━━━━━━━━━\u001b[0m\u001b[37m\u001b[0m \u001b[1m0s\u001b[0m 28ms/step\n",
            "\u001b[1m1/1\u001b[0m \u001b[32m━━━━━━━━━━━━━━━━━━━━\u001b[0m\u001b[37m\u001b[0m \u001b[1m0s\u001b[0m 27ms/step\n",
            "\u001b[1m1/1\u001b[0m \u001b[32m━━━━━━━━━━━━━━━━━━━━\u001b[0m\u001b[37m\u001b[0m \u001b[1m0s\u001b[0m 30ms/step\n",
            "\u001b[1m1/1\u001b[0m \u001b[32m━━━━━━━━━━━━━━━━━━━━\u001b[0m\u001b[37m\u001b[0m \u001b[1m0s\u001b[0m 25ms/step\n",
            "\u001b[1m1/1\u001b[0m \u001b[32m━━━━━━━━━━━━━━━━━━━━\u001b[0m\u001b[37m\u001b[0m \u001b[1m0s\u001b[0m 27ms/step\n",
            "\u001b[1m1/1\u001b[0m \u001b[32m━━━━━━━━━━━━━━━━━━━━\u001b[0m\u001b[37m\u001b[0m \u001b[1m0s\u001b[0m 28ms/step\n",
            "\u001b[1m1/1\u001b[0m \u001b[32m━━━━━━━━━━━━━━━━━━━━\u001b[0m\u001b[37m\u001b[0m \u001b[1m0s\u001b[0m 28ms/step\n",
            "\u001b[1m1/1\u001b[0m \u001b[32m━━━━━━━━━━━━━━━━━━━━\u001b[0m\u001b[37m\u001b[0m \u001b[1m0s\u001b[0m 27ms/step\n",
            "\u001b[1m1/1\u001b[0m \u001b[32m━━━━━━━━━━━━━━━━━━━━\u001b[0m\u001b[37m\u001b[0m \u001b[1m0s\u001b[0m 28ms/step\n",
            "\u001b[1m1/1\u001b[0m \u001b[32m━━━━━━━━━━━━━━━━━━━━\u001b[0m\u001b[37m\u001b[0m \u001b[1m0s\u001b[0m 27ms/step\n",
            "\u001b[1m1/1\u001b[0m \u001b[32m━━━━━━━━━━━━━━━━━━━━\u001b[0m\u001b[37m\u001b[0m \u001b[1m0s\u001b[0m 31ms/step\n",
            "\u001b[1m1/1\u001b[0m \u001b[32m━━━━━━━━━━━━━━━━━━━━\u001b[0m\u001b[37m\u001b[0m \u001b[1m0s\u001b[0m 38ms/step\n",
            "\u001b[1m1/1\u001b[0m \u001b[32m━━━━━━━━━━━━━━━━━━━━\u001b[0m\u001b[37m\u001b[0m \u001b[1m0s\u001b[0m 43ms/step\n",
            "\u001b[1m1/1\u001b[0m \u001b[32m━━━━━━━━━━━━━━━━━━━━\u001b[0m\u001b[37m\u001b[0m \u001b[1m0s\u001b[0m 41ms/step\n",
            "\u001b[1m1/1\u001b[0m \u001b[32m━━━━━━━━━━━━━━━━━━━━\u001b[0m\u001b[37m\u001b[0m \u001b[1m0s\u001b[0m 44ms/step\n",
            "\u001b[1m1/1\u001b[0m \u001b[32m━━━━━━━━━━━━━━━━━━━━\u001b[0m\u001b[37m\u001b[0m \u001b[1m0s\u001b[0m 41ms/step\n",
            "\u001b[1m1/1\u001b[0m \u001b[32m━━━━━━━━━━━━━━━━━━━━\u001b[0m\u001b[37m\u001b[0m \u001b[1m0s\u001b[0m 42ms/step\n",
            "\u001b[1m1/1\u001b[0m \u001b[32m━━━━━━━━━━━━━━━━━━━━\u001b[0m\u001b[37m\u001b[0m \u001b[1m0s\u001b[0m 40ms/step\n",
            "\u001b[1m1/1\u001b[0m \u001b[32m━━━━━━━━━━━━━━━━━━━━\u001b[0m\u001b[37m\u001b[0m \u001b[1m0s\u001b[0m 56ms/step\n",
            "\u001b[1m1/1\u001b[0m \u001b[32m━━━━━━━━━━━━━━━━━━━━\u001b[0m\u001b[37m\u001b[0m \u001b[1m0s\u001b[0m 40ms/step\n",
            "\u001b[1m1/1\u001b[0m \u001b[32m━━━━━━━━━━━━━━━━━━━━\u001b[0m\u001b[37m\u001b[0m \u001b[1m0s\u001b[0m 48ms/step\n"
          ]
        }
      ]
    },
    {
      "cell_type": "code",
      "source": [
        "report = classification_report(true_labels, predicted_labels, target_names=list(class_indices.keys()))\n",
        "print(report)"
      ],
      "metadata": {
        "id": "OUgiUeqAOtEN",
        "outputId": "869b5d79-a028-42f4-cd25-b0926736094c",
        "colab": {
          "base_uri": "https://localhost:8080/"
        }
      },
      "execution_count": null,
      "outputs": [
        {
          "output_type": "stream",
          "name": "stdout",
          "text": [
            "              precision    recall  f1-score   support\n",
            "\n",
            "   n02999410       1.00      0.88      0.94        50\n",
            "   n02666196       1.00      0.74      0.85        50\n",
            "   n02793495       0.96      1.00      0.98        50\n",
            "   n02977058       0.93      1.00      0.96        50\n",
            "   n02906734       0.93      1.00      0.96        50\n",
            "   n03838899       1.00      1.00      1.00        50\n",
            "   n04417672       0.94      0.98      0.96        50\n",
            "   n03763968       0.98      1.00      0.99        50\n",
            "   n04487081       1.00      1.00      1.00        50\n",
            "   n01774750       0.96      1.00      0.98        50\n",
            "   n04399382       1.00      1.00      1.00        50\n",
            "   n04149813       0.85      1.00      0.92        50\n",
            "   n03891332       0.97      0.74      0.84        50\n",
            "   n03089624       0.93      0.76      0.84        50\n",
            "   n02094433       0.98      1.00      0.99        50\n",
            "   n04008634       0.94      1.00      0.97        50\n",
            "   n03393912       1.00      0.98      0.99        50\n",
            "   n04074963       0.98      0.80      0.88        50\n",
            "   n01644900       0.93      1.00      0.96        50\n",
            "   n07747607       0.94      1.00      0.97        50\n",
            "   n03085013       0.97      0.78      0.87        50\n",
            "   n02236044       0.95      0.72      0.82        50\n",
            "   n03447447       0.90      0.76      0.83        50\n",
            "   n03983396       0.91      0.84      0.87        50\n",
            "   n03126707       0.89      0.98      0.93        50\n",
            "   n04275548       1.00      0.82      0.90        50\n",
            "   n03649909       0.98      0.94      0.96        50\n",
            "   n02056570       0.93      1.00      0.96        50\n",
            "   n01855672       0.94      1.00      0.97        50\n",
            "   n01984695       0.89      1.00      0.94        50\n",
            "   n02226429       0.96      1.00      0.98        50\n",
            "   n03617480       0.98      0.98      0.98        50\n",
            "   n09256479       0.96      0.96      0.96        50\n",
            "   n03837869       0.93      1.00      0.96        50\n",
            "   n02415577       0.96      1.00      0.98        50\n",
            "   n02791270       0.86      1.00      0.93        50\n",
            "   n03992509       0.93      0.82      0.87        50\n",
            "   n04597913       0.96      1.00      0.98        50\n",
            "   n03854065       0.89      1.00      0.94        50\n",
            "   n02123394       1.00      1.00      1.00        50\n",
            "   n02437312       0.98      1.00      0.99        50\n",
            "   n04465501       1.00      1.00      1.00        50\n",
            "   n07875152       0.96      1.00      0.98        50\n",
            "   n02231487       0.98      1.00      0.99        50\n",
            "   n01768244       0.96      1.00      0.98        50\n",
            "   n03388043       0.98      0.86      0.91        50\n",
            "   n09193705       0.91      1.00      0.95        50\n",
            "   n03770439       0.96      0.98      0.97        50\n",
            "   n03599486       0.93      1.00      0.96        50\n",
            "   n02843684       0.86      1.00      0.93        50\n",
            "   n01641577       0.97      0.76      0.85        50\n",
            "   n02950826       0.98      1.00      0.99        50\n",
            "   n04311004       1.00      0.82      0.90        50\n",
            "   n02099712       1.00      1.00      1.00        50\n",
            "   n03026506       0.96      1.00      0.98        50\n",
            "   n04133789       1.00      0.74      0.85        50\n",
            "   n03706229       0.94      1.00      0.97        50\n",
            "   n07734744       1.00      0.98      0.99        50\n",
            "   n01742172       0.95      0.78      0.86        50\n",
            "   n03404251       0.94      1.00      0.97        50\n",
            "   n02788148       1.00      0.72      0.84        50\n",
            "   n03976657       0.98      1.00      0.99        50\n",
            "   n04596742       1.00      1.00      1.00        50\n",
            "   n04179913       0.98      1.00      0.99        50\n",
            "   n02002724       0.96      1.00      0.98        50\n",
            "   n02125311       0.86      1.00      0.93        50\n",
            "   n04540053       0.98      1.00      0.99        50\n",
            "   n02403003       0.96      0.98      0.97        50\n",
            "   n04265275       0.94      0.98      0.96        50\n",
            "   n02963159       0.98      1.00      0.99        50\n",
            "   n01698640       1.00      1.00      1.00        50\n",
            "   n09246464       0.96      1.00      0.98        50\n",
            "   n01917289       0.94      1.00      0.97        50\n",
            "   n04376876       0.96      1.00      0.98        50\n",
            "   n02124075       0.94      1.00      0.97        50\n",
            "   n07695742       1.00      1.00      1.00        50\n",
            "   n04356056       0.94      1.00      0.97        50\n",
            "   n02190166       0.98      0.98      0.98        50\n",
            "   n02165456       0.93      1.00      0.96        50\n",
            "   n07615774       0.96      0.98      0.97        50\n",
            "   n04562935       0.94      0.98      0.96        50\n",
            "   n02279972       0.98      0.90      0.94        50\n",
            "   n04118538       0.96      0.94      0.95        50\n",
            "   n03201208       0.98      1.00      0.99        50\n",
            "   n04486054       0.96      1.00      0.98        50\n",
            "   n04398044       1.00      1.00      1.00        50\n",
            "   n02129165       0.96      1.00      0.98        50\n",
            "   n03424325       1.00      0.98      0.99        50\n",
            "   n02988304       0.96      1.00      0.98        50\n",
            "   n07711569       0.98      1.00      0.99        50\n",
            "   n07715103       1.00      0.72      0.84        50\n",
            "   n01774384       1.00      1.00      1.00        50\n",
            "   n03796401       0.98      0.98      0.98        50\n",
            "   n03014705       1.00      1.00      1.00        50\n",
            "   n01944390       1.00      0.98      0.99        50\n",
            "   n02281406       0.91      1.00      0.95        50\n",
            "   n03930313       0.88      1.00      0.93        50\n",
            "   n02769748       0.98      1.00      0.99        50\n",
            "   n03355925       0.98      0.98      0.98        50\n",
            "   n03980874       0.96      1.00      0.98        50\n",
            "   n02927161       0.98      1.00      0.99        50\n",
            "   n01770393       1.00      0.96      0.98        50\n",
            "   n01945685       0.91      0.98      0.94        50\n",
            "   n02837789       0.98      0.84      0.90        50\n",
            "   n01443537       0.96      1.00      0.98        50\n",
            "   n02481823       0.94      0.98      0.96        50\n",
            "   n04366367       0.96      1.00      0.98        50\n",
            "   n01882714       0.94      1.00      0.97        50\n",
            "   n02823428       0.98      1.00      0.99        50\n",
            "   n04067472       0.97      0.72      0.83        50\n",
            "   n06596364       1.00      1.00      1.00        50\n",
            "   n04532670       1.00      1.00      1.00        50\n",
            "   n03400231       0.93      1.00      0.96        50\n",
            "   n02106662       1.00      1.00      1.00        50\n",
            "   n02669723       0.96      0.98      0.97        50\n",
            "   n09332890       1.00      0.84      0.91        50\n",
            "   n01910747       0.88      1.00      0.93        50\n",
            "   n04251144       0.98      1.00      0.99        50\n",
            "   n04285008       0.98      1.00      0.99        50\n",
            "   n03662601       0.96      1.00      0.98        50\n",
            "   n07579787       0.96      1.00      0.98        50\n",
            "   n04023962       0.94      0.98      0.96        50\n",
            "   n02892201       0.94      1.00      0.97        50\n",
            "   n02074367       0.98      0.98      0.98        50\n",
            "   n07614500       0.93      0.86      0.90        50\n",
            "   n02699494       0.93      1.00      0.96        50\n",
            "   n03814639       0.96      0.98      0.97        50\n",
            "   n03804744       1.00      0.98      0.99        50\n",
            "   n02233338       0.96      0.98      0.97        50\n",
            "   n02814533       0.93      1.00      0.96        50\n",
            "   n03977966       0.96      1.00      0.98        50\n",
            "   n03160309       0.96      0.98      0.97        50\n",
            "   n03637318       0.89      1.00      0.94        50\n",
            "   n02814860       0.96      1.00      0.98        50\n",
            "   n02268443       0.96      1.00      0.98        50\n",
            "   n02321529       0.98      1.00      0.99        50\n",
            "   n02815834       1.00      1.00      1.00        50\n",
            "   n04560804       0.94      0.98      0.96        50\n",
            "   n03544143       0.93      1.00      0.96        50\n",
            "   n02883205       0.96      0.98      0.97        50\n",
            "   n02802426       0.98      1.00      0.99        50\n",
            "   n02909870       1.00      1.00      1.00        50\n",
            "   n04456115       0.96      0.98      0.97        50\n",
            "   n02099601       0.95      0.84      0.89        50\n",
            "   n03444034       0.96      1.00      0.98        50\n",
            "   n02085620       0.96      0.90      0.93        50\n",
            "   n02509815       0.97      0.76      0.85        50\n",
            "   n02113799       1.00      1.00      1.00        50\n",
            "   n02410509       0.94      1.00      0.97        50\n",
            "   n03100240       0.94      0.98      0.96        50\n",
            "   n01983481       0.96      1.00      0.98        50\n",
            "   n04070727       0.98      1.00      0.99        50\n",
            "   n01784675       1.00      1.00      1.00        50\n",
            "   n04099969       0.98      0.98      0.98        50\n",
            "   n02206856       0.96      1.00      0.98        50\n",
            "   n04501370       0.98      1.00      0.99        50\n",
            "   n07583066       0.96      1.00      0.98        50\n",
            "   n03179701       0.93      1.00      0.96        50\n",
            "   n07720875       1.00      1.00      1.00        50\n",
            "   n04507155       0.94      0.98      0.96        50\n",
            "   n02058221       0.96      1.00      0.98        50\n",
            "   n03670208       0.94      1.00      0.97        50\n",
            "   n02795169       0.98      0.98      0.98        50\n",
            "   n02841315       0.96      1.00      0.98        50\n",
            "   n03042490       0.89      1.00      0.94        50\n",
            "   n02486410       1.00      0.78      0.88        50\n",
            "   n01629819       1.00      0.84      0.91        50\n",
            "   n04259630       0.96      0.98      0.97        50\n",
            "   n07749582       0.94      1.00      0.97        50\n",
            "   n03733131       1.00      0.96      0.98        50\n",
            "   n04532106       0.97      0.70      0.81        50\n",
            "   n04254777       0.98      0.96      0.97        50\n",
            "   n02395406       1.00      1.00      1.00        50\n",
            "   n04146614       0.98      0.80      0.88        50\n",
            "   n07920052       0.98      1.00      0.99        50\n",
            "   n07871810       0.98      0.98      0.98        50\n",
            "   n03255030       1.00      0.98      0.99        50\n",
            "   n02480495       0.94      1.00      0.97        50\n",
            "   n02917067       0.98      1.00      0.99        50\n",
            "   n07753592       0.94      1.00      0.97        50\n",
            "   n03970156       1.00      1.00      1.00        50\n",
            "   n02364673       1.00      0.98      0.99        50\n",
            "   n02132136       0.98      1.00      0.99        50\n",
            "   n03584254       0.98      0.96      0.97        50\n",
            "   n02423022       0.96      0.92      0.94        50\n",
            "   n07768694       0.94      1.00      0.97        50\n",
            "   n03937543       0.98      0.98      0.98        50\n",
            "   n03250847       1.00      1.00      1.00        50\n",
            "   n07873807       0.96      1.00      0.98        50\n",
            "   n04371430       0.95      0.74      0.83        50\n",
            "   n02504458       0.91      0.98      0.94        50\n",
            "   n01950731       1.00      0.74      0.85        50\n",
            "   n02948072       0.93      1.00      0.96        50\n",
            "   n03902125       0.95      0.82      0.88        50\n",
            "   n12267677       0.93      1.00      0.96        50\n",
            "   n09428293       0.98      0.98      0.98        50\n",
            "   n02808440       0.91      1.00      0.95        50\n",
            "   n02730930       0.91      1.00      0.95        50\n",
            "   n04328186       0.94      1.00      0.97        50\n",
            "   n02123045       0.94      1.00      0.97        50\n",
            "\n",
            "    accuracy                           0.96     10000\n",
            "   macro avg       0.96      0.96      0.96     10000\n",
            "weighted avg       0.96      0.96      0.96     10000\n",
            "\n"
          ]
        }
      ]
    },
    {
      "cell_type": "markdown",
      "source": [
        "We reached not bad result so we can save our trained model:"
      ],
      "metadata": {
        "id": "G2uEQ_dnD9S6"
      }
    },
    {
      "cell_type": "code",
      "source": [
        "model.save('/content/drive/MyDrive/Colab Notebooks/tiny_imagenet_efficientnet_b3_augmented.keras')"
      ],
      "metadata": {
        "id": "YOv1JAM8EBbv"
      },
      "execution_count": null,
      "outputs": []
    },
    {
      "cell_type": "markdown",
      "source": [
        "Let's try to predict with our model:"
      ],
      "metadata": {
        "id": "df3QzmjrtTv8"
      }
    },
    {
      "cell_type": "code",
      "source": [
        "predict_and_visualize('/content/tiny-imagenet-200/train/n02909870/n02909870_0.JPEG', model, class_indices, class_labels)"
      ],
      "metadata": {
        "id": "HJB54RT2tYVr",
        "outputId": "64f24134-e633-49dd-d0fa-d48f9cfc9eea",
        "colab": {
          "base_uri": "https://localhost:8080/",
          "height": 660
        }
      },
      "execution_count": null,
      "outputs": [
        {
          "output_type": "stream",
          "name": "stdout",
          "text": [
            "\u001b[1m1/1\u001b[0m \u001b[32m━━━━━━━━━━━━━━━━━━━━\u001b[0m\u001b[37m\u001b[0m \u001b[1m0s\u001b[0m 28ms/step\n",
            "Predictions: [[0. 0. 0. 0. 0. 0. 0. 0. 0. 0. 0. 0. 0. 0. 0. 0. 0. 0. 0. 0. 0. 0. 0. 1.\n",
            "  0. 0. 0. 0. 0. 0. 0. 0. 0. 0. 0. 0. 0. 0. 0. 0. 0. 0. 0. 0. 0. 0. 0. 0.\n",
            "  0. 0. 0. 0. 0. 0. 0. 0. 0. 0. 0. 0. 0. 0. 0. 0. 0. 0. 0. 0. 0. 0. 0. 0.\n",
            "  0. 0. 0. 0. 0. 0. 0. 0. 0. 0. 0. 0. 0. 0. 0. 0. 0. 0. 0. 0. 0. 0. 0. 0.\n",
            "  0. 0. 0. 0. 0. 0. 0. 0. 0. 0. 0. 0. 0. 0. 0. 0. 0. 0. 0. 0. 0. 0. 0. 0.\n",
            "  0. 0. 0. 0. 0. 0. 0. 0. 0. 0. 0. 0. 0. 0. 0. 0. 0. 0. 0. 0. 0. 0. 0. 0.\n",
            "  0. 0. 0. 0. 0. 0. 0. 0. 0. 0. 0. 0. 0. 0. 0. 0. 0. 0. 0. 0. 0. 0. 0. 0.\n",
            "  0. 0. 0. 0. 0. 0. 0. 0. 0. 0. 0. 0. 0. 0. 0. 0. 0. 0. 0. 0. 0. 0. 0. 0.\n",
            "  0. 0. 0. 0. 0. 0. 0. 0.]]\n",
            "Predicted class index: 23\n",
            "Predicted synset ID: n03983396\n",
            "Predicted class label: pop bottle, soda bottle\n"
          ]
        },
        {
          "output_type": "display_data",
          "data": {
            "text/plain": [
              "<Figure size 640x480 with 1 Axes>"
            ],
            "image/png": "[encoded data removed]"
          },
          "metadata": {}
        }
      ]
    }
  ],
  "metadata": {
    "colab": {
      "provenance": [],
      "gpuType": "T4",
      "mount_file_id": "https://github.com/Korniev/Machine-Learning-projects/blob/main/ClassReport_augm_image_classification_tiny_imagenet.ipynb",
      "authorship_tag": "ABX9TyOqfVz5eA97Vm3y0KpP+8xg",
      "include_colab_link": true
    },
    "kernelspec": {
      "display_name": "Python 3",
      "name": "python3"
    },
    "language_info": {
      "name": "python"
    },
    "accelerator": "GPU"
  },
  "nbformat": 4,
  "nbformat_minor": 0
}