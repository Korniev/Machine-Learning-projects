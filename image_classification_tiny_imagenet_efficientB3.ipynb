{
  "cells": [
    {
      "cell_type": "markdown",
      "metadata": {
        "id": "view-in-github",
        "colab_type": "text"
      },
      "source": [
        "<a href=\"https://colab.research.google.com/github/Korniev/Machine-Learning-projects/blob/main/image_classification_tiny_imagenet_efficientB3.ipynb\" target=\"_parent\"><img src=\"https://colab.research.google.com/assets/colab-badge.svg\" alt=\"Open In Colab\"/></a>"
      ]
    },
    {
      "cell_type": "markdown",
      "source": [
        "Import libraries:"
      ],
      "metadata": {
        "id": "y05ocGn0L1PH"
      }
    },
    {
      "cell_type": "code",
      "execution_count": 5,
      "metadata": {
        "id": "vsXqvlafahrb"
      },
      "outputs": [],
      "source": [
        "import tensorflow as tf\n",
        "from tensorflow.keras.applications import ResNet50, EfficientNetB3\n",
        "from tensorflow.keras.preprocessing.image import ImageDataGenerator\n",
        "from keras.layers import Dense, GlobalAveragePooling2D, Dropout, BatchNormalization\n",
        "from keras.models import Model\n",
        "from keras.optimizers import Adam\n",
        "from keras.callbacks import EarlyStopping, ReduceLROnPlateau, LearningRateScheduler\n",
        "import zipfile\n",
        "import os\n",
        "import shutil"
      ]
    },
    {
      "cell_type": "markdown",
      "source": [
        "Upload the file to Google Colab and list the uploaded files to verify:"
      ],
      "metadata": {
        "id": "E_qkMY2jLVQR"
      }
    },
    {
      "cell_type": "code",
      "source": [
        "from google.colab import files\n",
        "uploaded = files.upload()\n",
        "\n",
        "for filename in uploaded.keys():\n",
        "    print(f'Uploaded file: {filename}')"
      ],
      "metadata": {
        "colab": {
          "base_uri": "https://localhost:8080/",
          "height": 92
        },
        "id": "oU_LK7xfLbi2",
        "outputId": "905e30d1-6c21-4cd5-fcb9-8f87a284b0fd"
      },
      "execution_count": 6,
      "outputs": [
        {
          "output_type": "display_data",
          "data": {
            "text/plain": [
              "<IPython.core.display.HTML object>"
            ],
            "text/html": [
              "\n",
              "     <input type=\"file\" id=\"files-27a7209a-ec21-4aa8-b1ee-4cca837b2217\" name=\"files[]\" multiple disabled\n",
              "        style=\"border:none\" />\n",
              "     <output id=\"result-27a7209a-ec21-4aa8-b1ee-4cca837b2217\">\n",
              "      Upload widget is only available when the cell has been executed in the\n",
              "      current browser session. Please rerun this cell to enable.\n",
              "      </output>\n",
              "      <script>// Copyright 2017 Google LLC\n",
              "//\n",
              "// Licensed under the Apache License, Version 2.0 (the \"License\");\n",
              "// you may not use this file except in compliance with the License.\n",
              "// You may obtain a copy of the License at\n",
              "//\n",
              "//      http://www.apache.org/licenses/LICENSE-2.0\n",
              "//\n",
              "// Unless required by applicable law or agreed to in writing, software\n",
              "// distributed under the License is distributed on an \"AS IS\" BASIS,\n",
              "// WITHOUT WARRANTIES OR CONDITIONS OF ANY KIND, either express or implied.\n",
              "// See the License for the specific language governing permissions and\n",
              "// limitations under the License.\n",
              "\n",
              "/**\n",
              " * @fileoverview Helpers for google.colab Python module.\n",
              " */\n",
              "(function(scope) {\n",
              "function span(text, styleAttributes = {}) {\n",
              "  const element = document.createElement('span');\n",
              "  element.textContent = text;\n",
              "  for (const key of Object.keys(styleAttributes)) {\n",
              "    element.style[key] = styleAttributes[key];\n",
              "  }\n",
              "  return element;\n",
              "}\n",
              "\n",
              "// Max number of bytes which will be uploaded at a time.\n",
              "const MAX_PAYLOAD_SIZE = 100 * 1024;\n",
              "\n",
              "function _uploadFiles(inputId, outputId) {\n",
              "  const steps = uploadFilesStep(inputId, outputId);\n",
              "  const outputElement = document.getElementById(outputId);\n",
              "  // Cache steps on the outputElement to make it available for the next call\n",
              "  // to uploadFilesContinue from Python.\n",
              "  outputElement.steps = steps;\n",
              "\n",
              "  return _uploadFilesContinue(outputId);\n",
              "}\n",
              "\n",
              "// This is roughly an async generator (not supported in the browser yet),\n",
              "// where there are multiple asynchronous steps and the Python side is going\n",
              "// to poll for completion of each step.\n",
              "// This uses a Promise to block the python side on completion of each step,\n",
              "// then passes the result of the previous step as the input to the next step.\n",
              "function _uploadFilesContinue(outputId) {\n",
              "  const outputElement = document.getElementById(outputId);\n",
              "  const steps = outputElement.steps;\n",
              "\n",
              "  const next = steps.next(outputElement.lastPromiseValue);\n",
              "  return Promise.resolve(next.value.promise).then((value) => {\n",
              "    // Cache the last promise value to make it available to the next\n",
              "    // step of the generator.\n",
              "    outputElement.lastPromiseValue = value;\n",
              "    return next.value.response;\n",
              "  });\n",
              "}\n",
              "\n",
              "/**\n",
              " * Generator function which is called between each async step of the upload\n",
              " * process.\n",
              " * @param {string} inputId Element ID of the input file picker element.\n",
              " * @param {string} outputId Element ID of the output display.\n",
              " * @return {!Iterable<!Object>} Iterable of next steps.\n",
              " */\n",
              "function* uploadFilesStep(inputId, outputId) {\n",
              "  const inputElement = document.getElementById(inputId);\n",
              "  inputElement.disabled = false;\n",
              "\n",
              "  const outputElement = document.getElementById(outputId);\n",
              "  outputElement.innerHTML = '';\n",
              "\n",
              "  const pickedPromise = new Promise((resolve) => {\n",
              "    inputElement.addEventListener('change', (e) => {\n",
              "      resolve(e.target.files);\n",
              "    });\n",
              "  });\n",
              "\n",
              "  const cancel = document.createElement('button');\n",
              "  inputElement.parentElement.appendChild(cancel);\n",
              "  cancel.textContent = 'Cancel upload';\n",
              "  const cancelPromise = new Promise((resolve) => {\n",
              "    cancel.onclick = () => {\n",
              "      resolve(null);\n",
              "    };\n",
              "  });\n",
              "\n",
              "  // Wait for the user to pick the files.\n",
              "  const files = yield {\n",
              "    promise: Promise.race([pickedPromise, cancelPromise]),\n",
              "    response: {\n",
              "      action: 'starting',\n",
              "    }\n",
              "  };\n",
              "\n",
              "  cancel.remove();\n",
              "\n",
              "  // Disable the input element since further picks are not allowed.\n",
              "  inputElement.disabled = true;\n",
              "\n",
              "  if (!files) {\n",
              "    return {\n",
              "      response: {\n",
              "        action: 'complete',\n",
              "      }\n",
              "    };\n",
              "  }\n",
              "\n",
              "  for (const file of files) {\n",
              "    const li = document.createElement('li');\n",
              "    li.append(span(file.name, {fontWeight: 'bold'}));\n",
              "    li.append(span(\n",
              "        `(${file.type || 'n/a'}) - ${file.size} bytes, ` +\n",
              "        `last modified: ${\n",
              "            file.lastModifiedDate ? file.lastModifiedDate.toLocaleDateString() :\n",
              "                                    'n/a'} - `));\n",
              "    const percent = span('0% done');\n",
              "    li.appendChild(percent);\n",
              "\n",
              "    outputElement.appendChild(li);\n",
              "\n",
              "    const fileDataPromise = new Promise((resolve) => {\n",
              "      const reader = new FileReader();\n",
              "      reader.onload = (e) => {\n",
              "        resolve(e.target.result);\n",
              "      };\n",
              "      reader.readAsArrayBuffer(file);\n",
              "    });\n",
              "    // Wait for the data to be ready.\n",
              "    let fileData = yield {\n",
              "      promise: fileDataPromise,\n",
              "      response: {\n",
              "        action: 'continue',\n",
              "      }\n",
              "    };\n",
              "\n",
              "    // Use a chunked sending to avoid message size limits. See b/62115660.\n",
              "    let position = 0;\n",
              "    do {\n",
              "      const length = Math.min(fileData.byteLength - position, MAX_PAYLOAD_SIZE);\n",
              "      const chunk = new Uint8Array(fileData, position, length);\n",
              "      position += length;\n",
              "\n",
              "      const base64 = btoa(String.fromCharCode.apply(null, chunk));\n",
              "      yield {\n",
              "        response: {\n",
              "          action: 'append',\n",
              "          file: file.name,\n",
              "          data: base64,\n",
              "        },\n",
              "      };\n",
              "\n",
              "      let percentDone = fileData.byteLength === 0 ?\n",
              "          100 :\n",
              "          Math.round((position / fileData.byteLength) * 100);\n",
              "      percent.textContent = `${percentDone}% done`;\n",
              "\n",
              "    } while (position < fileData.byteLength);\n",
              "  }\n",
              "\n",
              "  // All done.\n",
              "  yield {\n",
              "    response: {\n",
              "      action: 'complete',\n",
              "    }\n",
              "  };\n",
              "}\n",
              "\n",
              "scope.google = scope.google || {};\n",
              "scope.google.colab = scope.google.colab || {};\n",
              "scope.google.colab._files = {\n",
              "  _uploadFiles,\n",
              "  _uploadFilesContinue,\n",
              "};\n",
              "})(self);\n",
              "</script> "
            ]
          },
          "metadata": {}
        },
        {
          "output_type": "stream",
          "name": "stdout",
          "text": [
            "Saving archive.zip to archive.zip\n",
            "Uploaded file: archive.zip\n"
          ]
        }
      ]
    },
    {
      "cell_type": "markdown",
      "source": [
        "Extract the uploaded file and Assuming the uploaded file is named 'archive.zip':"
      ],
      "metadata": {
        "id": "_ljtApXuLgCz"
      }
    },
    {
      "cell_type": "code",
      "execution_count": 7,
      "metadata": {
        "id": "NUzlU1e3ajHo"
      },
      "outputs": [],
      "source": [
        "zip_path = '/content/archive.zip'\n",
        "with zipfile.ZipFile(zip_path, 'r') as zip_ref:\n",
        "    zip_ref.extractall('/content')"
      ]
    },
    {
      "cell_type": "markdown",
      "source": [
        "Verify the extracted files:"
      ],
      "metadata": {
        "id": "chUx-M6RLvhA"
      }
    },
    {
      "cell_type": "code",
      "source": [
        "!ls /content/tiny-imagenet-200"
      ],
      "metadata": {
        "id": "e0seJOsRLyMF",
        "colab": {
          "base_uri": "https://localhost:8080/"
        },
        "outputId": "46b4a952-8e33-448e-c781-ca94b557d400"
      },
      "execution_count": 8,
      "outputs": [
        {
          "output_type": "stream",
          "name": "stdout",
          "text": [
            "test  train  val  wnids.txt  words.txt\n"
          ]
        }
      ]
    },
    {
      "cell_type": "markdown",
      "source": [
        "Let's make some manipulations for dataset"
      ],
      "metadata": {
        "id": "9cYq6UV4L_8R"
      }
    },
    {
      "cell_type": "code",
      "source": [
        "val_dir = '/content/tiny-imagenet-200/val'\n",
        "val_images_dir = os.path.join(val_dir, 'images')\n",
        "val_annotations_file = os.path.join(val_dir, 'val_annotations.txt')\n"
      ],
      "metadata": {
        "id": "ejLbTZg5V1s7"
      },
      "execution_count": 9,
      "outputs": []
    },
    {
      "cell_type": "markdown",
      "source": [
        "Create subdirectories for each class and then remove the now-empty images directory:"
      ],
      "metadata": {
        "id": "EcDznjxSMD33"
      }
    },
    {
      "cell_type": "code",
      "source": [
        "with open(val_annotations_file, 'r') as f:\n",
        "    for line in f.readlines():\n",
        "        parts = line.strip().split('\\t')\n",
        "        image_name = parts[0]\n",
        "        class_name = parts[1]\n",
        "\n",
        "        class_dir = os.path.join(val_dir, class_name)\n",
        "        if not os.path.exists(class_dir):\n",
        "            os.makedirs(class_dir)\n",
        "\n",
        "        source = os.path.join(val_images_dir, image_name)\n",
        "        destination = os.path.join(class_dir, image_name)\n",
        "        shutil.move(source, destination)\n",
        "\n",
        "shutil.rmtree(val_images_dir)"
      ],
      "metadata": {
        "id": "9ur8CNJxMHsT"
      },
      "execution_count": 10,
      "outputs": []
    },
    {
      "cell_type": "markdown",
      "source": [
        "Define paths:"
      ],
      "metadata": {
        "id": "m8ipZAN9MMmu"
      }
    },
    {
      "cell_type": "code",
      "source": [
        "train_dir = './tiny-imagenet-200/train'\n",
        "val_dir = './tiny-imagenet-200/val'"
      ],
      "metadata": {
        "id": "G7A7HGEfMSYN"
      },
      "execution_count": 11,
      "outputs": []
    },
    {
      "cell_type": "markdown",
      "source": [
        "Define image data generators with enhanced data augmentation:"
      ],
      "metadata": {
        "id": "ah7gOHIJMTHo"
      }
    },
    {
      "cell_type": "code",
      "execution_count": 12,
      "metadata": {
        "id": "Uvd_ctwJXSZR",
        "colab": {
          "base_uri": "https://localhost:8080/"
        },
        "outputId": "73f4ab68-fd7c-4616-c90b-fcdee5329555"
      },
      "outputs": [
        {
          "output_type": "stream",
          "name": "stdout",
          "text": [
            "Found 100000 images belonging to 200 classes.\n",
            "Found 10000 images belonging to 200 classes.\n"
          ]
        }
      ],
      "source": [
        "train_datagen = ImageDataGenerator(\n",
        "    rescale=1./255,\n",
        "    rotation_range=40,\n",
        "    width_shift_range=0.3,\n",
        "    height_shift_range=0.3,\n",
        "    shear_range=0.3,\n",
        "    zoom_range=0.3,\n",
        "    horizontal_flip=True,\n",
        "    fill_mode='nearest'\n",
        ")\n",
        "val_datagen = ImageDataGenerator(rescale=1./255)\n",
        "\n",
        "train_generator = train_datagen.flow_from_directory(\n",
        "    train_dir,\n",
        "    target_size=(64, 64),\n",
        "    batch_size=32,\n",
        "    class_mode='categorical'\n",
        ")\n",
        "\n",
        "val_generator = val_datagen.flow_from_directory(\n",
        "    val_dir,\n",
        "    target_size=(64, 64),\n",
        "    batch_size=32,\n",
        "    class_mode='categorical'\n",
        ")\n"
      ]
    },
    {
      "cell_type": "markdown",
      "source": [
        "Load the pre-trained EfficientNetB3 model:"
      ],
      "metadata": {
        "id": "py7CcYNrMZOf"
      }
    },
    {
      "cell_type": "code",
      "source": [
        "base_model = EfficientNetB3(weights='imagenet', include_top=False, input_shape=(64, 64, 3))"
      ],
      "metadata": {
        "id": "nicpepKrMbZE",
        "colab": {
          "base_uri": "https://localhost:8080/"
        },
        "outputId": "08f54a30-006f-4c97-c68f-d97a0445b437"
      },
      "execution_count": 13,
      "outputs": [
        {
          "output_type": "stream",
          "name": "stdout",
          "text": [
            "Downloading data from https://storage.googleapis.com/keras-applications/efficientnetb3_notop.h5\n",
            "\u001b[1m43941136/43941136\u001b[0m \u001b[32m━━━━━━━━━━━━━━━━━━━━\u001b[0m\u001b[37m\u001b[0m \u001b[1m3s\u001b[0m 0us/step\n"
          ]
        }
      ]
    },
    {
      "cell_type": "markdown",
      "source": [
        "Add custom layers on top:"
      ],
      "metadata": {
        "id": "pzLKm8AxMg30"
      }
    },
    {
      "cell_type": "code",
      "source": [
        "x = base_model.output\n",
        "x = GlobalAveragePooling2D()(x)\n",
        "x = Dense(1024, activation='relu', kernel_regularizer=tf.keras.regularizers.l2(0.01))(x)\n",
        "x = BatchNormalization()(x)\n",
        "x = Dropout(0.5)(x)\n",
        "predictions = Dense(200, activation='softmax')(x)\n",
        "\n",
        "model = Model(inputs=base_model.input, outputs=predictions)"
      ],
      "metadata": {
        "id": "311Zj-sOMnDb"
      },
      "execution_count": 14,
      "outputs": []
    },
    {
      "cell_type": "markdown",
      "source": [
        "Fine-tune the entire model by unfreeze the last 100 layers:"
      ],
      "metadata": {
        "id": "zaD3bRTkMnj8"
      }
    },
    {
      "cell_type": "code",
      "source": [
        "for layer in base_model.layers[-100:]:\n",
        "    layer.trainable = True"
      ],
      "metadata": {
        "id": "ZI-Svz-nMvVl"
      },
      "execution_count": 15,
      "outputs": []
    },
    {
      "cell_type": "markdown",
      "source": [
        "Compile the model:"
      ],
      "metadata": {
        "id": "Ena8yWCKMxYF"
      }
    },
    {
      "cell_type": "code",
      "source": [
        "model.compile(optimizer=Adam(learning_rate=0.0001), loss='categorical_crossentropy', metrics=['accuracy'])"
      ],
      "metadata": {
        "id": "Ahr9j6_JMzVR"
      },
      "execution_count": 16,
      "outputs": []
    },
    {
      "cell_type": "markdown",
      "source": [
        "Define a learning rate scheduler and callbacks:"
      ],
      "metadata": {
        "id": "UlmpLfptM2N8"
      }
    },
    {
      "cell_type": "code",
      "source": [
        "def scheduler(epoch, lr):\n",
        "    if epoch < 10:\n",
        "        return lr\n",
        "    else:\n",
        "        return float(lr * tf.math.exp(-0.1))\n",
        "\n",
        "lr_scheduler = LearningRateScheduler(scheduler)\n",
        "\n",
        "# Define callbacks\n",
        "early_stopping = EarlyStopping(monitor='val_loss', patience=7, restore_best_weights=True)\n",
        "reduce_lr = ReduceLROnPlateau(monitor='val_loss', factor=0.2, patience=4, min_lr=0.000001)"
      ],
      "metadata": {
        "id": "2oUKgJOxM5RR"
      },
      "execution_count": 17,
      "outputs": []
    },
    {
      "cell_type": "markdown",
      "source": [
        "Train the model:"
      ],
      "metadata": {
        "id": "SeqM21u6M9y4"
      }
    },
    {
      "cell_type": "code",
      "execution_count": 18,
      "metadata": {
        "id": "j7Np_5TyXoGE",
        "colab": {
          "base_uri": "https://localhost:8080/"
        },
        "outputId": "84b8e0a5-27ae-48b0-eb27-1b4f00f857a9"
      },
      "outputs": [
        {
          "metadata": {
            "tags": null
          },
          "name": "stdout",
          "output_type": "stream",
          "text": [
            "Epoch 1/30\n"
          ]
        },
        {
          "metadata": {
            "tags": null
          },
          "name": "stderr",
          "output_type": "stream",
          "text": [
            "/usr/local/lib/python3.10/dist-packages/keras/src/trainers/data_adapters/py_dataset_adapter.py:121: UserWarning: Your `PyDataset` class should call `super().__init__(**kwargs)` in its constructor. `**kwargs` can include `workers`, `use_multiprocessing`, `max_queue_size`. Do not pass these arguments to `fit()`, as they will be ignored.\n",
            "  self._warn_if_super_not_called()\n"
          ]
        },
        {
          "output_type": "stream",
          "name": "stdout",
          "text": [
            "\u001b[1m3125/3125\u001b[0m \u001b[32m━━━━━━━━━━━━━━━━━━━━\u001b[0m\u001b[37m\u001b[0m \u001b[1m381s\u001b[0m 85ms/step - accuracy: 0.0464 - loss: 15.4556 - val_accuracy: 0.3278 - val_loss: 7.1360 - learning_rate: 1.0000e-04\n",
            "Epoch 2/30\n",
            "\u001b[1m3125/3125\u001b[0m \u001b[32m━━━━━━━━━━━━━━━━━━━━\u001b[0m\u001b[37m\u001b[0m \u001b[1m256s\u001b[0m 82ms/step - accuracy: 0.2401 - loss: 6.7960 - val_accuracy: 0.4305 - val_loss: 3.9924 - learning_rate: 1.0000e-04\n",
            "Epoch 3/30\n",
            "\u001b[1m3125/3125\u001b[0m \u001b[32m━━━━━━━━━━━━━━━━━━━━\u001b[0m\u001b[37m\u001b[0m \u001b[1m256s\u001b[0m 80ms/step - accuracy: 0.3413 - loss: 4.1173 - val_accuracy: 0.4728 - val_loss: 3.0772 - learning_rate: 1.0000e-04\n",
            "Epoch 4/30\n",
            "\u001b[1m3125/3125\u001b[0m \u001b[32m━━━━━━━━━━━━━━━━━━━━\u001b[0m\u001b[37m\u001b[0m \u001b[1m256s\u001b[0m 82ms/step - accuracy: 0.3887 - loss: 3.2824 - val_accuracy: 0.4950 - val_loss: 2.7391 - learning_rate: 1.0000e-04\n",
            "Epoch 5/30\n",
            "\u001b[1m3125/3125\u001b[0m \u001b[32m━━━━━━━━━━━━━━━━━━━━\u001b[0m\u001b[37m\u001b[0m \u001b[1m256s\u001b[0m 80ms/step - accuracy: 0.4283 - loss: 2.9064 - val_accuracy: 0.5097 - val_loss: 2.6449 - learning_rate: 1.0000e-04\n",
            "Epoch 6/30\n",
            "\u001b[1m3125/3125\u001b[0m \u001b[32m━━━━━━━━━━━━━━━━━━━━\u001b[0m\u001b[37m\u001b[0m \u001b[1m262s\u001b[0m 84ms/step - accuracy: 0.4496 - loss: 2.7235 - val_accuracy: 0.5190 - val_loss: 2.5658 - learning_rate: 1.0000e-04\n",
            "Epoch 7/30\n",
            "\u001b[1m3125/3125\u001b[0m \u001b[32m━━━━━━━━━━━━━━━━━━━━\u001b[0m\u001b[37m\u001b[0m \u001b[1m254s\u001b[0m 81ms/step - accuracy: 0.4755 - loss: 2.5728 - val_accuracy: 0.5273 - val_loss: 2.5037 - learning_rate: 1.0000e-04\n",
            "Epoch 8/30\n",
            "\u001b[1m3125/3125\u001b[0m \u001b[32m━━━━━━━━━━━━━━━━━━━━\u001b[0m\u001b[37m\u001b[0m \u001b[1m257s\u001b[0m 82ms/step - accuracy: 0.4930 - loss: 2.4732 - val_accuracy: 0.5355 - val_loss: 2.4593 - learning_rate: 1.0000e-04\n",
            "Epoch 9/30\n",
            "\u001b[1m3125/3125\u001b[0m \u001b[32m━━━━━━━━━━━━━━━━━━━━\u001b[0m\u001b[37m\u001b[0m \u001b[1m257s\u001b[0m 80ms/step - accuracy: 0.5067 - loss: 2.3760 - val_accuracy: 0.5409 - val_loss: 2.4289 - learning_rate: 1.0000e-04\n",
            "Epoch 10/30\n",
            "\u001b[1m3125/3125\u001b[0m \u001b[32m━━━━━━━━━━━━━━━━━━━━\u001b[0m\u001b[37m\u001b[0m \u001b[1m268s\u001b[0m 82ms/step - accuracy: 0.5227 - loss: 2.2903 - val_accuracy: 0.5479 - val_loss: 2.3898 - learning_rate: 1.0000e-04\n",
            "Epoch 11/30\n",
            "\u001b[1m3125/3125\u001b[0m \u001b[32m━━━━━━━━━━━━━━━━━━━━\u001b[0m\u001b[37m\u001b[0m \u001b[1m252s\u001b[0m 79ms/step - accuracy: 0.5380 - loss: 2.1968 - val_accuracy: 0.5469 - val_loss: 2.3722 - learning_rate: 9.0484e-05\n",
            "Epoch 12/30\n",
            "\u001b[1m3125/3125\u001b[0m \u001b[32m━━━━━━━━━━━━━━━━━━━━\u001b[0m\u001b[37m\u001b[0m \u001b[1m248s\u001b[0m 79ms/step - accuracy: 0.5544 - loss: 2.1114 - val_accuracy: 0.5510 - val_loss: 2.3351 - learning_rate: 8.1873e-05\n",
            "Epoch 13/30\n",
            "\u001b[1m3125/3125\u001b[0m \u001b[32m━━━━━━━━━━━━━━━━━━━━\u001b[0m\u001b[37m\u001b[0m \u001b[1m266s\u001b[0m 80ms/step - accuracy: 0.5698 - loss: 1.9999 - val_accuracy: 0.5641 - val_loss: 2.2378 - learning_rate: 7.4082e-05\n",
            "Epoch 14/30\n",
            "\u001b[1m3125/3125\u001b[0m \u001b[32m━━━━━━━━━━━━━━━━━━━━\u001b[0m\u001b[37m\u001b[0m \u001b[1m245s\u001b[0m 78ms/step - accuracy: 0.5805 - loss: 1.9263 - val_accuracy: 0.5574 - val_loss: 2.2627 - learning_rate: 6.7032e-05\n",
            "Epoch 15/30\n",
            "\u001b[1m3125/3125\u001b[0m \u001b[32m━━━━━━━━━━━━━━━━━━━━\u001b[0m\u001b[37m\u001b[0m \u001b[1m248s\u001b[0m 79ms/step - accuracy: 0.5919 - loss: 1.8505 - val_accuracy: 0.5694 - val_loss: 2.1492 - learning_rate: 6.0653e-05\n",
            "Epoch 16/30\n",
            "\u001b[1m3125/3125\u001b[0m \u001b[32m━━━━━━━━━━━━━━━━━━━━\u001b[0m\u001b[37m\u001b[0m \u001b[1m260s\u001b[0m 79ms/step - accuracy: 0.6045 - loss: 1.7854 - val_accuracy: 0.5694 - val_loss: 2.1805 - learning_rate: 5.4881e-05\n",
            "Epoch 17/30\n",
            "\u001b[1m3125/3125\u001b[0m \u001b[32m━━━━━━━━━━━━━━━━━━━━\u001b[0m\u001b[37m\u001b[0m \u001b[1m244s\u001b[0m 78ms/step - accuracy: 0.6162 - loss: 1.7158 - val_accuracy: 0.5670 - val_loss: 2.1845 - learning_rate: 4.9659e-05\n",
            "Epoch 18/30\n",
            "\u001b[1m3125/3125\u001b[0m \u001b[32m━━━━━━━━━━━━━━━━━━━━\u001b[0m\u001b[37m\u001b[0m \u001b[1m246s\u001b[0m 79ms/step - accuracy: 0.6234 - loss: 1.6642 - val_accuracy: 0.5705 - val_loss: 2.1345 - learning_rate: 4.4933e-05\n",
            "Epoch 19/30\n",
            "\u001b[1m3125/3125\u001b[0m \u001b[32m━━━━━━━━━━━━━━━━━━━━\u001b[0m\u001b[37m\u001b[0m \u001b[1m260s\u001b[0m 78ms/step - accuracy: 0.6333 - loss: 1.6133 - val_accuracy: 0.5744 - val_loss: 2.0994 - learning_rate: 4.0657e-05\n",
            "Epoch 20/30\n",
            "\u001b[1m3125/3125\u001b[0m \u001b[32m━━━━━━━━━━━━━━━━━━━━\u001b[0m\u001b[37m\u001b[0m \u001b[1m241s\u001b[0m 77ms/step - accuracy: 0.6401 - loss: 1.5709 - val_accuracy: 0.5807 - val_loss: 2.0617 - learning_rate: 3.6788e-05\n",
            "Epoch 21/30\n",
            "\u001b[1m3125/3125\u001b[0m \u001b[32m━━━━━━━━━━━━━━━━━━━━\u001b[0m\u001b[37m\u001b[0m \u001b[1m243s\u001b[0m 78ms/step - accuracy: 0.6536 - loss: 1.5124 - val_accuracy: 0.5786 - val_loss: 2.0850 - learning_rate: 3.3287e-05\n",
            "Epoch 22/30\n",
            "\u001b[1m3125/3125\u001b[0m \u001b[32m━━━━━━━━━━━━━━━━━━━━\u001b[0m\u001b[37m\u001b[0m \u001b[1m264s\u001b[0m 78ms/step - accuracy: 0.6551 - loss: 1.4923 - val_accuracy: 0.5753 - val_loss: 2.1198 - learning_rate: 3.0119e-05\n",
            "Epoch 23/30\n",
            "\u001b[1m3125/3125\u001b[0m \u001b[32m━━━━━━━━━━━━━━━━━━━━\u001b[0m\u001b[37m\u001b[0m \u001b[1m242s\u001b[0m 77ms/step - accuracy: 0.6631 - loss: 1.4526 - val_accuracy: 0.5764 - val_loss: 2.0768 - learning_rate: 2.7253e-05\n",
            "Epoch 24/30\n",
            "\u001b[1m3125/3125\u001b[0m \u001b[32m━━━━━━━━━━━━━━━━━━━━\u001b[0m\u001b[37m\u001b[0m \u001b[1m261s\u001b[0m 77ms/step - accuracy: 0.6647 - loss: 1.4193 - val_accuracy: 0.5773 - val_loss: 2.0708 - learning_rate: 4.9319e-06\n",
            "Epoch 25/30\n",
            "\u001b[1m3125/3125\u001b[0m \u001b[32m━━━━━━━━━━━━━━━━━━━━\u001b[0m\u001b[37m\u001b[0m \u001b[1m251s\u001b[0m 80ms/step - accuracy: 0.6741 - loss: 1.3786 - val_accuracy: 0.5797 - val_loss: 2.0580 - learning_rate: 4.4626e-06\n",
            "Epoch 26/30\n",
            "\u001b[1m3125/3125\u001b[0m \u001b[32m━━━━━━━━━━━━━━━━━━━━\u001b[0m\u001b[37m\u001b[0m \u001b[1m256s\u001b[0m 78ms/step - accuracy: 0.6855 - loss: 1.3315 - val_accuracy: 0.5813 - val_loss: 2.0490 - learning_rate: 4.0379e-06\n",
            "Epoch 27/30\n",
            "\u001b[1m3125/3125\u001b[0m \u001b[32m━━━━━━━━━━━━━━━━━━━━\u001b[0m\u001b[37m\u001b[0m \u001b[1m261s\u001b[0m 78ms/step - accuracy: 0.6882 - loss: 1.3212 - val_accuracy: 0.5796 - val_loss: 2.0537 - learning_rate: 3.6537e-06\n",
            "Epoch 28/30\n",
            "\u001b[1m3125/3125\u001b[0m \u001b[32m━━━━━━━━━━━━━━━━━━━━\u001b[0m\u001b[37m\u001b[0m \u001b[1m260s\u001b[0m 77ms/step - accuracy: 0.6875 - loss: 1.3088 - val_accuracy: 0.5803 - val_loss: 2.0521 - learning_rate: 3.3060e-06\n",
            "Epoch 29/30\n",
            "\u001b[1m3125/3125\u001b[0m \u001b[32m━━━━━━━━━━━━━━━━━━━━\u001b[0m\u001b[37m\u001b[0m \u001b[1m263s\u001b[0m 78ms/step - accuracy: 0.6899 - loss: 1.3022 - val_accuracy: 0.5779 - val_loss: 2.0608 - learning_rate: 2.9914e-06\n",
            "Epoch 30/30\n",
            "\u001b[1m3125/3125\u001b[0m \u001b[32m━━━━━━━━━━━━━━━━━━━━\u001b[0m\u001b[37m\u001b[0m \u001b[1m242s\u001b[0m 77ms/step - accuracy: 0.6907 - loss: 1.2924 - val_accuracy: 0.5793 - val_loss: 2.0563 - learning_rate: 1.0000e-06\n"
          ]
        }
      ],
      "source": [
        "history = model.fit(\n",
        "    train_generator,\n",
        "    epochs=30,\n",
        "    validation_data=val_generator,\n",
        "    callbacks=[early_stopping, reduce_lr, lr_scheduler]\n",
        ")"
      ]
    },
    {
      "cell_type": "markdown",
      "source": [
        "Let's evaluate the model:"
      ],
      "metadata": {
        "id": "5KGI7a7XNBm7"
      }
    },
    {
      "cell_type": "code",
      "source": [
        "val_loss, val_accuracy = model.evaluate(val_generator)\n",
        "print(f'Validation Accuracy: {val_accuracy}')"
      ],
      "metadata": {
        "id": "TnCZp18Hn69J",
        "colab": {
          "base_uri": "https://localhost:8080/"
        },
        "outputId": "c8399274-3e66-48e6-eb9b-2cab020e15f6"
      },
      "execution_count": 19,
      "outputs": [
        {
          "output_type": "stream",
          "name": "stdout",
          "text": [
            "\u001b[1m313/313\u001b[0m \u001b[32m━━━━━━━━━━━━━━━━━━━━\u001b[0m\u001b[37m\u001b[0m \u001b[1m13s\u001b[0m 41ms/step - accuracy: 0.5796 - loss: 2.0800\n",
            "Validation Accuracy: 0.5813000202178955\n"
          ]
        }
      ]
    },
    {
      "cell_type": "markdown",
      "source": [
        "**Let's visualize prediction:**"
      ],
      "metadata": {
        "id": "Oxb-ef1XNIeM"
      }
    },
    {
      "cell_type": "code",
      "source": [
        "import numpy as np\n",
        "import matplotlib.pyplot as plt\n",
        "from tensorflow.keras.preprocessing.image import load_img, img_to_array\n",
        "from tensorflow.keras.applications.resnet50 import preprocess_input\n",
        "from tensorflow.keras.models import load_model"
      ],
      "metadata": {
        "id": "JVmBg5DINMSM"
      },
      "execution_count": 25,
      "outputs": []
    },
    {
      "cell_type": "code",
      "source": [
        "# Create a mapping from synset IDs to human-readable labels\n",
        "def load_class_labels(filepath):\n",
        "    class_labels = {}\n",
        "    with open(filepath, 'r') as f:\n",
        "        for line in f.readlines():\n",
        "            parts = line.strip().split('\\t')\n",
        "            synset_id = parts[0]\n",
        "            label = parts[1]\n",
        "            class_labels[synset_id] = label\n",
        "    return class_labels\n",
        "\n",
        "class_labels = load_class_labels('/content/tiny-imagenet-200/words.txt')\n"
      ],
      "metadata": {
        "id": "0vtXbzpP9DoB"
      },
      "execution_count": 28,
      "outputs": []
    },
    {
      "cell_type": "markdown",
      "source": [
        "Define a function to load, preprocess, and predict an image:"
      ],
      "metadata": {
        "id": "jixtCpPkNOWg"
      }
    },
    {
      "cell_type": "code",
      "source": [
        "def predict_and_visualize(image_path, model, class_indices, class_labels):\n",
        "    # Load and preprocess the image\n",
        "    img = load_img(image_path, target_size=(64, 64))\n",
        "    img_array = img_to_array(img)\n",
        "    img_array = np.expand_dims(img_array, axis=0)\n",
        "    img_array = preprocess_input(img_array)\n",
        "\n",
        "    # Make predictions\n",
        "    predictions = model.predict(img_array)\n",
        "    predicted_class_index = np.argmax(predictions, axis=1)[0]\n",
        "\n",
        "    # Decode the prediction\n",
        "    class_labels_reverse = {v: k for k, v in class_indices.items()}\n",
        "    predicted_synset_id = class_labels_reverse[predicted_class_index]\n",
        "    predicted_class_label = class_labels[predicted_synset_id]\n",
        "\n",
        "    # Print prediction probabilities for debugging\n",
        "    print(f\"Predictions: {predictions}\")\n",
        "    print(f\"Predicted class index: {predicted_class_index}\")\n",
        "    print(f\"Predicted synset ID: {predicted_synset_id}\")\n",
        "    print(f\"Predicted class label: {predicted_class_label}\")\n",
        "\n",
        "    # Visualize the result\n",
        "    plt.imshow(img)\n",
        "    plt.title(f'Predicted: {predicted_class_label} (Class {predicted_class_index})')\n",
        "    plt.axis('off')\n",
        "    plt.show()"
      ],
      "metadata": {
        "id": "fMIPDG6e9R5E"
      },
      "execution_count": 29,
      "outputs": []
    },
    {
      "cell_type": "markdown",
      "source": [
        "Assume 'class_indices' is a dictionary mapping class names to their index:"
      ],
      "metadata": {
        "id": "2GipmwXYNSuK"
      }
    },
    {
      "cell_type": "code",
      "source": [
        "class_indices = train_generator.class_indices"
      ],
      "metadata": {
        "id": "QIYwRQCuNTi_"
      },
      "execution_count": 30,
      "outputs": []
    },
    {
      "cell_type": "markdown",
      "source": [
        "Test the function with an example image:"
      ],
      "metadata": {
        "id": "oZnwFgylNWiH"
      }
    },
    {
      "cell_type": "code",
      "source": [
        "predict_and_visualize('/content/1.png', model, class_indices, class_labels)"
      ],
      "metadata": {
        "id": "eVdoA48TNaI1",
        "colab": {
          "base_uri": "https://localhost:8080/",
          "height": 660
        },
        "outputId": "f32d231b-fe85-40b4-8e8d-fabe32b994a7"
      },
      "execution_count": 37,
      "outputs": [
        {
          "output_type": "stream",
          "name": "stdout",
          "text": [
            "\u001b[1m1/1\u001b[0m \u001b[32m━━━━━━━━━━━━━━━━━━━━\u001b[0m\u001b[37m\u001b[0m \u001b[1m0s\u001b[0m 73ms/step\n",
            "Predictions: [[0. 0. 0. 0. 0. 0. 0. 0. 0. 0. 0. 0. 0. 0. 0. 0. 0. 0. 0. 0. 0. 0. 0. 0.\n",
            "  0. 0. 0. 0. 0. 0. 0. 0. 0. 0. 0. 1. 0. 0. 0. 0. 0. 0. 0. 0. 0. 0. 0. 0.\n",
            "  0. 0. 0. 0. 0. 0. 0. 0. 0. 0. 0. 0. 0. 0. 0. 0. 0. 0. 0. 0. 0. 0. 0. 0.\n",
            "  0. 0. 0. 0. 0. 0. 0. 0. 0. 0. 0. 0. 0. 0. 0. 0. 0. 0. 0. 0. 0. 0. 0. 0.\n",
            "  0. 0. 0. 0. 0. 0. 0. 0. 0. 0. 0. 0. 0. 0. 0. 0. 0. 0. 0. 0. 0. 0. 0. 0.\n",
            "  0. 0. 0. 0. 0. 0. 0. 0. 0. 0. 0. 0. 0. 0. 0. 0. 0. 0. 0. 0. 0. 0. 0. 0.\n",
            "  0. 0. 0. 0. 0. 0. 0. 0. 0. 0. 0. 0. 0. 0. 0. 0. 0. 0. 0. 0. 0. 0. 0. 0.\n",
            "  0. 0. 0. 0. 0. 0. 0. 0. 0. 0. 0. 0. 0. 0. 0. 0. 0. 0. 0. 0. 0. 0. 0. 0.\n",
            "  0. 0. 0. 0. 0. 0. 0. 0.]]\n",
            "Predicted class index: 35\n",
            "Predicted synset ID: n02132136\n",
            "Predicted class label: brown bear, bruin, Ursus arctos\n"
          ]
        },
        {
          "output_type": "display_data",
          "data": {
            "text/plain": [
              "<Figure size 640x480 with 1 Axes>"
            ],
            "image/png": "[encoded data removed]"
          },
          "metadata": {}
        }
      ]
    }
  ],
  "metadata": {
    "colab": {
      "provenance": [],
      "gpuType": "T4",
      "authorship_tag": "ABX9TyPgba4yW05FpYe+HCxTmbYp",
      "include_colab_link": true
    },
    "kernelspec": {
      "display_name": "Python 3",
      "name": "python3"
    },
    "language_info": {
      "name": "python"
    },
    "accelerator": "GPU"
  },
  "nbformat": 4,
  "nbformat_minor": 0
}