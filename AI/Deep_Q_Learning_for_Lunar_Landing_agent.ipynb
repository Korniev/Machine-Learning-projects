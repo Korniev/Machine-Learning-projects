{
  "cells": [
    {
      "cell_type": "markdown",
      "metadata": {
        "id": "view-in-github",
        "colab_type": "text"
      },
      "source": [
        "<a href=\"https://colab.research.google.com/github/Korniev/Machine-Learning-projects/blob/main/AI/Deep_Q_Learning_for_Lunar_Landing_agent.ipynb\" target=\"_parent\"><img src=\"https://colab.research.google.com/assets/colab-badge.svg\" alt=\"Open In Colab\"/></a>"
      ]
    },
    {
      "cell_type": "markdown",
      "metadata": {
        "id": "LbZcI9ZXHl3a"
      },
      "source": [
        "# Deep Q-Learning for Lunar Landing"
      ]
    },
    {
      "cell_type": "markdown",
      "metadata": {
        "id": "E8yPRjteXgPb"
      },
      "source": [
        "## Part 0 - Installing the required packages and importing the libraries"
      ]
    },
    {
      "cell_type": "markdown",
      "metadata": {
        "id": "slEm5teGWjWU"
      },
      "source": [
        "### Installing Gymnasium"
      ]
    },
    {
      "cell_type": "code",
      "execution_count": 1,
      "metadata": {
        "id": "dbnq3XpoKa_7",
        "colab": {
          "base_uri": "https://localhost:8080/"
        },
        "outputId": "19406086-3059-4f98-feec-711b0d9c96af"
      },
      "outputs": [
        {
          "output_type": "stream",
          "name": "stdout",
          "text": [
            "Collecting gymnasium\n",
            "  Downloading gymnasium-1.0.0-py3-none-any.whl.metadata (9.5 kB)\n",
            "Requirement already satisfied: numpy>=1.21.0 in /usr/local/lib/python3.10/dist-packages (from gymnasium) (1.26.4)\n",
            "Requirement already satisfied: cloudpickle>=1.2.0 in /usr/local/lib/python3.10/dist-packages (from gymnasium) (2.2.1)\n",
            "Requirement already satisfied: typing-extensions>=4.3.0 in /usr/local/lib/python3.10/dist-packages (from gymnasium) (4.12.2)\n",
            "Collecting farama-notifications>=0.0.1 (from gymnasium)\n",
            "  Downloading Farama_Notifications-0.0.4-py3-none-any.whl.metadata (558 bytes)\n",
            "Downloading gymnasium-1.0.0-py3-none-any.whl (958 kB)\n",
            "\u001b[?25l   \u001b[90m━━━━━━━━━━━━━━━━━━━━━━━━━━━━━━━━━━━━━━━━\u001b[0m \u001b[32m0.0/958.1 kB\u001b[0m \u001b[31m?\u001b[0m eta \u001b[36m-:--:--\u001b[0m\r\u001b[2K   \u001b[91m━━━━━━━━━━━━━━━━━━━━━━━━━━━━━━━━━━━━━━━\u001b[0m\u001b[91m╸\u001b[0m \u001b[32m952.3/958.1 kB\u001b[0m \u001b[31m39.0 MB/s\u001b[0m eta \u001b[36m0:00:01\u001b[0m\r\u001b[2K   \u001b[90m━━━━━━━━━━━━━━━━━━━━━━━━━━━━━━━━━━━━━━━━\u001b[0m \u001b[32m958.1/958.1 kB\u001b[0m \u001b[31m21.9 MB/s\u001b[0m eta \u001b[36m0:00:00\u001b[0m\n",
            "\u001b[?25hDownloading Farama_Notifications-0.0.4-py3-none-any.whl (2.5 kB)\n",
            "Installing collected packages: farama-notifications, gymnasium\n",
            "Successfully installed farama-notifications-0.0.4 gymnasium-1.0.0\n",
            "Requirement already satisfied: gymnasium[accept-rom-license,atari] in /usr/local/lib/python3.10/dist-packages (1.0.0)\n",
            "\u001b[33mWARNING: gymnasium 1.0.0 does not provide the extra 'accept-rom-license'\u001b[0m\u001b[33m\n",
            "\u001b[0mRequirement already satisfied: numpy>=1.21.0 in /usr/local/lib/python3.10/dist-packages (from gymnasium[accept-rom-license,atari]) (1.26.4)\n",
            "Requirement already satisfied: cloudpickle>=1.2.0 in /usr/local/lib/python3.10/dist-packages (from gymnasium[accept-rom-license,atari]) (2.2.1)\n",
            "Requirement already satisfied: typing-extensions>=4.3.0 in /usr/local/lib/python3.10/dist-packages (from gymnasium[accept-rom-license,atari]) (4.12.2)\n",
            "Requirement already satisfied: farama-notifications>=0.0.1 in /usr/local/lib/python3.10/dist-packages (from gymnasium[accept-rom-license,atari]) (0.0.4)\n",
            "Collecting ale-py>=0.9 (from gymnasium[accept-rom-license,atari])\n",
            "  Downloading ale_py-0.10.1-cp310-cp310-manylinux_2_17_x86_64.manylinux2014_x86_64.whl.metadata (7.6 kB)\n",
            "Downloading ale_py-0.10.1-cp310-cp310-manylinux_2_17_x86_64.manylinux2014_x86_64.whl (2.1 MB)\n",
            "\u001b[2K   \u001b[90m━━━━━━━━━━━━━━━━━━━━━━━━━━━━━━━━━━━━━━━━\u001b[0m \u001b[32m2.1/2.1 MB\u001b[0m \u001b[31m34.0 MB/s\u001b[0m eta \u001b[36m0:00:00\u001b[0m\n",
            "\u001b[?25hInstalling collected packages: ale-py\n",
            "Successfully installed ale-py-0.10.1\n",
            "Reading package lists... Done\n",
            "Building dependency tree... Done\n",
            "Reading state information... Done\n",
            "The following additional packages will be installed:\n",
            "  swig4.0\n",
            "Suggested packages:\n",
            "  swig-doc swig-examples swig4.0-examples swig4.0-doc\n",
            "The following NEW packages will be installed:\n",
            "  swig swig4.0\n",
            "0 upgraded, 2 newly installed, 0 to remove and 49 not upgraded.\n",
            "Need to get 1,116 kB of archives.\n",
            "After this operation, 5,542 kB of additional disk space will be used.\n",
            "Get:1 http://archive.ubuntu.com/ubuntu jammy/universe amd64 swig4.0 amd64 4.0.2-1ubuntu1 [1,110 kB]\n",
            "Get:2 http://archive.ubuntu.com/ubuntu jammy/universe amd64 swig all 4.0.2-1ubuntu1 [5,632 B]\n",
            "Fetched 1,116 kB in 1s (1,314 kB/s)\n",
            "Selecting previously unselected package swig4.0.\n",
            "(Reading database ... 123621 files and directories currently installed.)\n",
            "Preparing to unpack .../swig4.0_4.0.2-1ubuntu1_amd64.deb ...\n",
            "Unpacking swig4.0 (4.0.2-1ubuntu1) ...\n",
            "Selecting previously unselected package swig.\n",
            "Preparing to unpack .../swig_4.0.2-1ubuntu1_all.deb ...\n",
            "Unpacking swig (4.0.2-1ubuntu1) ...\n",
            "Setting up swig4.0 (4.0.2-1ubuntu1) ...\n",
            "Setting up swig (4.0.2-1ubuntu1) ...\n",
            "Processing triggers for man-db (2.10.2-1) ...\n",
            "Requirement already satisfied: gymnasium[box2d] in /usr/local/lib/python3.10/dist-packages (1.0.0)\n",
            "Requirement already satisfied: numpy>=1.21.0 in /usr/local/lib/python3.10/dist-packages (from gymnasium[box2d]) (1.26.4)\n",
            "Requirement already satisfied: cloudpickle>=1.2.0 in /usr/local/lib/python3.10/dist-packages (from gymnasium[box2d]) (2.2.1)\n",
            "Requirement already satisfied: typing-extensions>=4.3.0 in /usr/local/lib/python3.10/dist-packages (from gymnasium[box2d]) (4.12.2)\n",
            "Requirement already satisfied: farama-notifications>=0.0.1 in /usr/local/lib/python3.10/dist-packages (from gymnasium[box2d]) (0.0.4)\n",
            "Collecting box2d-py==2.3.5 (from gymnasium[box2d])\n",
            "  Downloading box2d-py-2.3.5.tar.gz (374 kB)\n",
            "\u001b[2K     \u001b[90m━━━━━━━━━━━━━━━━━━━━━━━━━━━━━━━━━━━━━━━━\u001b[0m \u001b[32m374.4/374.4 kB\u001b[0m \u001b[31m11.3 MB/s\u001b[0m eta \u001b[36m0:00:00\u001b[0m\n",
            "\u001b[?25h  Preparing metadata (setup.py) ... \u001b[?25l\u001b[?25hdone\n",
            "Requirement already satisfied: pygame>=2.1.3 in /usr/local/lib/python3.10/dist-packages (from gymnasium[box2d]) (2.6.1)\n",
            "Collecting swig==4.* (from gymnasium[box2d])\n",
            "  Downloading swig-4.2.1-py2.py3-none-manylinux_2_5_x86_64.manylinux1_x86_64.whl.metadata (3.6 kB)\n",
            "Downloading swig-4.2.1-py2.py3-none-manylinux_2_5_x86_64.manylinux1_x86_64.whl (1.9 MB)\n",
            "\u001b[2K   \u001b[90m━━━━━━━━━━━━━━━━━━━━━━━━━━━━━━━━━━━━━━━━\u001b[0m \u001b[32m1.9/1.9 MB\u001b[0m \u001b[31m58.6 MB/s\u001b[0m eta \u001b[36m0:00:00\u001b[0m\n",
            "\u001b[?25hBuilding wheels for collected packages: box2d-py\n",
            "  Building wheel for box2d-py (setup.py) ... \u001b[?25l\u001b[?25hdone\n",
            "  Created wheel for box2d-py: filename=box2d_py-2.3.5-cp310-cp310-linux_x86_64.whl size=2349114 sha256=03b02cfc6c180d2bf44683abecc22c9eb2cf6df8a46c61329e09bbd9d1638cc4\n",
            "  Stored in directory: /root/.cache/pip/wheels/db/8f/6a/eaaadf056fba10a98d986f6dce954e6201ba3126926fc5ad9e\n",
            "Successfully built box2d-py\n",
            "Installing collected packages: swig, box2d-py\n",
            "Successfully installed box2d-py-2.3.5 swig-4.2.1\n"
          ]
        }
      ],
      "source": [
        "!pip install gymnasium\n",
        "!pip install \"gymnasium[atari, accept-rom-license]\"\n",
        "!apt-get install -y swig\n",
        "!pip install gymnasium[box2d]"
      ]
    },
    {
      "cell_type": "markdown",
      "metadata": {
        "id": "brqiMN3UW9T9"
      },
      "source": [
        "### Importing the libraries"
      ]
    },
    {
      "cell_type": "code",
      "execution_count": 2,
      "metadata": {
        "id": "mZaKXP_aMl9O"
      },
      "outputs": [],
      "source": [
        "import os\n",
        "import random\n",
        "import numpy as np\n",
        "import torch\n",
        "import torch.nn as nn\n",
        "import torch.optim as optim\n",
        "import torch.nn.functional as F\n",
        "import torch.autograd as autograd\n",
        "from torch.autograd import Variable\n",
        "from collections import deque, namedtuple"
      ]
    },
    {
      "cell_type": "markdown",
      "metadata": {
        "id": "EzlDKXvkXzGI"
      },
      "source": [
        "## Part 1 - Building the AI"
      ]
    },
    {
      "cell_type": "markdown",
      "metadata": {
        "id": "UtG6Zc83YYy3"
      },
      "source": [
        "### Creating the architecture of the Neural Network"
      ]
    },
    {
      "cell_type": "code",
      "source": [
        "class Network(nn.Module):\n",
        "\n",
        "  def __init__(self, state_size, action_size, seed=42):\n",
        "      super(Network, self).__init__()\n",
        "      self.seed = torch.manual_seed(seed)\n",
        "      self.fc1 = nn.Linear(state_size, 64)\n",
        "      self.fc2 = nn.Linear(64, 64)\n",
        "      self.fc3 = nn.Linear(64, action_size)\n",
        "\n",
        "  def forward(self, state):\n",
        "      x = self.fc1(state)\n",
        "      x = F.relu(x)\n",
        "\n",
        "      x = self.fc2(x)\n",
        "      x = F.relu(x)\n",
        "\n",
        "      return self.fc3(x)"
      ],
      "metadata": {
        "id": "z-zZY1MjFkTD"
      },
      "execution_count": 3,
      "outputs": []
    },
    {
      "cell_type": "markdown",
      "metadata": {
        "id": "UxVrBnFWZKb1"
      },
      "source": [
        "## Part 2 - Training the AI"
      ]
    },
    {
      "cell_type": "markdown",
      "metadata": {
        "id": "T364fz9qZb2j"
      },
      "source": [
        "### Setting up the environment"
      ]
    },
    {
      "cell_type": "code",
      "source": [
        "import gymnasium as gym\n",
        "env = gym.make('LunarLander-v3')\n",
        "state_shape = env.observation_space.shape\n",
        "state_size = env.observation_space.shape[0]\n",
        "number_actions = env.action_space.n\n",
        "print('State shape: ', state_shape)\n",
        "print('State size: ', state_size)\n",
        "print('Number of actions: ', number_actions)"
      ],
      "metadata": {
        "colab": {
          "base_uri": "https://localhost:8080/"
        },
        "id": "uMaZ8Xt_j2yz",
        "outputId": "ba47ac19-a210-4b04-a44f-77446285aa34"
      },
      "execution_count": 4,
      "outputs": [
        {
          "output_type": "stream",
          "name": "stdout",
          "text": [
            "State shape:  (8,)\n",
            "State size:  8\n",
            "Number of actions:  4\n"
          ]
        }
      ]
    },
    {
      "cell_type": "markdown",
      "metadata": {
        "id": "c_dZmOIvZgj-"
      },
      "source": [
        "### Initializing the hyperparameters"
      ]
    },
    {
      "cell_type": "code",
      "source": [
        "learning_rate = 5e-4\n",
        "minibatch_size = 100\n",
        "discount_factor = 0.99\n",
        "replay_buffer_size = int(1e5)\n",
        "interpolation_parameter = 1e-3"
      ],
      "metadata": {
        "id": "YGiv5anspPHf"
      },
      "execution_count": 5,
      "outputs": []
    },
    {
      "cell_type": "markdown",
      "metadata": {
        "id": "8hD_Vs-bYnip"
      },
      "source": [
        "### Implementing Experience Replay"
      ]
    },
    {
      "cell_type": "code",
      "source": [
        "class ReplayMemory(object):\n",
        "\n",
        "  def __init__(self, capacity):\n",
        "    self.device = torch.device(\"cuda:0\" if torch.cuda.is_available() else \"cpu\")\n",
        "    self.capacity = capacity\n",
        "    self.memory = []\n",
        "\n",
        "  def push(self, event):\n",
        "    self.memory.append(event)\n",
        "    if len(self.memory) > self.capacity:\n",
        "      del self.memory[0]\n",
        "\n",
        "  def sample(self, batch_size):\n",
        "    experiences = random.sample(self.memory, k=batch_size)\n",
        "    states = torch.from_numpy(np.vstack([e[0] for e in experiences if e is not None])).float().to(self.device)\n",
        "    actions = torch.from_numpy(np.vstack([e[1] for e in experiences if e is not None])).long().to(self.device)\n",
        "    rewards = torch.from_numpy(np.vstack([e[2] for e in experiences if e is not None])).float().to(self.device)\n",
        "    next_states = torch.from_numpy(np.vstack([e[3] for e in experiences if e is not None])).float().to(self.device)\n",
        "    dones = torch.from_numpy(np.vstack([e[4] for e in experiences if e is not None]).astype(np.uint8)).float().to(self.device)\n",
        "    return states, next_states, actions, rewards, dones"
      ],
      "metadata": {
        "id": "IS-gaoAQqYJ9"
      },
      "execution_count": 6,
      "outputs": []
    },
    {
      "cell_type": "markdown",
      "metadata": {
        "id": "JmEkbFbUY6Jt"
      },
      "source": [
        "### Implementing the DQN class"
      ]
    },
    {
      "cell_type": "code",
      "source": [
        "class Agent():\n",
        "\n",
        "  def __init__(self, state_size, action_size):\n",
        "    self.device = torch.device(\"cuda:0\" if torch.cuda.is_available() else \"cpu\")\n",
        "    self.state_size = state_size\n",
        "    self.action_size = action_size\n",
        "    self.local_qnetwork = Network(state_size, action_size).to(self.device)\n",
        "    self.target_qnetwork = Network(state_size, action_size).to(self.device)\n",
        "    self.optimizer = optim.Adam(self.local_qnetwork.parameters(), lr = learning_rate)\n",
        "    self.memory = ReplayMemory(replay_buffer_size)\n",
        "    self.t_step = 0\n",
        "\n",
        "  def step(self, state, action, reward, next_state, done):\n",
        "    self.memory.push((state, action, reward, next_state, done))\n",
        "    self.t_step = (self.t_step + 1) % 4\n",
        "    if self.t_step == 0:\n",
        "      if len(self.memory.memory) > minibatch_size:\n",
        "        experiences = self.memory.sample(100)\n",
        "        self.learn(experiences, discount_factor)\n",
        "\n",
        "  def act(self, state, epsilon=0.):\n",
        "    state = torch.from_numpy(state).float().unsqueeze(0).to(self.device)\n",
        "    self.local_qnetwork.eval()\n",
        "    with torch.no_grad():\n",
        "      action_values = self.local_qnetwork(state)\n",
        "    self.local_qnetwork.train()\n",
        "    if random.random() > epsilon:\n",
        "      return np.argmax(action_values.cpu().data.numpy())\n",
        "    else:\n",
        "      return random.choice(np.arange(self.action_size))\n",
        "\n",
        "  def learn(self, experiences, discount_factor):\n",
        "    states, next_states, actions, rewards, dones = experiences\n",
        "    next_q_targets = self.target_qnetwork(next_states).detach().max(1)[0].unsqueeze(1)\n",
        "    q_targets = rewards + (discount_factor * next_q_targets * (1 - dones))\n",
        "    q_expected = self.local_qnetwork(states).gather(1, actions)\n",
        "    loss = F.mse_loss(q_expected, q_targets)\n",
        "    self.optimizer.zero_grad()\n",
        "    loss.backward()\n",
        "    self.optimizer.step()\n",
        "    self.soft_update(self.local_qnetwork, self.target_qnetwork, interpolation_parameter)\n",
        "\n",
        "  def soft_update(self, local_model, target_model, interpolation_parameter):\n",
        "    for target_param, local_param in zip(target_model.parameters(), local_model.parameters()):\n",
        "      target_param.data.copy_(interpolation_parameter * local_param.data + (1.0 - interpolation_parameter) * target_param.data)"
      ],
      "metadata": {
        "id": "QMzIlVlBt9Eb"
      },
      "execution_count": 7,
      "outputs": []
    },
    {
      "cell_type": "markdown",
      "metadata": {
        "id": "o1tZElccZmf6"
      },
      "source": [
        "### Initializing the DQN agent"
      ]
    },
    {
      "cell_type": "code",
      "source": [
        "agent = Agent(state_size, number_actions)"
      ],
      "metadata": {
        "id": "Xs3bZwqz4NeW"
      },
      "execution_count": 8,
      "outputs": []
    },
    {
      "cell_type": "markdown",
      "metadata": {
        "id": "E8v0PtUfaVQp"
      },
      "source": [
        "### Training the DQN agent"
      ]
    },
    {
      "cell_type": "code",
      "source": [
        "number_episodes = 2000\n",
        "maximum_number_timesteps_per_episode = 1000\n",
        "epsilon_starting_value = 1.0\n",
        "epsilon_ending_value = 0.01\n",
        "epsilon_decay_value = 0.995\n",
        "epsilon = epsilon_starting_value\n",
        "scores_on_100_episodes = deque(maxlen = 100)\n",
        "\n",
        "for episode in range(1, number_episodes + 1):\n",
        "  state, _ = env.reset()\n",
        "  score = 0\n",
        "  for t in range(maximum_number_timesteps_per_episode):\n",
        "    action = agent.act(state, epsilon)\n",
        "    next_state, reward, done, _, _ = env.step(action)\n",
        "    agent.step(state, action, reward, next_state, done)\n",
        "    state = next_state\n",
        "    score += reward\n",
        "    if done:\n",
        "      break\n",
        "  scores_on_100_episodes.append(score)\n",
        "  epsilon = max(epsilon_ending_value, epsilon_decay_value * epsilon)\n",
        "  print('\\rEpisode {}\\tAverage Score: {:.2f}'.format(episode, np.mean(scores_on_100_episodes)), end=\"\")\n",
        "  if episode % 100 == 0:\n",
        "    print('\\rEpisode {}\\tAverage Score: {:.2f}'.format(episode, np.mean(scores_on_100_episodes)))\n",
        "  if np.mean(scores_on_100_episodes) >= 200.0:\n",
        "    print('\\Enviroment solved in {:d} episodes!\\tAverage Score: {:.2f}'.format(episode - 100, np.mean(scores_on_100_episodes)))\n",
        "    torch.save(agent.local_qnetwork.state_dict(), 'checkpoint.pth')\n",
        "    break"
      ],
      "metadata": {
        "colab": {
          "base_uri": "https://localhost:8080/"
        },
        "id": "kWLha7uHGA-U",
        "outputId": "48d94f5b-54f0-4724-9cfe-3897c3bc32af"
      },
      "execution_count": 11,
      "outputs": [
        {
          "output_type": "stream",
          "name": "stdout",
          "text": [
            "Episode 100\tAverage Score: -122.29\n",
            "Episode 200\tAverage Score: -52.24\n",
            "Episode 300\tAverage Score: 15.33\n",
            "Episode 400\tAverage Score: 156.09\n",
            "Episode 490\tAverage Score: 201.20\\Enviroment solved in 390 episodes!\tAverage Score: 201.20\n"
          ]
        }
      ]
    },
    {
      "cell_type": "markdown",
      "metadata": {
        "id": "O8CNwdOTcCoP"
      },
      "source": [
        "## Part 3 - Visualizing the results"
      ]
    },
    {
      "cell_type": "code",
      "execution_count": 14,
      "metadata": {
        "id": "cb9nVvU2Okhk",
        "colab": {
          "base_uri": "https://localhost:8080/",
          "height": 421
        },
        "outputId": "18c8a665-2181-475b-8874-0aa4a9171a59"
      },
      "outputs": [
        {
          "output_type": "display_data",
          "data": {
            "text/plain": [
              "<IPython.core.display.HTML object>"
            ],
            "text/html": [
              "<video alt=\"test\" autoplay\n",
              "                loop controls style=\"height: 400px;\">\n",
              "                <source src=\"data:video/mp4;base64,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\" type=\"video/mp4\" />\n",
              "             </video>"
            ]
          },
          "metadata": {}
        }
      ],
      "source": [
        "import glob\n",
        "import cv2\n",
        "import io\n",
        "import base64\n",
        "import imageio\n",
        "from IPython.display import HTML, display\n",
        "from gym.wrappers.monitoring.video_recorder import VideoRecorder\n",
        "\n",
        "def show_video_of_model(agent, env_name):\n",
        "    env = gym.make(env_name, render_mode='rgb_array')\n",
        "    state, _ = env.reset()\n",
        "    done = False\n",
        "    frames = []\n",
        "    while not done:\n",
        "        frame = env.render()\n",
        "        frame = cv2.resize(frame, (608, 400))\n",
        "        frames.append(frame)\n",
        "        action = agent.act(state)\n",
        "        state, reward, done, _, _ = env.step(action.item())\n",
        "    env.close()\n",
        "    imageio.mimsave('/content/video.mp4', frames, fps=30)\n",
        "\n",
        "show_video_of_model(agent, 'LunarLander-v3')\n",
        "\n",
        "def show_video():\n",
        "    mp4list = glob.glob('*.mp4')\n",
        "    if len(mp4list) > 0:\n",
        "        mp4 = mp4list[0]\n",
        "        video = io.open(mp4, 'r+b').read()\n",
        "        encoded = base64.b64encode(video)\n",
        "        display(HTML(data='''<video alt=\"test\" autoplay\n",
        "                loop controls style=\"height: 400px;\">\n",
        "                <source src=\"data:video/mp4;base64,{0}\" type=\"video/mp4\" />\n",
        "             </video>'''.format(encoded.decode('ascii'))))\n",
        "    else:\n",
        "        print(\"Could not find video\")\n",
        "\n",
        "show_video()"
      ]
    }
  ],
  "metadata": {
    "colab": {
      "provenance": [],
      "include_colab_link": true
    },
    "kernelspec": {
      "display_name": "Python 3",
      "name": "python3"
    },
    "language_info": {
      "name": "python"
    }
  },
  "nbformat": 4,
  "nbformat_minor": 0
}